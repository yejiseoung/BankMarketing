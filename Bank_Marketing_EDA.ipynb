{
 "cells": [
  {
   "cell_type": "markdown",
   "id": "4d71a9d8",
   "metadata": {
    "toc": true
   },
   "source": [
    "<h1>Table of Contents<span class=\"tocSkip\"></span></h1>\n",
    "<div class=\"toc\"><ul class=\"toc-item\"><li><ul class=\"toc-item\"><li><span><a href=\"#Load-data\" data-toc-modified-id=\"Load-data-0.1\"><span class=\"toc-item-num\">0.1&nbsp;&nbsp;</span>Load data</a></span><ul class=\"toc-item\"><li><span><a href=\"#Insight:-Numeric-variables-have-different-scales,-so-we-need-to-use-feature-scaling-methods-before-building-a-model.\" data-toc-modified-id=\"Insight:-Numeric-variables-have-different-scales,-so-we-need-to-use-feature-scaling-methods-before-building-a-model.-0.1.1\"><span class=\"toc-item-num\">0.1.1&nbsp;&nbsp;</span>Insight: Numeric variables have different scales, so we need to use feature scaling methods before building a model.</a></span></li></ul></li></ul></li><li><span><a href=\"#Data-Exploration\" data-toc-modified-id=\"Data-Exploration-1\"><span class=\"toc-item-num\">1&nbsp;&nbsp;</span>Data Exploration</a></span><ul class=\"toc-item\"><li><span><a href=\"#Target-variable\" data-toc-modified-id=\"Target-variable-1.1\"><span class=\"toc-item-num\">1.1&nbsp;&nbsp;</span>Target variable</a></span><ul class=\"toc-item\"><li><span><a href=\"#Insight:-need-to-use-oversampling-or-undersampling-methods-for-this-dataset.\" data-toc-modified-id=\"Insight:-need-to-use-oversampling-or-undersampling-methods-for-this-dataset.-1.1.1\"><span class=\"toc-item-num\">1.1.1&nbsp;&nbsp;</span>Insight: need to use oversampling or undersampling methods for this dataset.</a></span></li></ul></li><li><span><a href=\"#Numerical-variables\" data-toc-modified-id=\"Numerical-variables-1.2\"><span class=\"toc-item-num\">1.2&nbsp;&nbsp;</span>Numerical variables</a></span><ul class=\"toc-item\"><li><span><a href=\"#Insight:-Deal-with-outliers-(age,-duration,-campaign)\" data-toc-modified-id=\"Insight:-Deal-with-outliers-(age,-duration,-campaign)-1.2.1\"><span class=\"toc-item-num\">1.2.1&nbsp;&nbsp;</span>Insight: Deal with outliers (age, duration, campaign)</a></span></li><li><span><a href=\"#Insight:-pdays---change-this-to-categorical-variable-(&lt;-one-week,-&lt;-two-weeks,-&gt;-two-weeks)-or-deal-with-rare-lables.\" data-toc-modified-id=\"Insight:-pdays---change-this-to-categorical-variable-(<-one-week,-<-two-weeks,->-two-weeks)-or-deal-with-rare-lables.-1.2.2\"><span class=\"toc-item-num\">1.2.2&nbsp;&nbsp;</span>Insight: pdays - change this to categorical variable (&lt; one week, &lt; two weeks, &gt; two weeks) or deal with rare lables.</a></span></li></ul></li><li><span><a href=\"#Feature-engineering-for-Numerical-variables\" data-toc-modified-id=\"Feature-engineering-for-Numerical-variables-1.3\"><span class=\"toc-item-num\">1.3&nbsp;&nbsp;</span>Feature engineering for Numerical variables</a></span></li><li><span><a href=\"#Categorical-variables\" data-toc-modified-id=\"Categorical-variables-1.4\"><span class=\"toc-item-num\">1.4&nbsp;&nbsp;</span>Categorical variables</a></span></li></ul></li><li><span><a href=\"#Data-Visualization\" data-toc-modified-id=\"Data-Visualization-2\"><span class=\"toc-item-num\">2&nbsp;&nbsp;</span>Data Visualization</a></span></li></ul></div>"
   ]
  },
  {
   "cell_type": "markdown",
   "id": "0f409f7c",
   "metadata": {},
   "source": [
    "# Bank Marketing_UCI"
   ]
  },
  {
   "cell_type": "markdown",
   "id": "28ef1e2b",
   "metadata": {},
   "source": [
    "The dataset is provided by [UCI-Machine Learning Repository](https://archive.ics.uci.edu/ml/datasets/bank+marketing). The data contains direct marketing campaigns (phone calls) of a Portuguese banking institution. Often, more than one contact to the same client was required, in order to access if the product (bank term deposit) would be 'yes' or 'no' subscribed. The main goal of this project is to predict if the client will subscribe a term deposit (variable y). \n",
    "\n",
    "- Reference: [Moro et al., 2014] S. Moro, P. Cortez and P. Rita. A Data-Driven Approach to Predict the Success of Bank Telemarketing. Decision Support Systems, Elsevier, 62:22-31, June 2014\n",
    "\n",
    "\n",
    "Here is the attribute information:\n",
    "\n",
    "- Independent variables:\n",
    "- 1) bank client data:\n",
    "    - 1 - age (numeric)\n",
    "    - 2 - job : type of job (categorical: 'admin.','blue-collar','entrepreneur','housemaid','management','retired','self-employed','services','student','technician','unemployed','unknown')\n",
    "    - 3 - marital : marital status (categorical: 'divorced','married','single','unknown'; note: 'divorced' means divorced or widowed)\n",
    "    - 4 - education (categorical: 'basic.4y','basic.6y','basic.9y','high.school','illiterate','professional.course','university.degree','unknown')\n",
    "    - 5 - default: has credit in default? (categorical: 'no','yes','unknown')\n",
    "    - 6 - housing: has housing loan? (categorical: 'no','yes','unknown')\n",
    "    - 7 - loan: has personal loan? (categorical: 'no','yes','unknown')\n",
    "\n",
    "- 2) related with the last contact of the current campaign:\n",
    "    - 8 - contact: contact communication type (categorical: 'cellular','telephone')\n",
    "    - 9 - month: last contact month of year (categorical: 'jan', 'feb', 'mar', ..., 'nov', 'dec')\n",
    "    - 10 - day_of_week: last contact day of the week (categorical: 'mon','tue','wed','thu','fri')\n",
    "    - 11 - duration: last contact duration, in seconds (numeric). Important note: this attribute highly affects the output target (e.g., if duration=0 then y='no'). Yet, the duration is not known before a call is performed. Also, after the end of the call y is obviously known. Thus, this input should only be included for benchmark purposes and should be discarded if the intention is to have a realistic predictive model.\n",
    "\n",
    "- 3) other attributes:\n",
    "    - 12 - campaign: number of contacts performed during this campaign and for this client (numeric, includes last contact)\n",
    "    - 13 - pdays: number of days that passed by after the client was last contacted from a previous campaign (numeric; 999 means client was not previously contacted)\n",
    "    - 14 - previous: number of contacts performed before this campaign and for this client (numeric)\n",
    "    - 15 - poutcome: outcome of the previous marketing campaign (categorical: 'failure','nonexistent','success')\n",
    "\n",
    "- 4) social and economic context attributes\n",
    "    - 16 - emp.var.rate: employment variation rate - quarterly indicator (numeric)\n",
    "    - 17 - cons.price.idx: consumer price index - monthly indicator (numeric)\n",
    "    - 18 - cons.conf.idx: consumer confidence index - monthly indicator (numeric)\n",
    "    - 19 - euribor3m: euribor 3 month rate - daily indicator (numeric)\n",
    "    - 20 - nr.employed: number of employees - quarterly indicator (numeric)\n",
    "\n",
    "- Dependent variable (desired target):\n",
    "    - 21 - y - has the client subscribed a term deposit? (binary: 'yes','no')\n"
   ]
  },
  {
   "cell_type": "markdown",
   "id": "60591913",
   "metadata": {},
   "source": [
    "### Load data"
   ]
  },
  {
   "cell_type": "code",
   "execution_count": 1,
   "id": "4d9c628e",
   "metadata": {},
   "outputs": [],
   "source": [
    "import numpy as np\n",
    "import pandas as pd\n",
    "import seaborn as sns\n",
    "import matplotlib.pyplot as plt\n",
    "import scipy.stats as stats\n",
    "\n",
    "from sklearn.model_selection import train_test_split\n",
    "\n",
    "\n",
    "pd.set_option('display.max_columns', None)\n",
    "pd.set_option('display.max_rows', None)"
   ]
  },
  {
   "cell_type": "code",
   "execution_count": 2,
   "id": "e0b580d7",
   "metadata": {},
   "outputs": [
    {
     "data": {
      "text/plain": [
       "'/Users/yejiseoung/Dropbox/My Mac (Yejis-MacBook-Pro.local)/Documents/Projects/BankMarketing'"
      ]
     },
     "execution_count": 2,
     "metadata": {},
     "output_type": "execute_result"
    }
   ],
   "source": [
    "from pathlib import Path\n",
    "import os\n",
    "os.getcwd()"
   ]
  },
  {
   "cell_type": "code",
   "execution_count": 3,
   "id": "38b4f899",
   "metadata": {},
   "outputs": [],
   "source": [
    "path = Path('/Users/yejiseoung/Dropbox/My Mac (Yejis-MacBook-Pro.local)/Documents/Projects/BankMarketing')"
   ]
  },
  {
   "cell_type": "code",
   "execution_count": 4,
   "id": "274d7005",
   "metadata": {},
   "outputs": [],
   "source": [
    "data = pd.read_csv(path/'bank.csv', delimiter=';')"
   ]
  },
  {
   "cell_type": "code",
   "execution_count": 5,
   "id": "35480c84",
   "metadata": {
    "scrolled": true
   },
   "outputs": [
    {
     "data": {
      "text/html": [
       "<div>\n",
       "<style scoped>\n",
       "    .dataframe tbody tr th:only-of-type {\n",
       "        vertical-align: middle;\n",
       "    }\n",
       "\n",
       "    .dataframe tbody tr th {\n",
       "        vertical-align: top;\n",
       "    }\n",
       "\n",
       "    .dataframe thead th {\n",
       "        text-align: right;\n",
       "    }\n",
       "</style>\n",
       "<table border=\"1\" class=\"dataframe\">\n",
       "  <thead>\n",
       "    <tr style=\"text-align: right;\">\n",
       "      <th></th>\n",
       "      <th>age</th>\n",
       "      <th>job</th>\n",
       "      <th>marital</th>\n",
       "      <th>education</th>\n",
       "      <th>default</th>\n",
       "      <th>housing</th>\n",
       "      <th>loan</th>\n",
       "      <th>contact</th>\n",
       "      <th>month</th>\n",
       "      <th>day_of_week</th>\n",
       "      <th>duration</th>\n",
       "      <th>campaign</th>\n",
       "      <th>pdays</th>\n",
       "      <th>previous</th>\n",
       "      <th>poutcome</th>\n",
       "      <th>emp.var.rate</th>\n",
       "      <th>cons.price.idx</th>\n",
       "      <th>cons.conf.idx</th>\n",
       "      <th>euribor3m</th>\n",
       "      <th>nr.employed</th>\n",
       "      <th>y</th>\n",
       "    </tr>\n",
       "  </thead>\n",
       "  <tbody>\n",
       "    <tr>\n",
       "      <th>0</th>\n",
       "      <td>56</td>\n",
       "      <td>housemaid</td>\n",
       "      <td>married</td>\n",
       "      <td>basic.4y</td>\n",
       "      <td>no</td>\n",
       "      <td>no</td>\n",
       "      <td>no</td>\n",
       "      <td>telephone</td>\n",
       "      <td>may</td>\n",
       "      <td>mon</td>\n",
       "      <td>261</td>\n",
       "      <td>1</td>\n",
       "      <td>999</td>\n",
       "      <td>0</td>\n",
       "      <td>nonexistent</td>\n",
       "      <td>1.1</td>\n",
       "      <td>93.994</td>\n",
       "      <td>-36.4</td>\n",
       "      <td>4.857</td>\n",
       "      <td>5191.0</td>\n",
       "      <td>no</td>\n",
       "    </tr>\n",
       "    <tr>\n",
       "      <th>1</th>\n",
       "      <td>57</td>\n",
       "      <td>services</td>\n",
       "      <td>married</td>\n",
       "      <td>high.school</td>\n",
       "      <td>unknown</td>\n",
       "      <td>no</td>\n",
       "      <td>no</td>\n",
       "      <td>telephone</td>\n",
       "      <td>may</td>\n",
       "      <td>mon</td>\n",
       "      <td>149</td>\n",
       "      <td>1</td>\n",
       "      <td>999</td>\n",
       "      <td>0</td>\n",
       "      <td>nonexistent</td>\n",
       "      <td>1.1</td>\n",
       "      <td>93.994</td>\n",
       "      <td>-36.4</td>\n",
       "      <td>4.857</td>\n",
       "      <td>5191.0</td>\n",
       "      <td>no</td>\n",
       "    </tr>\n",
       "    <tr>\n",
       "      <th>2</th>\n",
       "      <td>37</td>\n",
       "      <td>services</td>\n",
       "      <td>married</td>\n",
       "      <td>high.school</td>\n",
       "      <td>no</td>\n",
       "      <td>yes</td>\n",
       "      <td>no</td>\n",
       "      <td>telephone</td>\n",
       "      <td>may</td>\n",
       "      <td>mon</td>\n",
       "      <td>226</td>\n",
       "      <td>1</td>\n",
       "      <td>999</td>\n",
       "      <td>0</td>\n",
       "      <td>nonexistent</td>\n",
       "      <td>1.1</td>\n",
       "      <td>93.994</td>\n",
       "      <td>-36.4</td>\n",
       "      <td>4.857</td>\n",
       "      <td>5191.0</td>\n",
       "      <td>no</td>\n",
       "    </tr>\n",
       "    <tr>\n",
       "      <th>3</th>\n",
       "      <td>40</td>\n",
       "      <td>admin.</td>\n",
       "      <td>married</td>\n",
       "      <td>basic.6y</td>\n",
       "      <td>no</td>\n",
       "      <td>no</td>\n",
       "      <td>no</td>\n",
       "      <td>telephone</td>\n",
       "      <td>may</td>\n",
       "      <td>mon</td>\n",
       "      <td>151</td>\n",
       "      <td>1</td>\n",
       "      <td>999</td>\n",
       "      <td>0</td>\n",
       "      <td>nonexistent</td>\n",
       "      <td>1.1</td>\n",
       "      <td>93.994</td>\n",
       "      <td>-36.4</td>\n",
       "      <td>4.857</td>\n",
       "      <td>5191.0</td>\n",
       "      <td>no</td>\n",
       "    </tr>\n",
       "    <tr>\n",
       "      <th>4</th>\n",
       "      <td>56</td>\n",
       "      <td>services</td>\n",
       "      <td>married</td>\n",
       "      <td>high.school</td>\n",
       "      <td>no</td>\n",
       "      <td>no</td>\n",
       "      <td>yes</td>\n",
       "      <td>telephone</td>\n",
       "      <td>may</td>\n",
       "      <td>mon</td>\n",
       "      <td>307</td>\n",
       "      <td>1</td>\n",
       "      <td>999</td>\n",
       "      <td>0</td>\n",
       "      <td>nonexistent</td>\n",
       "      <td>1.1</td>\n",
       "      <td>93.994</td>\n",
       "      <td>-36.4</td>\n",
       "      <td>4.857</td>\n",
       "      <td>5191.0</td>\n",
       "      <td>no</td>\n",
       "    </tr>\n",
       "  </tbody>\n",
       "</table>\n",
       "</div>"
      ],
      "text/plain": [
       "   age        job  marital    education  default housing loan    contact  \\\n",
       "0   56  housemaid  married     basic.4y       no      no   no  telephone   \n",
       "1   57   services  married  high.school  unknown      no   no  telephone   \n",
       "2   37   services  married  high.school       no     yes   no  telephone   \n",
       "3   40     admin.  married     basic.6y       no      no   no  telephone   \n",
       "4   56   services  married  high.school       no      no  yes  telephone   \n",
       "\n",
       "  month day_of_week  duration  campaign  pdays  previous     poutcome  \\\n",
       "0   may         mon       261         1    999         0  nonexistent   \n",
       "1   may         mon       149         1    999         0  nonexistent   \n",
       "2   may         mon       226         1    999         0  nonexistent   \n",
       "3   may         mon       151         1    999         0  nonexistent   \n",
       "4   may         mon       307         1    999         0  nonexistent   \n",
       "\n",
       "   emp.var.rate  cons.price.idx  cons.conf.idx  euribor3m  nr.employed   y  \n",
       "0           1.1          93.994          -36.4      4.857       5191.0  no  \n",
       "1           1.1          93.994          -36.4      4.857       5191.0  no  \n",
       "2           1.1          93.994          -36.4      4.857       5191.0  no  \n",
       "3           1.1          93.994          -36.4      4.857       5191.0  no  \n",
       "4           1.1          93.994          -36.4      4.857       5191.0  no  "
      ]
     },
     "execution_count": 5,
     "metadata": {},
     "output_type": "execute_result"
    }
   ],
   "source": [
    "data.head()"
   ]
  },
  {
   "cell_type": "code",
   "execution_count": 6,
   "id": "60ed9057",
   "metadata": {},
   "outputs": [
    {
     "data": {
      "text/plain": [
       "(41188, 21)"
      ]
     },
     "execution_count": 6,
     "metadata": {},
     "output_type": "execute_result"
    }
   ],
   "source": [
    "data.shape"
   ]
  },
  {
   "cell_type": "markdown",
   "id": "3a5c6a0a",
   "metadata": {},
   "source": [
    "Let's take a look at basic information on dataset"
   ]
  },
  {
   "cell_type": "code",
   "execution_count": 7,
   "id": "a7e5ee48",
   "metadata": {},
   "outputs": [
    {
     "data": {
      "text/html": [
       "<div>\n",
       "<style scoped>\n",
       "    .dataframe tbody tr th:only-of-type {\n",
       "        vertical-align: middle;\n",
       "    }\n",
       "\n",
       "    .dataframe tbody tr th {\n",
       "        vertical-align: top;\n",
       "    }\n",
       "\n",
       "    .dataframe thead th {\n",
       "        text-align: right;\n",
       "    }\n",
       "</style>\n",
       "<table border=\"1\" class=\"dataframe\">\n",
       "  <thead>\n",
       "    <tr style=\"text-align: right;\">\n",
       "      <th></th>\n",
       "      <th>age</th>\n",
       "      <th>duration</th>\n",
       "      <th>campaign</th>\n",
       "      <th>pdays</th>\n",
       "      <th>previous</th>\n",
       "      <th>emp.var.rate</th>\n",
       "      <th>cons.price.idx</th>\n",
       "      <th>cons.conf.idx</th>\n",
       "      <th>euribor3m</th>\n",
       "      <th>nr.employed</th>\n",
       "    </tr>\n",
       "  </thead>\n",
       "  <tbody>\n",
       "    <tr>\n",
       "      <th>count</th>\n",
       "      <td>41188.00000</td>\n",
       "      <td>41188.000000</td>\n",
       "      <td>41188.000000</td>\n",
       "      <td>41188.000000</td>\n",
       "      <td>41188.000000</td>\n",
       "      <td>41188.000000</td>\n",
       "      <td>41188.000000</td>\n",
       "      <td>41188.000000</td>\n",
       "      <td>41188.000000</td>\n",
       "      <td>41188.000000</td>\n",
       "    </tr>\n",
       "    <tr>\n",
       "      <th>mean</th>\n",
       "      <td>40.02406</td>\n",
       "      <td>258.285010</td>\n",
       "      <td>2.567593</td>\n",
       "      <td>962.475454</td>\n",
       "      <td>0.172963</td>\n",
       "      <td>0.081886</td>\n",
       "      <td>93.575664</td>\n",
       "      <td>-40.502600</td>\n",
       "      <td>3.621291</td>\n",
       "      <td>5167.035911</td>\n",
       "    </tr>\n",
       "    <tr>\n",
       "      <th>std</th>\n",
       "      <td>10.42125</td>\n",
       "      <td>259.279249</td>\n",
       "      <td>2.770014</td>\n",
       "      <td>186.910907</td>\n",
       "      <td>0.494901</td>\n",
       "      <td>1.570960</td>\n",
       "      <td>0.578840</td>\n",
       "      <td>4.628198</td>\n",
       "      <td>1.734447</td>\n",
       "      <td>72.251528</td>\n",
       "    </tr>\n",
       "    <tr>\n",
       "      <th>min</th>\n",
       "      <td>17.00000</td>\n",
       "      <td>0.000000</td>\n",
       "      <td>1.000000</td>\n",
       "      <td>0.000000</td>\n",
       "      <td>0.000000</td>\n",
       "      <td>-3.400000</td>\n",
       "      <td>92.201000</td>\n",
       "      <td>-50.800000</td>\n",
       "      <td>0.634000</td>\n",
       "      <td>4963.600000</td>\n",
       "    </tr>\n",
       "    <tr>\n",
       "      <th>25%</th>\n",
       "      <td>32.00000</td>\n",
       "      <td>102.000000</td>\n",
       "      <td>1.000000</td>\n",
       "      <td>999.000000</td>\n",
       "      <td>0.000000</td>\n",
       "      <td>-1.800000</td>\n",
       "      <td>93.075000</td>\n",
       "      <td>-42.700000</td>\n",
       "      <td>1.344000</td>\n",
       "      <td>5099.100000</td>\n",
       "    </tr>\n",
       "    <tr>\n",
       "      <th>50%</th>\n",
       "      <td>38.00000</td>\n",
       "      <td>180.000000</td>\n",
       "      <td>2.000000</td>\n",
       "      <td>999.000000</td>\n",
       "      <td>0.000000</td>\n",
       "      <td>1.100000</td>\n",
       "      <td>93.749000</td>\n",
       "      <td>-41.800000</td>\n",
       "      <td>4.857000</td>\n",
       "      <td>5191.000000</td>\n",
       "    </tr>\n",
       "    <tr>\n",
       "      <th>75%</th>\n",
       "      <td>47.00000</td>\n",
       "      <td>319.000000</td>\n",
       "      <td>3.000000</td>\n",
       "      <td>999.000000</td>\n",
       "      <td>0.000000</td>\n",
       "      <td>1.400000</td>\n",
       "      <td>93.994000</td>\n",
       "      <td>-36.400000</td>\n",
       "      <td>4.961000</td>\n",
       "      <td>5228.100000</td>\n",
       "    </tr>\n",
       "    <tr>\n",
       "      <th>max</th>\n",
       "      <td>98.00000</td>\n",
       "      <td>4918.000000</td>\n",
       "      <td>56.000000</td>\n",
       "      <td>999.000000</td>\n",
       "      <td>7.000000</td>\n",
       "      <td>1.400000</td>\n",
       "      <td>94.767000</td>\n",
       "      <td>-26.900000</td>\n",
       "      <td>5.045000</td>\n",
       "      <td>5228.100000</td>\n",
       "    </tr>\n",
       "  </tbody>\n",
       "</table>\n",
       "</div>"
      ],
      "text/plain": [
       "               age      duration      campaign         pdays      previous  \\\n",
       "count  41188.00000  41188.000000  41188.000000  41188.000000  41188.000000   \n",
       "mean      40.02406    258.285010      2.567593    962.475454      0.172963   \n",
       "std       10.42125    259.279249      2.770014    186.910907      0.494901   \n",
       "min       17.00000      0.000000      1.000000      0.000000      0.000000   \n",
       "25%       32.00000    102.000000      1.000000    999.000000      0.000000   \n",
       "50%       38.00000    180.000000      2.000000    999.000000      0.000000   \n",
       "75%       47.00000    319.000000      3.000000    999.000000      0.000000   \n",
       "max       98.00000   4918.000000     56.000000    999.000000      7.000000   \n",
       "\n",
       "       emp.var.rate  cons.price.idx  cons.conf.idx     euribor3m   nr.employed  \n",
       "count  41188.000000    41188.000000   41188.000000  41188.000000  41188.000000  \n",
       "mean       0.081886       93.575664     -40.502600      3.621291   5167.035911  \n",
       "std        1.570960        0.578840       4.628198      1.734447     72.251528  \n",
       "min       -3.400000       92.201000     -50.800000      0.634000   4963.600000  \n",
       "25%       -1.800000       93.075000     -42.700000      1.344000   5099.100000  \n",
       "50%        1.100000       93.749000     -41.800000      4.857000   5191.000000  \n",
       "75%        1.400000       93.994000     -36.400000      4.961000   5228.100000  \n",
       "max        1.400000       94.767000     -26.900000      5.045000   5228.100000  "
      ]
     },
     "execution_count": 7,
     "metadata": {},
     "output_type": "execute_result"
    }
   ],
   "source": [
    "data.describe()"
   ]
  },
  {
   "cell_type": "markdown",
   "id": "f7e9d6b9",
   "metadata": {},
   "source": [
    "#### Insight: Numeric variables have different scales, so we need to use feature scaling methods before building a model. "
   ]
  },
  {
   "cell_type": "markdown",
   "id": "84afbf13",
   "metadata": {},
   "source": [
    "Let's check if we have missing data. "
   ]
  },
  {
   "cell_type": "code",
   "execution_count": 8,
   "id": "030cbfbe",
   "metadata": {},
   "outputs": [
    {
     "data": {
      "text/plain": [
       "[]"
      ]
     },
     "execution_count": 8,
     "metadata": {},
     "output_type": "execute_result"
    }
   ],
   "source": [
    "# missing data\n",
    "[var for var in data.columns if data[var].isnull().sum() > 0]"
   ]
  },
  {
   "cell_type": "markdown",
   "id": "6c485081",
   "metadata": {},
   "source": [
    "There is no missing data. \n",
    "\n",
    "Let's create two lists for categorical variable and numerical variable for later exploration."
   ]
  },
  {
   "cell_type": "code",
   "execution_count": 9,
   "id": "143cc931",
   "metadata": {},
   "outputs": [
    {
     "data": {
      "text/plain": [
       "age                 int64\n",
       "job                object\n",
       "marital            object\n",
       "education          object\n",
       "default            object\n",
       "housing            object\n",
       "loan               object\n",
       "contact            object\n",
       "month              object\n",
       "day_of_week        object\n",
       "duration            int64\n",
       "campaign            int64\n",
       "pdays               int64\n",
       "previous            int64\n",
       "poutcome           object\n",
       "emp.var.rate      float64\n",
       "cons.price.idx    float64\n",
       "cons.conf.idx     float64\n",
       "euribor3m         float64\n",
       "nr.employed       float64\n",
       "y                  object\n",
       "dtype: object"
      ]
     },
     "execution_count": 9,
     "metadata": {},
     "output_type": "execute_result"
    }
   ],
   "source": [
    "# data dtypes\n",
    "data.dtypes"
   ]
  },
  {
   "cell_type": "code",
   "execution_count": 10,
   "id": "fcb676e9",
   "metadata": {},
   "outputs": [
    {
     "name": "stdout",
     "output_type": "stream",
     "text": [
      "There are 10 categorical variables\n",
      "There are 10 numerical variables\n"
     ]
    }
   ],
   "source": [
    "# target variable\n",
    "target = 'y'\n",
    "\n",
    "# categorical variables\n",
    "cat_vars = [var for var in data.columns if var != 'y' and data[var].dtype=='O']\n",
    "\n",
    "# numerical variables\n",
    "num_vars = [var for var in data.columns if var != 'y' and var not in cat_vars]\n",
    "\n",
    "print('There are {} categorical variables'.format(len(cat_vars)))\n",
    "print('There are {} numerical variables'.format(len(num_vars)))"
   ]
  },
  {
   "cell_type": "markdown",
   "id": "f02827d8",
   "metadata": {},
   "source": [
    "## Data Exploration"
   ]
  },
  {
   "cell_type": "markdown",
   "id": "5cb4edfa",
   "metadata": {},
   "source": [
    "In this section, I will explore the data. "
   ]
  },
  {
   "cell_type": "markdown",
   "id": "542aee91",
   "metadata": {},
   "source": [
    "### Target variable"
   ]
  },
  {
   "cell_type": "markdown",
   "id": "583d235a",
   "metadata": {},
   "source": [
    "We have a classification problem and the target is binary variable (yes/no). Let's see the percentage of the value distribution of target. "
   ]
  },
  {
   "cell_type": "code",
   "execution_count": 11,
   "id": "c5b3a908",
   "metadata": {
    "scrolled": true
   },
   "outputs": [
    {
     "data": {
      "text/plain": [
       "no     0.887346\n",
       "yes    0.112654\n",
       "Name: y, dtype: float64"
      ]
     },
     "execution_count": 11,
     "metadata": {},
     "output_type": "execute_result"
    }
   ],
   "source": [
    "# target variable\n",
    "# this is imbalanced data.. \n",
    "\n",
    "(data[target].value_counts()) / len(data)"
   ]
  },
  {
   "cell_type": "markdown",
   "id": "f82d2c2d",
   "metadata": {},
   "source": [
    "We can see that this dataset is imbalanced. About 89% of the data has 'no' answer. This can be a problem because most machine learning algorithms assume balanced distributions. As the minority examples (here 'yes' answer) occur rarely, it is hard to find (or predict) small classes. Samples from the minority class are most often misclassified. Therefore, we need to deal with this imbalanced dataset carefully. \n",
    "\n",
    "#### Insight: need to use oversampling or undersampling methods for this dataset. "
   ]
  },
  {
   "cell_type": "markdown",
   "id": "560337d9",
   "metadata": {},
   "source": [
    "### Numerical variables\n",
    "\n",
    "We have 10 numerical variables. We can have discrete variables and continuous variables. "
   ]
  },
  {
   "cell_type": "code",
   "execution_count": 12,
   "id": "07b0fe4e",
   "metadata": {},
   "outputs": [
    {
     "name": "stdout",
     "output_type": "stream",
     "text": [
      "There are 9 continous variables\n",
      "The continous variables are: ['age', 'duration', 'campaign', 'pdays', 'emp.var.rate', 'cons.price.idx', 'cons.conf.idx', 'euribor3m', 'nr.employed']\n",
      "\n",
      "There are 1 discrete variables\n",
      "The discrete variable is: ['previous']\n"
     ]
    }
   ],
   "source": [
    "# create continous and discrete variable lists \n",
    "continous = []\n",
    "discrete = []\n",
    "for num in num_vars:\n",
    "    if data[num].nunique() < 10:\n",
    "        discrete.append(num)\n",
    "    else: \n",
    "        continous.append(num)\n",
    "        \n",
    "print('There are {} continous variables'.format(len(continous)))\n",
    "print('The continous variables are: {}'.format(continous))\n",
    "print('')\n",
    "print('There are {} discrete variables'.format(len(discrete)))\n",
    "print('The discrete variable is: {}'.format(discrete))"
   ]
  },
  {
   "cell_type": "markdown",
   "id": "26489ac4",
   "metadata": {},
   "source": [
    "Except for `previous`, other 9 variables are continous variables. \n",
    "\n",
    "Let's see the distribution of continous variables and figure out it they have outliers. "
   ]
  },
  {
   "cell_type": "code",
   "execution_count": 13,
   "id": "6f3f3047",
   "metadata": {},
   "outputs": [],
   "source": [
    "def plot_nums(df, variable):\n",
    "    \"\"\" Function to visualize histogram, q-q plot and box plot for continous variables\"\"\"\n",
    "    plt.figure(figsize=(16, 4))\n",
    "    \n",
    "    plt.subplot(1,3,1)\n",
    "    df[variable].hist(bins=30)\n",
    "    plt.title('Histogram')\n",
    "    plt.xlabel(variable)\n",
    "    \n",
    "    plt.subplot(1,3,2)\n",
    "    stats.probplot(df[variable], plot=plt)\n",
    "    \n",
    "    plt.subplot(1,3,3)\n",
    "    sns.boxplot(y=df[variable])\n",
    "    plt.title('Boxplot')\n",
    "    \n",
    "    plt.show()"
   ]
  },
  {
   "cell_type": "code",
   "execution_count": 14,
   "id": "3880d9df",
   "metadata": {
    "scrolled": false
   },
   "outputs": [
    {
     "data": {
      "image/png": "[encoded data removed]",
      "text/plain": [
       "<Figure size 1152x288 with 3 Axes>"
      ]
     },
     "metadata": {
      "needs_background": "light"
     },
     "output_type": "display_data"
    },
    {
     "data": {
      "image/png": "[encoded data removed]",
      "text/plain": [
       "<Figure size 1152x288 with 3 Axes>"
      ]
     },
     "metadata": {
      "needs_background": "light"
     },
     "output_type": "display_data"
    },
    {
     "data": {
      "image/png": "[encoded data removed]",
      "text/plain": [
       "<Figure size 1152x288 with 3 Axes>"
      ]
     },
     "metadata": {
      "needs_background": "light"
     },
     "output_type": "display_data"
    },
    {
     "data": {
      "image/png": "[encoded data removed]",
      "text/plain": [
       "<Figure size 1152x288 with 3 Axes>"
      ]
     },
     "metadata": {
      "needs_background": "light"
     },
     "output_type": "display_data"
    },
    {
     "data": {
      "image/png": "[encoded data removed]",
      "text/plain": [
       "<Figure size 1152x288 with 3 Axes>"
      ]
     },
     "metadata": {
      "needs_background": "light"
     },
     "output_type": "display_data"
    },
    {
     "data": {
      "image/png": "[encoded data removed]",
      "text/plain": [
       "<Figure size 1152x288 with 3 Axes>"
      ]
     },
     "metadata": {
      "needs_background": "light"
     },
     "output_type": "display_data"
    },
    {
     "data": {
      "image/png": "[encoded data removed]",
      "text/plain": [
       "<Figure size 1152x288 with 3 Axes>"
      ]
     },
     "metadata": {
      "needs_background": "light"
     },
     "output_type": "display_data"
    },
    {
     "data": {
      "image/png": "[encoded data removed]",
      "text/plain": [
       "<Figure size 1152x288 with 3 Axes>"
      ]
     },
     "metadata": {
      "needs_background": "light"
     },
     "output_type": "display_data"
    },
    {
     "data": {
      "image/png": "[encoded data removed]",
      "text/plain": [
       "<Figure size 1152x288 with 3 Axes>"
      ]
     },
     "metadata": {
      "needs_background": "light"
     },
     "output_type": "display_data"
    }
   ],
   "source": [
    "for var in continous:\n",
    "    plot_nums(data, var)"
   ]
  },
  {
   "cell_type": "markdown",
   "id": "bcc3a429",
   "metadata": {},
   "source": [
    "- Normal distribution? \n",
    "    - There are no gaussian distribution. \n",
    "    \n",
    "- Outliers?\n",
    "    - `age`: we can make age as a categorical variable to handle with outliers. \n",
    "    - `duration`: There are values which are more than 4000. \n",
    "    - `campaign`: There are values which are more than 50. \n",
    "    \n",
    "#### Insight: Deal with outliers (age, duration, campaign)"
   ]
  },
  {
   "cell_type": "markdown",
   "id": "23343503",
   "metadata": {},
   "source": [
    "There are only 2 values in duration which are more than 4000. Also, there is only 1 value in campaign which is more than 50. So, I will drop those outliers from the dataset."
   ]
  },
  {
   "cell_type": "code",
   "execution_count": 15,
   "id": "9351c5a9",
   "metadata": {},
   "outputs": [
    {
     "data": {
      "text/plain": [
       "2"
      ]
     },
     "execution_count": 15,
     "metadata": {},
     "output_type": "execute_result"
    }
   ],
   "source": [
    "len(data[data['duration']>4000])"
   ]
  },
  {
   "cell_type": "code",
   "execution_count": 16,
   "id": "9a05881e",
   "metadata": {},
   "outputs": [
    {
     "data": {
      "text/plain": [
       "1"
      ]
     },
     "execution_count": 16,
     "metadata": {},
     "output_type": "execute_result"
    }
   ],
   "source": [
    "len(data[data['campaign']>50])"
   ]
  },
  {
   "cell_type": "code",
   "execution_count": 17,
   "id": "0fe86ba9",
   "metadata": {},
   "outputs": [
    {
     "data": {
      "text/plain": [
       "(41185, 21)"
      ]
     },
     "execution_count": 17,
     "metadata": {},
     "output_type": "execute_result"
    }
   ],
   "source": [
    "data = data[data['duration']<4000]\n",
    "data = data[data['campaign']<50]\n",
    "\n",
    "data.shape"
   ]
  },
  {
   "cell_type": "markdown",
   "id": "b12f473b",
   "metadata": {},
   "source": [
    "Based on the attribute information above, `pdays` has 999 values which mean that client was not previous contacted. I will change 999 to -1 and see the distribution again. "
   ]
  },
  {
   "cell_type": "code",
   "execution_count": 18,
   "id": "280663df",
   "metadata": {},
   "outputs": [],
   "source": [
    "data['pdays'] = data['pdays'].replace(999, -1)"
   ]
  },
  {
   "cell_type": "code",
   "execution_count": 19,
   "id": "2742c6cc",
   "metadata": {},
   "outputs": [
    {
     "data": {
      "text/plain": [
       "array([-1,  6,  4,  3,  5,  1,  0, 10,  7,  8,  9, 11,  2, 12, 13, 14, 15,\n",
       "       16, 21, 17, 18, 22, 25, 26, 19, 27, 20])"
      ]
     },
     "execution_count": 19,
     "metadata": {},
     "output_type": "execute_result"
    }
   ],
   "source": [
    "data['pdays'].unique()"
   ]
  },
  {
   "cell_type": "code",
   "execution_count": 20,
   "id": "37bdd404",
   "metadata": {},
   "outputs": [
    {
     "data": {
      "image/png": "[encoded data removed]",
      "text/plain": [
       "<Figure size 1152x288 with 3 Axes>"
      ]
     },
     "metadata": {
      "needs_background": "light"
     },
     "output_type": "display_data"
    }
   ],
   "source": [
    "plot_nums(data, 'pdays')"
   ]
  },
  {
   "cell_type": "code",
   "execution_count": 21,
   "id": "716ec850",
   "metadata": {},
   "outputs": [
    {
     "data": {
      "text/plain": [
       "-1     39670\n",
       " 3       439\n",
       " 6       412\n",
       " 4       118\n",
       " 9        64\n",
       " 2        61\n",
       " 7        60\n",
       " 12       58\n",
       " 10       52\n",
       " 5        46\n",
       " 13       36\n",
       " 11       28\n",
       " 1        26\n",
       " 15       24\n",
       " 14       20\n",
       " 8        18\n",
       " 0        15\n",
       " 16       11\n",
       " 17        8\n",
       " 18        7\n",
       " 19        3\n",
       " 22        3\n",
       " 21        2\n",
       " 20        1\n",
       " 25        1\n",
       " 26        1\n",
       " 27        1\n",
       "Name: pdays, dtype: int64"
      ]
     },
     "execution_count": 21,
     "metadata": {},
     "output_type": "execute_result"
    }
   ],
   "source": [
    "data['pdays'].value_counts().sort_values(ascending=False)"
   ]
  },
  {
   "cell_type": "markdown",
   "id": "e6bce858",
   "metadata": {},
   "source": [
    "`pdays` could be discrete variable, and we can see there are very few values which have more than 16 days. \n",
    "\n",
    "#### Insight: pdays - change this to categorical variable (< one week, < two weeks, > two weeks) or deal with rare lables. "
   ]
  },
  {
   "cell_type": "markdown",
   "id": "5224b3cb",
   "metadata": {},
   "source": [
    "### Feature engineering for Numerical variables\n",
    "\n",
    "In this section, I will engineer `age`, `pdays` as follows:\n",
    "\n",
    "- `age`: make it as a categorical variable\n",
    "   - 17-30 for young adult, 31-40, 41-50, 51-60, and more than 61\n",
    "- `pdays`: make it as a categorical variable\n",
    "   - 1w (less then 7days), 2w (less than 14 days), and >2w (more than 14days)"
   ]
  },
  {
   "cell_type": "code",
   "execution_count": 22,
   "id": "57742be5",
   "metadata": {},
   "outputs": [
    {
     "data": {
      "text/plain": [
       "(17, 98)"
      ]
     },
     "execution_count": 22,
     "metadata": {},
     "output_type": "execute_result"
    }
   ],
   "source": [
    "data['age'].min(), data['age'].max()"
   ]
  },
  {
   "cell_type": "code",
   "execution_count": 23,
   "id": "f2e8941d",
   "metadata": {},
   "outputs": [],
   "source": [
    "# let's divide age into the buckets \n",
    "buckets = [16, 30, 40, 50, 60, 100]\n",
    "\n",
    "# bucket labels\n",
    "labels = ['17-30', '31-40', '41-50', '51-60', '>60']\n",
    "\n",
    "\n",
    "# discretization\n",
    "data['age_group'] = pd.cut(data['age'], bins=buckets, labels=labels, include_lowest=True)"
   ]
  },
  {
   "cell_type": "code",
   "execution_count": 24,
   "id": "e5b92c69",
   "metadata": {},
   "outputs": [
    {
     "data": {
      "image/png": "[encoded data removed]",
      "text/plain": [
       "<Figure size 432x288 with 1 Axes>"
      ]
     },
     "metadata": {
      "needs_background": "light"
     },
     "output_type": "display_data"
    }
   ],
   "source": [
    "# Let's see the distribution of age_group\n",
    "(data['age_group'].value_counts() / len(data)).plot.bar()\n",
    "plt.title('Age group distribution');"
   ]
  },
  {
   "cell_type": "code",
   "execution_count": 25,
   "id": "0580155b",
   "metadata": {},
   "outputs": [],
   "source": [
    "# now we can drop age (original numberical variable)\n",
    "data.drop(['age'], axis=1, inplace=True)"
   ]
  },
  {
   "cell_type": "markdown",
   "id": "9dbfd62d",
   "metadata": {},
   "source": [
    "`pdays`: number of days that passed by after the client was last contacted from a previous campaign (numeric; 999 means client was not previously contacted)"
   ]
  },
  {
   "cell_type": "code",
   "execution_count": 26,
   "id": "ea2d1038",
   "metadata": {},
   "outputs": [],
   "source": [
    "# Let's divide pdays into 3 groups\n",
    "buckets = [0, 7, 14, 30]\n",
    "labels = ['1w', '2w', '>2w']\n",
    "data['pdays_group'] = pd.cut(data['pdays'], bins=buckets, labels=labels, include_lowest=False)"
   ]
  },
  {
   "cell_type": "code",
   "execution_count": 27,
   "id": "e3a438cd",
   "metadata": {},
   "outputs": [
    {
     "data": {
      "text/plain": [
       "0.9635789729270365"
      ]
     },
     "execution_count": 27,
     "metadata": {},
     "output_type": "execute_result"
    }
   ],
   "source": [
    "data['pdays_group'].isnull().mean()"
   ]
  },
  {
   "cell_type": "code",
   "execution_count": 28,
   "id": "cd2ba514",
   "metadata": {},
   "outputs": [],
   "source": [
    "data['pdays_group'] = data['pdays_group'].astype('O')\n",
    "data['pdays_group'].fillna('Not contacted', inplace=True)"
   ]
  },
  {
   "cell_type": "code",
   "execution_count": 29,
   "id": "0e12319d",
   "metadata": {},
   "outputs": [
    {
     "data": {
      "text/plain": [
       "Not contacted    0.963579\n",
       "1w               0.028214\n",
       "2w               0.006701\n",
       ">2w              0.001505\n",
       "Name: pdays_group, dtype: float64"
      ]
     },
     "execution_count": 29,
     "metadata": {},
     "output_type": "execute_result"
    }
   ],
   "source": [
    "data['pdays_group'].value_counts() / len(data)"
   ]
  },
  {
   "cell_type": "code",
   "execution_count": 30,
   "id": "b365c63d",
   "metadata": {},
   "outputs": [],
   "source": [
    "# now we can drop pdays (original variable)\n",
    "data.drop('pdays', axis=1, inplace=True)"
   ]
  },
  {
   "cell_type": "markdown",
   "id": "6c6fcdca",
   "metadata": {},
   "source": [
    "### Categorical variables\n",
    "\n",
    "We have 10 categorical variables. Let's see each variable and if we have rare labels"
   ]
  },
  {
   "cell_type": "code",
   "execution_count": 31,
   "id": "84d55c25",
   "metadata": {},
   "outputs": [
    {
     "name": "stdout",
     "output_type": "stream",
     "text": [
      "job has 12 labels\n",
      "marital has 4 labels\n",
      "education has 8 labels\n",
      "default has 3 labels\n",
      "housing has 3 labels\n",
      "loan has 3 labels\n",
      "contact has 2 labels\n",
      "month has 10 labels\n",
      "day_of_week has 5 labels\n",
      "poutcome has 3 labels\n"
     ]
    }
   ],
   "source": [
    "# cardinality\n",
    "for var in cat_vars:\n",
    "    print(var, 'has {} labels'.format(data[var].nunique()))"
   ]
  },
  {
   "cell_type": "code",
   "execution_count": 34,
   "id": "6b826868",
   "metadata": {},
   "outputs": [
    {
     "name": "stdout",
     "output_type": "stream",
     "text": [
      "job 12 labels\n",
      "admin.           0.253029\n",
      "blue-collar      0.224669\n",
      "technician       0.163700\n",
      "services         0.096370\n",
      "management       0.070997\n",
      "retired          0.041763\n",
      "entrepreneur     0.035353\n",
      "self-employed    0.034503\n",
      "housemaid        0.025738\n",
      "unemployed       0.024621\n",
      "student          0.021246\n",
      "unknown          0.008013\n",
      "Name: job, dtype: float64\n",
      "\n",
      "marital 4 labels\n",
      "married     0.605220\n",
      "single      0.280855\n",
      "divorced    0.111983\n",
      "unknown     0.001942\n",
      "Name: marital, dtype: float64\n",
      "\n",
      "education 8 labels\n",
      "university.degree      0.295423\n",
      "high.school            0.231031\n",
      "basic.9y               0.146777\n",
      "professional.course    0.127279\n",
      "basic.4y               0.101372\n",
      "basic.6y               0.055651\n",
      "unknown                0.042030\n",
      "illiterate             0.000437\n",
      "Name: education, dtype: float64\n",
      "\n",
      "default 3 labels\n",
      "no         0.791210\n",
      "unknown    0.208717\n",
      "yes        0.000073\n",
      "Name: default, dtype: float64\n",
      "\n",
      "housing 3 labels\n",
      "yes        0.523856\n",
      "no         0.452131\n",
      "unknown    0.024014\n",
      "Name: housing, dtype: float64\n",
      "\n",
      "loan 3 labels\n",
      "no         0.824281\n",
      "yes        0.151706\n",
      "unknown    0.024014\n",
      "Name: loan, dtype: float64\n",
      "\n",
      "contact 2 labels\n",
      "cellular     0.634794\n",
      "telephone    0.365206\n",
      "Name: contact, dtype: float64\n",
      "\n",
      "month 10 labels\n",
      "may    0.334296\n",
      "jul    0.174190\n",
      "aug    0.149982\n",
      "jun    0.129125\n",
      "nov    0.099551\n",
      "apr    0.063907\n",
      "oct    0.017434\n",
      "sep    0.013840\n",
      "mar    0.013257\n",
      "dec    0.004419\n",
      "Name: month, dtype: float64\n",
      "\n",
      "day_of_week 5 labels\n",
      "thu    0.209348\n",
      "mon    0.206677\n",
      "wed    0.197499\n",
      "tue    0.196431\n",
      "fri    0.190045\n",
      "Name: day_of_week, dtype: float64\n",
      "\n",
      "poutcome 3 labels\n",
      "nonexistent    0.863421\n",
      "failure        0.103241\n",
      "success        0.033337\n",
      "Name: poutcome, dtype: float64\n",
      "\n"
     ]
    }
   ],
   "source": [
    "# rare labels?\n",
    "for var in cat_vars:\n",
    "    print(var, '{} labels'.format(data[var].nunique()))\n",
    "    print((data[var].value_counts() / len(data)).sort_values(ascending=False))\n",
    "    print()\n"
   ]
  },
  {
   "cell_type": "markdown",
   "id": "5fbdb881",
   "metadata": {},
   "source": [
    "- job has 12 labels but 6 labels are less than 0.05, and unknown should be missing value\n",
    "- martial has unknown value\n",
    "- education has 1 rare label but we don't need to encode for this, and it has unknown\n",
    "- default has imbalanced (yes-0.000073) and it has unknown\n",
    "- housing has unknown value\n",
    "- loan has unknown\n",
    "- month has 4 rare labels\n",
    "- poutcome has 1 rare label but we don't need to encode for this\n",
    "\n",
    "\n",
    "- __Conclusion:__ Even though we have some rare labels in categorical variables, I won't perform rare label feature engineering here given the attribute information. However, we need to see the distribution when we split train and test data. "
   ]
  },
  {
   "cell_type": "markdown",
   "id": "9092a209",
   "metadata": {},
   "source": [
    "## Data Visualization"
   ]
  },
  {
   "cell_type": "markdown",
   "id": "f0efacdc",
   "metadata": {},
   "source": [
    "- split train and test data\n",
    "- resampling\n",
    "- Feature engineering\n",
    "- Feature selection\n",
    "- build models!\n"
   ]
  },
  {
   "cell_type": "markdown",
   "id": "5ac2b8a2",
   "metadata": {},
   "source": [
    "In this section, I will create some graphs to compare 'yes'-group to 'no'-group based on y variable. If we see differences between groups, the variables will be important to build the models.  "
   ]
  },
  {
   "cell_type": "code",
   "execution_count": 35,
   "id": "2638e684",
   "metadata": {},
   "outputs": [
    {
     "ename": "NameError",
     "evalue": "name 'test' is not defined",
     "output_type": "error",
     "traceback": [
      "\u001b[0;31m---------------------------------------------------------------------------\u001b[0m",
      "\u001b[0;31mNameError\u001b[0m                                 Traceback (most recent call last)",
      "\u001b[0;32m<ipython-input-35-4e1243bd22c6>\u001b[0m in \u001b[0;36m<module>\u001b[0;34m\u001b[0m\n\u001b[0;32m----> 1\u001b[0;31m \u001b[0mtest\u001b[0m\u001b[0;34m\u001b[0m\u001b[0;34m\u001b[0m\u001b[0m\n\u001b[0m",
      "\u001b[0;31mNameError\u001b[0m: name 'test' is not defined"
     ]
    }
   ],
   "source": [
    "test"
   ]
  },
  {
   "cell_type": "code",
   "execution_count": null,
   "id": "c77c22a0",
   "metadata": {},
   "outputs": [],
   "source": []
  }
 ],
 "metadata": {
  "kernelspec": {
   "display_name": "Python 3",
   "language": "python",
   "name": "python3"
  },
  "language_info": {
   "codemirror_mode": {
    "name": "ipython",
    "version": 3
   },
   "file_extension": ".py",
   "mimetype": "text/x-python",
   "name": "python",
   "nbconvert_exporter": "python",
   "pygments_lexer": "ipython3",
   "version": "3.8.8"
  },
  "toc": {
   "base_numbering": 1,
   "nav_menu": {},
   "number_sections": true,
   "sideBar": true,
   "skip_h1_title": true,
   "title_cell": "Table of Contents",
   "title_sidebar": "Contents",
   "toc_cell": true,
   "toc_position": {},
   "toc_section_display": true,
   "toc_window_display": false
  },
  "varInspector": {
   "cols": {
    "lenName": 16,
    "lenType": 16,
    "lenVar": 40
   },
   "kernels_config": {
    "python": {
     "delete_cmd_postfix": "",
     "delete_cmd_prefix": "del ",
     "library": "var_list.py",
     "varRefreshCmd": "print(var_dic_list())"
    },
    "r": {
     "delete_cmd_postfix": ") ",
     "delete_cmd_prefix": "rm(",
     "library": "var_list.r",
     "varRefreshCmd": "cat(var_dic_list()) "
    }
   },
   "types_to_exclude": [
    "module",
    "function",
    "builtin_function_or_method",
    "instance",
    "_Feature"
   ],
   "window_display": false
  }
 },
 "nbformat": 4,
 "nbformat_minor": 5
}
