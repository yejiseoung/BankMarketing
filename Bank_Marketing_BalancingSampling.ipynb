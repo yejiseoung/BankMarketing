{
 "cells": [
  {
   "cell_type": "markdown",
   "id": "377bf83c",
   "metadata": {
    "toc": true
   },
   "source": [
    "<h1>Table of Contents<span class=\"tocSkip\"></span></h1>\n",
    "<div class=\"toc\"><ul class=\"toc-item\"><li><ul class=\"toc-item\"><li><span><a href=\"#Load-data\" data-toc-modified-id=\"Load-data-0.1\"><span class=\"toc-item-num\">0.1&nbsp;&nbsp;</span>Load data</a></span></li></ul></li><li><span><a href=\"#Undersampling-techniques\" data-toc-modified-id=\"Undersampling-techniques-1\"><span class=\"toc-item-num\">1&nbsp;&nbsp;</span>Undersampling techniques</a></span><ul class=\"toc-item\"><li><ul class=\"toc-item\"><li><span><a href=\"#Label-encoding-for-categorical-variable\" data-toc-modified-id=\"Label-encoding-for-categorical-variable-1.0.1\"><span class=\"toc-item-num\">1.0.1&nbsp;&nbsp;</span><strong>Label encoding for categorical variable</strong></a></span></li><li><span><a href=\"#Count-encoding-for-categorical-variables\" data-toc-modified-id=\"Count-encoding-for-categorical-variables-1.0.2\"><span class=\"toc-item-num\">1.0.2&nbsp;&nbsp;</span>Count encoding for categorical variables</a></span></li></ul></li></ul></li><li><span><a href=\"#Oversampling-techniques\" data-toc-modified-id=\"Oversampling-techniques-2\"><span class=\"toc-item-num\">2&nbsp;&nbsp;</span>Oversampling techniques</a></span></li></ul></div>"
   ]
  },
  {
   "cell_type": "markdown",
   "id": "23d506af",
   "metadata": {},
   "source": [
    "# Bank Marketing Undersampling\n"
   ]
  },
  {
   "cell_type": "markdown",
   "id": "83a6c78f",
   "metadata": {},
   "source": [
    "We've seen the bank marketing dataset is an imbalanced data which means that datasets have many more instances of certain classes than of others, so we need to deal with this very carefully. \n",
    "\n",
    "> __Why is imbalanced dataset problem?__\n",
    "    - Most machine learning algorithms assume balanced distributions. As the minority examples occur rarely, rules to predict the small classes are difficult to find. Samples from the minority class are most often misclassified. \n",
    "    \n",
    "    \n",
    "> __What is Under-Sampling methods?__\n",
    "    - Undersampling methods process of __reducing__ the number of samples from the majority class. \n",
    "    \n",
    "There is no consensus in the community regarding which technique should be used with imbalanced datsets. \n",
    "Therefore, in this notebook, I will compare the performances of different undersampling techniques and choose which one is the best for the bank marketing dataset."
   ]
  },
  {
   "cell_type": "code",
   "execution_count": 2,
   "id": "a57a3246",
   "metadata": {},
   "outputs": [
    {
     "data": {
      "text/plain": [
       "'/Users/yejiseoung/Dropbox/My Mac (Yejis-MacBook-Pro.local)/Documents/Projects/BankMarketing'"
      ]
     },
     "execution_count": 2,
     "metadata": {},
     "output_type": "execute_result"
    }
   ],
   "source": [
    "import numpy as np\n",
    "import pandas as pd\n",
    "import seaborn as sns\n",
    "import matplotlib.pyplot as plt\n",
    "\n",
    "import warnings\n",
    "warnings.filterwarnings('ignore')\n",
    "\n",
    "from collections import Counter\n",
    "\n",
    "pd.set_option('display.max_columns', None)\n",
    "pd.set_option('display.max_rows', None)\n",
    "\n",
    "from pathlib import Path\n",
    "import os\n",
    "os.getcwd()"
   ]
  },
  {
   "cell_type": "code",
   "execution_count": 3,
   "id": "302d5a22",
   "metadata": {},
   "outputs": [],
   "source": [
    "path = Path('/Users/yejiseoung/Dropbox/My Mac (Yejis-MacBook-Pro.local)/Documents/Projects/BankMarketing')"
   ]
  },
  {
   "cell_type": "code",
   "execution_count": 4,
   "id": "169f2ab6",
   "metadata": {},
   "outputs": [],
   "source": [
    "# for the model \n",
    "from sklearn.model_selection import train_test_split, GridSearchCV\n",
    "from sklearn.linear_model import LogisticRegression\n",
    "from sklearn.ensemble import GradientBoostingClassifier, RandomForestClassifier\n",
    "from sklearn.metrics import (\n",
    "    roc_auc_score, \n",
    "    confusion_matrix\n",
    ")\n",
    "\n",
    "from sklearn.preprocessing import StandardScaler\n",
    "\n",
    "from sklearn.pipeline import Pipeline\n",
    "\n",
    "# for feature engineering\n",
    "from feature_engine import encoding as ce\n",
    "\n",
    "# for undersampling\n",
    "from imblearn.under_sampling import (\n",
    "    RandomUnderSampler,\n",
    "    CondensedNearestNeighbour,\n",
    "    TomekLinks,\n",
    "    OneSidedSelection,\n",
    "    EditedNearestNeighbours,\n",
    "    RepeatedEditedNearestNeighbours,\n",
    "    AllKNN,\n",
    "    NeighbourhoodCleaningRule,\n",
    "    NearMiss,\n",
    "    InstanceHardnessThreshold\n",
    ")"
   ]
  },
  {
   "cell_type": "markdown",
   "id": "d7ca41f5",
   "metadata": {},
   "source": [
    "### Load data"
   ]
  },
  {
   "cell_type": "code",
   "execution_count": 5,
   "id": "841ae6eb",
   "metadata": {},
   "outputs": [
    {
     "name": "stdout",
     "output_type": "stream",
     "text": [
      "(41185, 21)\n"
     ]
    },
    {
     "data": {
      "text/html": [
       "<div>\n",
       "<style scoped>\n",
       "    .dataframe tbody tr th:only-of-type {\n",
       "        vertical-align: middle;\n",
       "    }\n",
       "\n",
       "    .dataframe tbody tr th {\n",
       "        vertical-align: top;\n",
       "    }\n",
       "\n",
       "    .dataframe thead th {\n",
       "        text-align: right;\n",
       "    }\n",
       "</style>\n",
       "<table border=\"1\" class=\"dataframe\">\n",
       "  <thead>\n",
       "    <tr style=\"text-align: right;\">\n",
       "      <th></th>\n",
       "      <th>job</th>\n",
       "      <th>marital</th>\n",
       "      <th>education</th>\n",
       "      <th>default</th>\n",
       "      <th>housing</th>\n",
       "      <th>loan</th>\n",
       "      <th>contact</th>\n",
       "      <th>month</th>\n",
       "      <th>day_of_week</th>\n",
       "      <th>duration</th>\n",
       "      <th>campaign</th>\n",
       "      <th>previous</th>\n",
       "      <th>poutcome</th>\n",
       "      <th>emp.var.rate</th>\n",
       "      <th>cons.price.idx</th>\n",
       "      <th>cons.conf.idx</th>\n",
       "      <th>euribor3m</th>\n",
       "      <th>nr.employed</th>\n",
       "      <th>y</th>\n",
       "      <th>age_group</th>\n",
       "      <th>pdays_group</th>\n",
       "    </tr>\n",
       "  </thead>\n",
       "  <tbody>\n",
       "    <tr>\n",
       "      <th>0</th>\n",
       "      <td>housemaid</td>\n",
       "      <td>married</td>\n",
       "      <td>basic.4y</td>\n",
       "      <td>no</td>\n",
       "      <td>no</td>\n",
       "      <td>no</td>\n",
       "      <td>telephone</td>\n",
       "      <td>may</td>\n",
       "      <td>mon</td>\n",
       "      <td>261</td>\n",
       "      <td>1</td>\n",
       "      <td>0</td>\n",
       "      <td>nonexistent</td>\n",
       "      <td>1.1</td>\n",
       "      <td>93.994</td>\n",
       "      <td>-36.4</td>\n",
       "      <td>4.857</td>\n",
       "      <td>5191.0</td>\n",
       "      <td>no</td>\n",
       "      <td>51-60</td>\n",
       "      <td>Not contacted</td>\n",
       "    </tr>\n",
       "    <tr>\n",
       "      <th>1</th>\n",
       "      <td>services</td>\n",
       "      <td>married</td>\n",
       "      <td>high.school</td>\n",
       "      <td>unknown</td>\n",
       "      <td>no</td>\n",
       "      <td>no</td>\n",
       "      <td>telephone</td>\n",
       "      <td>may</td>\n",
       "      <td>mon</td>\n",
       "      <td>149</td>\n",
       "      <td>1</td>\n",
       "      <td>0</td>\n",
       "      <td>nonexistent</td>\n",
       "      <td>1.1</td>\n",
       "      <td>93.994</td>\n",
       "      <td>-36.4</td>\n",
       "      <td>4.857</td>\n",
       "      <td>5191.0</td>\n",
       "      <td>no</td>\n",
       "      <td>51-60</td>\n",
       "      <td>Not contacted</td>\n",
       "    </tr>\n",
       "    <tr>\n",
       "      <th>2</th>\n",
       "      <td>services</td>\n",
       "      <td>married</td>\n",
       "      <td>high.school</td>\n",
       "      <td>no</td>\n",
       "      <td>yes</td>\n",
       "      <td>no</td>\n",
       "      <td>telephone</td>\n",
       "      <td>may</td>\n",
       "      <td>mon</td>\n",
       "      <td>226</td>\n",
       "      <td>1</td>\n",
       "      <td>0</td>\n",
       "      <td>nonexistent</td>\n",
       "      <td>1.1</td>\n",
       "      <td>93.994</td>\n",
       "      <td>-36.4</td>\n",
       "      <td>4.857</td>\n",
       "      <td>5191.0</td>\n",
       "      <td>no</td>\n",
       "      <td>31-40</td>\n",
       "      <td>Not contacted</td>\n",
       "    </tr>\n",
       "    <tr>\n",
       "      <th>3</th>\n",
       "      <td>admin.</td>\n",
       "      <td>married</td>\n",
       "      <td>basic.6y</td>\n",
       "      <td>no</td>\n",
       "      <td>no</td>\n",
       "      <td>no</td>\n",
       "      <td>telephone</td>\n",
       "      <td>may</td>\n",
       "      <td>mon</td>\n",
       "      <td>151</td>\n",
       "      <td>1</td>\n",
       "      <td>0</td>\n",
       "      <td>nonexistent</td>\n",
       "      <td>1.1</td>\n",
       "      <td>93.994</td>\n",
       "      <td>-36.4</td>\n",
       "      <td>4.857</td>\n",
       "      <td>5191.0</td>\n",
       "      <td>no</td>\n",
       "      <td>31-40</td>\n",
       "      <td>Not contacted</td>\n",
       "    </tr>\n",
       "    <tr>\n",
       "      <th>4</th>\n",
       "      <td>services</td>\n",
       "      <td>married</td>\n",
       "      <td>high.school</td>\n",
       "      <td>no</td>\n",
       "      <td>no</td>\n",
       "      <td>yes</td>\n",
       "      <td>telephone</td>\n",
       "      <td>may</td>\n",
       "      <td>mon</td>\n",
       "      <td>307</td>\n",
       "      <td>1</td>\n",
       "      <td>0</td>\n",
       "      <td>nonexistent</td>\n",
       "      <td>1.1</td>\n",
       "      <td>93.994</td>\n",
       "      <td>-36.4</td>\n",
       "      <td>4.857</td>\n",
       "      <td>5191.0</td>\n",
       "      <td>no</td>\n",
       "      <td>51-60</td>\n",
       "      <td>Not contacted</td>\n",
       "    </tr>\n",
       "  </tbody>\n",
       "</table>\n",
       "</div>"
      ],
      "text/plain": [
       "         job  marital    education  default housing loan    contact month  \\\n",
       "0  housemaid  married     basic.4y       no      no   no  telephone   may   \n",
       "1   services  married  high.school  unknown      no   no  telephone   may   \n",
       "2   services  married  high.school       no     yes   no  telephone   may   \n",
       "3     admin.  married     basic.6y       no      no   no  telephone   may   \n",
       "4   services  married  high.school       no      no  yes  telephone   may   \n",
       "\n",
       "  day_of_week  duration  campaign  previous     poutcome  emp.var.rate  \\\n",
       "0         mon       261         1         0  nonexistent           1.1   \n",
       "1         mon       149         1         0  nonexistent           1.1   \n",
       "2         mon       226         1         0  nonexistent           1.1   \n",
       "3         mon       151         1         0  nonexistent           1.1   \n",
       "4         mon       307         1         0  nonexistent           1.1   \n",
       "\n",
       "   cons.price.idx  cons.conf.idx  euribor3m  nr.employed   y age_group  \\\n",
       "0          93.994          -36.4      4.857       5191.0  no     51-60   \n",
       "1          93.994          -36.4      4.857       5191.0  no     51-60   \n",
       "2          93.994          -36.4      4.857       5191.0  no     31-40   \n",
       "3          93.994          -36.4      4.857       5191.0  no     31-40   \n",
       "4          93.994          -36.4      4.857       5191.0  no     51-60   \n",
       "\n",
       "     pdays_group  \n",
       "0  Not contacted  \n",
       "1  Not contacted  \n",
       "2  Not contacted  \n",
       "3  Not contacted  \n",
       "4  Not contacted  "
      ]
     },
     "execution_count": 5,
     "metadata": {},
     "output_type": "execute_result"
    }
   ],
   "source": [
    "data = pd.read_csv(path/'cleaned_data.csv')\n",
    "data.drop('Unnamed: 0', axis=1, inplace=True)\n",
    "print(data.shape)\n",
    "data.head()"
   ]
  },
  {
   "cell_type": "code",
   "execution_count": 6,
   "id": "cdeb2d90",
   "metadata": {},
   "outputs": [
    {
     "name": "stdout",
     "output_type": "stream",
     "text": [
      "The number of categorical variables: 12\n",
      "The number of numerical variables: 8\n"
     ]
    }
   ],
   "source": [
    "# create lists of numerical and categorical variables\n",
    "cat_vars = [var for var in data.columns if data[var].dtype == 'O' and var != 'y']\n",
    "num_vars = [var for var in data.columns if data[var].dtype != 'O' and var != 'y']\n",
    "\n",
    "print('The number of categorical variables: {}'.format(len(cat_vars)))\n",
    "print('The number of numerical variables: {}'.format(len(num_vars)))"
   ]
  },
  {
   "cell_type": "code",
   "execution_count": 44,
   "id": "7793d5e2",
   "metadata": {},
   "outputs": [],
   "source": [
    "def run_RFs(X_train, X_test, y_train, y_test):\n",
    "    \n",
    "    rf = RandomForestClassifier(n_estimators=50, max_depth=3, random_state=39)\n",
    "    rf.fit(X_train, y_train)\n",
    "    \n",
    "    print('Train set')\n",
    "    pred = rf.predict_proba(X_train)\n",
    "    print('Random Forests roc-auc: {}'.format(roc_auc_score(y_train, pred[:, 1])))\n",
    "    #print('Confusion_matrix: ')\n",
    "    #print(confusion_matrix(y_train, rf.predict(X_train)))\n",
    "    \n",
    "    print('Test set')\n",
    "    pred = rf.predict_proba(X_test)\n",
    "    print('Random Forests roc-auc: {}'.format(roc_auc_score(y_test, pred[:, 1])))\n",
    "    #print('Confusion_matrix: ')\n",
    "    #print(confusion_matrix(y_test, rf.predict(X_test)))\n",
    "    \n",
    "    return roc_auc_score(y_test, pred[:, 1])"
   ]
  },
  {
   "cell_type": "code",
   "execution_count": 13,
   "id": "e46d8ad2",
   "metadata": {},
   "outputs": [],
   "source": [
    "def run_logit(X_train, X_test, y_train, y_test):\n",
    "    logit = LogisticRegression(C=0.01, max_iter=1000, random_state=44)\n",
    "    logit.fit(X_train, y_train)\n",
    "    \n",
    "    print('Train set')\n",
    "    pred = logit.predict_proba(X_train)\n",
    "    print('Random Forests roc-auc: {}'.format(roc_auc_score(y_train, pred[:, 1])))\n",
    "    #print('Confusion_matrix: ')\n",
    "    #print(confusion_matrix(y_train, logit.predict(X_train)))\n",
    "    \n",
    "    print('Test set')\n",
    "    pred = logit.predict_proba(X_test)\n",
    "    print('Random Forests roc-auc: {}'.format(roc_auc_score(y_test, pred[:, 1])))\n",
    "    #print('Confusion_matrix: ')\n",
    "    #print(confusion_matrix(y_test, logit.predict(X_test)))"
   ]
  },
  {
   "cell_type": "markdown",
   "id": "44ec6f85",
   "metadata": {},
   "source": [
    "## Undersampling techniques"
   ]
  },
  {
   "cell_type": "markdown",
   "id": "38b76ff8",
   "metadata": {},
   "source": [
    "    RandomSampling\n",
    "    CondensedNearestNeighbour,- takes a lot of time\n",
    "    TomekLinks,\n",
    "    OneSidedSelection,\n",
    "    EditedNearestNeighbours,\n",
    "    RepeatedEditedNearestNeighbours, - takes a lot of time\n",
    "    AllKNN,\n",
    "    NeighbourhoodCleaningRule,\n",
    "    NearMiss,\n",
    "    InstanceHardnessThreshold\n",
    "    \n",
    "    \n",
    "While performing trial and error, cnn and renn took so long time to perform, so I didn't include them after I got an error. Also, both methods did not improve the performances. \n",
    "\n",
    "Also, I realized when I tried to see the differences between categorical encoding methods, both performances look similar (or exactly same) when I used undersampling techniques. So, I will use only label encoding for further experiments. "
   ]
  },
  {
   "cell_type": "code",
   "execution_count": 48,
   "id": "ca538c11",
   "metadata": {},
   "outputs": [],
   "source": [
    "undersampler_dict = {\n",
    "\n",
    "    'random': RandomUnderSampler(\n",
    "        sampling_strategy='auto',\n",
    "        random_state=0,\n",
    "        replacement=False),\n",
    "\n",
    "    'tomek': TomekLinks(\n",
    "        sampling_strategy='auto',\n",
    "        n_jobs=1),\n",
    "\n",
    "    'oss': OneSidedSelection(\n",
    "        sampling_strategy='auto',\n",
    "        random_state=0,\n",
    "        n_neighbors=1,\n",
    "        n_jobs=1),\n",
    "\n",
    "    'enn': EditedNearestNeighbours(\n",
    "        sampling_strategy='auto',\n",
    "        n_neighbors=3,\n",
    "        kind_sel='all',\n",
    "        n_jobs=1),\n",
    "\n",
    "    'allknn': AllKNN(\n",
    "        sampling_strategy='auto',\n",
    "        n_neighbors=3,\n",
    "        kind_sel='all',\n",
    "        n_jobs=1),\n",
    "\n",
    "    'nm1': NearMiss(\n",
    "        sampling_strategy='auto',\n",
    "        version=1,\n",
    "        n_neighbors=3,\n",
    "        n_jobs=1),\n",
    "\n",
    "    'nm2': NearMiss(\n",
    "        sampling_strategy='auto',\n",
    "        version=2,\n",
    "        n_neighbors=3,\n",
    "        n_jobs=1),\n",
    "   \n",
    "    'iht_RF': InstanceHardnessThreshold(\n",
    "        estimator=RandomForestClassifier(n_estimators=30, max_depth=3, random_state=39),\n",
    "        sampling_strategy='auto',\n",
    "        random_state=0,\n",
    "        n_jobs=1,\n",
    "        cv=3\n",
    "    ),\n",
    "    \n",
    "    'iht_logit': InstanceHardnessThreshold(\n",
    "        estimator=LogisticRegression(random_state=0),\n",
    "        sampling_strategy='auto',\n",
    "        random_state=0,\n",
    "        n_jobs=1,\n",
    "        cv=3\n",
    "    )\n",
    "    \n",
    "}"
   ]
  },
  {
   "cell_type": "markdown",
   "id": "54efddb5",
   "metadata": {},
   "source": [
    "#### __Label encoding for categorical variable__"
   ]
  },
  {
   "cell_type": "code",
   "execution_count": 49,
   "id": "330c9dc6",
   "metadata": {},
   "outputs": [
    {
     "name": "stdout",
     "output_type": "stream",
     "text": [
      "Train set\n",
      "Random Forests roc-auc: 0.9277391477348833\n",
      "Test set\n",
      "Random Forests roc-auc: 0.9301929165098902\n",
      "\n",
      "random\n",
      "Train set\n",
      "Random Forests roc-auc: 0.918630886370392\n",
      "Test set\n",
      "Random Forests roc-auc: 0.9190900933678943\n",
      "\n",
      "tomek\n",
      "Train set\n",
      "Random Forests roc-auc: 0.9356610485018332\n",
      "Test set\n",
      "Random Forests roc-auc: 0.928639737583096\n",
      "\n",
      "oss\n",
      "Train set\n",
      "Random Forests roc-auc: 0.9367623339431852\n",
      "Test set\n",
      "Random Forests roc-auc: 0.9293732933607022\n",
      "\n",
      "enn\n",
      "Train set\n",
      "Random Forests roc-auc: 0.9673882908150533\n",
      "Test set\n",
      "Random Forests roc-auc: 0.92669505788196\n",
      "\n",
      "allknn\n",
      "Train set\n",
      "Random Forests roc-auc: 0.9723198833543294\n",
      "Test set\n",
      "Random Forests roc-auc: 0.9249251240308828\n",
      "\n",
      "nm1\n",
      "Train set\n",
      "Random Forests roc-auc: 0.8866529730101812\n",
      "Test set\n",
      "Random Forests roc-auc: 0.8487124995471879\n",
      "\n",
      "nm2\n",
      "Train set\n",
      "Random Forests roc-auc: 0.9298391000064792\n",
      "Test set\n",
      "Random Forests roc-auc: 0.56201041745716\n",
      "\n",
      "iht_RF\n",
      "Train set\n",
      "Random Forests roc-auc: 0.997656679795455\n",
      "Test set\n",
      "Random Forests roc-auc: 0.8105648888488152\n",
      "\n",
      "iht_logit\n",
      "Train set\n",
      "Random Forests roc-auc: 0.9998467668366762\n",
      "Test set\n",
      "Random Forests roc-auc: 0.8536468305392947\n",
      "\n",
      "\n"
     ]
    }
   ],
   "source": [
    "# loop to train models with the different under-sampling methods\n",
    "\n",
    "# to save the results\n",
    "results_dict = {}\n",
    "shapes_dict = {}\n",
    "\n",
    "# separate train and test\n",
    "X_train, X_test, y_train, y_test = train_test_split(\n",
    "    data.drop('y', axis=1), \n",
    "    data['y'],\n",
    "    test_size=0.3,\n",
    "    random_state=0\n",
    ")\n",
    "\n",
    "# label encoding for categorical variables\n",
    "ordinal_enc = ce.OrdinalEncoder(\n",
    "    encoding_method='arbitrary',\n",
    "    variables=cat_vars\n",
    ")\n",
    "\n",
    "ordinal_enc.fit(X_train)\n",
    "X_train = ordinal_enc.transform(X_train)\n",
    "X_test = ordinal_enc.transform(X_test)\n",
    "\n",
    "# set up the scaler for feature scaling because we have KNN based techniques\n",
    "standard_scaler = StandardScaler().fit(X_train)\n",
    "X_train = standard_scaler.transform(X_train)\n",
    "X_test = standard_scaler.transform(X_test)\n",
    "\n",
    "y_train = y_train.map({'no':0, 'yes': 1})\n",
    "y_test = y_test.map({'no': 0, 'yes': 1})\n",
    "\n",
    "\n",
    "\n",
    "# train a model on the original data without under-sampling\n",
    "# and determine model performance\n",
    "roc = run_RFs(X_train, X_test, y_train, y_test)\n",
    "\n",
    "# store results\n",
    "results_dict['full_data'] = roc\n",
    "shapes_dict['full_data'] = len(X_train)\n",
    "\n",
    "print()\n",
    "\n",
    "# now, we test the different under-samplers\n",
    "for undersampler in undersampler_dict.keys():\n",
    "    \n",
    "    print(undersampler)\n",
    "    \n",
    "    # resample the train set only\n",
    "    X_resampled, y_resampled = undersampler_dict[undersampler].fit_resample(X_train, y_train)\n",
    "    \n",
    "    # train model and evaluate performance\n",
    "    \n",
    "    # Note that performance returned is using test set, \n",
    "    # which was not under-sampled\n",
    "    \n",
    "    roc = run_RFs(X_resampled, X_test, y_resampled, y_test)\n",
    "    \n",
    "    # store results\n",
    "    results_dict[undersampler] = roc\n",
    "    shapes_dict[undersampler] = len(X_resampled)\n",
    "    \n",
    "    print()\n",
    "    \n",
    "print()"
   ]
  },
  {
   "cell_type": "code",
   "execution_count": 50,
   "id": "f10ec800",
   "metadata": {},
   "outputs": [
    {
     "data": {
      "text/plain": [
       "{'full_data': 0.9301929165098902,\n",
       " 'random': 0.9190900933678943,\n",
       " 'tomek': 0.928639737583096,\n",
       " 'oss': 0.9293732933607022,\n",
       " 'enn': 0.92669505788196,\n",
       " 'allknn': 0.9249251240308828,\n",
       " 'nm1': 0.8487124995471879,\n",
       " 'nm2': 0.56201041745716,\n",
       " 'iht_RF': 0.8105648888488152,\n",
       " 'iht_logit': 0.8536468305392947}"
      ]
     },
     "execution_count": 50,
     "metadata": {},
     "output_type": "execute_result"
    }
   ],
   "source": [
    "results_dict"
   ]
  },
  {
   "cell_type": "code",
   "execution_count": 51,
   "id": "c9ffd52c",
   "metadata": {},
   "outputs": [
    {
     "data": {
      "text/plain": [
       "{'full_data': 28829,\n",
       " 'random': 6522,\n",
       " 'tomek': 28012,\n",
       " 'oss': 28010,\n",
       " 'enn': 25429,\n",
       " 'allknn': 24963,\n",
       " 'nm1': 6522,\n",
       " 'nm2': 6522,\n",
       " 'iht_RF': 6528,\n",
       " 'iht_logit': 6522}"
      ]
     },
     "execution_count": 51,
     "metadata": {},
     "output_type": "execute_result"
    }
   ],
   "source": [
    "shapes_dict"
   ]
  },
  {
   "cell_type": "code",
   "execution_count": 54,
   "id": "a4908c89",
   "metadata": {},
   "outputs": [
    {
     "data": {
      "image/png": "[encoded data removed]",
      "text/plain": [
       "<Figure size 432x288 with 1 Axes>"
      ]
     },
     "metadata": {
      "needs_background": "light"
     },
     "output_type": "display_data"
    }
   ],
   "source": [
    "pd.Series(results_dict).plot.bar()\n",
    "plt.ylabel('roc-auc')\n",
    "plt.ylim(0.55, 0.95)\n",
    "plt.axhline(results_dict['full_data'], color='r')\n",
    "plt.show()"
   ]
  },
  {
   "cell_type": "markdown",
   "id": "adbcb6d0",
   "metadata": {},
   "source": [
    "None of the different techniques improved performances compared to the baseline model. "
   ]
  },
  {
   "cell_type": "markdown",
   "id": "5b52232e",
   "metadata": {},
   "source": [
    "#### Count encoding for categorical variables"
   ]
  },
  {
   "cell_type": "code",
   "execution_count": 55,
   "id": "8d7ccff3",
   "metadata": {},
   "outputs": [
    {
     "name": "stdout",
     "output_type": "stream",
     "text": [
      "Train set\n",
      "Random Forests roc-auc: 0.9277391477348833\n",
      "Test set\n",
      "Random Forests roc-auc: 0.9301929165098902\n",
      "\n",
      "random\n",
      "Train set\n",
      "Random Forests roc-auc: 0.918630886370392\n",
      "Test set\n",
      "Random Forests roc-auc: 0.9190900933678943\n",
      "\n",
      "tomek\n",
      "Train set\n",
      "Random Forests roc-auc: 0.9356610485018332\n",
      "Test set\n",
      "Random Forests roc-auc: 0.928639737583096\n",
      "\n",
      "oss\n",
      "Train set\n",
      "Random Forests roc-auc: 0.9367623339431852\n",
      "Test set\n",
      "Random Forests roc-auc: 0.9293732933607022\n",
      "\n",
      "enn\n",
      "Train set\n",
      "Random Forests roc-auc: 0.9673882908150533\n",
      "Test set\n",
      "Random Forests roc-auc: 0.92669505788196\n",
      "\n",
      "allknn\n",
      "Train set\n",
      "Random Forests roc-auc: 0.9723198833543294\n",
      "Test set\n",
      "Random Forests roc-auc: 0.9249251240308828\n",
      "\n",
      "nm1\n",
      "Train set\n",
      "Random Forests roc-auc: 0.8866529730101812\n",
      "Test set\n",
      "Random Forests roc-auc: 0.8487124995471879\n",
      "\n",
      "nm2\n",
      "Train set\n",
      "Random Forests roc-auc: 0.9298391000064792\n",
      "Test set\n",
      "Random Forests roc-auc: 0.56201041745716\n",
      "\n",
      "iht_RF\n",
      "Train set\n",
      "Random Forests roc-auc: 0.997656679795455\n",
      "Test set\n",
      "Random Forests roc-auc: 0.8105648888488152\n",
      "\n",
      "iht_logit\n",
      "Train set\n",
      "Random Forests roc-auc: 0.9998467668366762\n",
      "Test set\n",
      "Random Forests roc-auc: 0.8536468305392947\n",
      "\n",
      "\n"
     ]
    }
   ],
   "source": [
    "# loop to train models with the different under-sampling methods\n",
    "\n",
    "# to save the results\n",
    "results_dict_count = {}\n",
    "shapes_dict_count = {}\n",
    "\n",
    "# separate train and test\n",
    "X_train, X_test, y_train, y_test = train_test_split(\n",
    "    data.drop('y', axis=1), \n",
    "    data['y'],\n",
    "    test_size=0.3,\n",
    "    random_state=0\n",
    ")\n",
    "\n",
    "# label encoding for categorical variables\n",
    "ordinal_enc = ce.OrdinalEncoder(\n",
    "    encoding_method='arbitrary',\n",
    "    variables=cat_vars\n",
    ")\n",
    "\n",
    "ordinal_enc.fit(X_train)\n",
    "X_train = ordinal_enc.transform(X_train)\n",
    "X_test = ordinal_enc.transform(X_test)\n",
    "\n",
    "# set up the scaler for feature scaling because we have KNN based techniques\n",
    "standard_scaler = StandardScaler().fit(X_train)\n",
    "X_train = standard_scaler.transform(X_train)\n",
    "X_test = standard_scaler.transform(X_test)\n",
    "\n",
    "y_train = y_train.map({'no':0, 'yes': 1})\n",
    "y_test = y_test.map({'no': 0, 'yes': 1})\n",
    "\n",
    "\n",
    "\n",
    "# train a model on the original data without under-sampling\n",
    "# and determine model performance\n",
    "roc = run_RFs(X_train, X_test, y_train, y_test)\n",
    "\n",
    "# store results\n",
    "results_dict_count['full_data'] = roc\n",
    "shapes_dict_count['full_data'] = len(X_train)\n",
    "\n",
    "print()\n",
    "\n",
    "# now, we test the different under-samplers\n",
    "for undersampler in undersampler_dict.keys():\n",
    "    \n",
    "    print(undersampler)\n",
    "    \n",
    "    # resample the train set only\n",
    "    X_resampled, y_resampled = undersampler_dict[undersampler].fit_resample(X_train, y_train)\n",
    "    \n",
    "    # train model and evaluate performance\n",
    "    \n",
    "    # Note that performance returned is using test set, \n",
    "    # which was not under-sampled\n",
    "    \n",
    "    roc = run_RFs(X_resampled, X_test, y_resampled, y_test)\n",
    "    \n",
    "    # store results\n",
    "    results_dict_count[undersampler] = roc\n",
    "    shapes_dict_count[undersampler] = len(X_resampled)\n",
    "    \n",
    "    print()\n",
    "    \n",
    "print()"
   ]
  },
  {
   "cell_type": "code",
   "execution_count": 57,
   "id": "36efc20a",
   "metadata": {},
   "outputs": [
    {
     "data": {
      "text/plain": [
       "{'full_data': 0.9301929165098902,\n",
       " 'random': 0.9190900933678943,\n",
       " 'tomek': 0.928639737583096,\n",
       " 'oss': 0.9293732933607022,\n",
       " 'enn': 0.92669505788196,\n",
       " 'allknn': 0.9249251240308828,\n",
       " 'nm1': 0.8487124995471879,\n",
       " 'nm2': 0.56201041745716,\n",
       " 'iht_RF': 0.8105648888488152,\n",
       " 'iht_logit': 0.8536468305392947}"
      ]
     },
     "execution_count": 57,
     "metadata": {},
     "output_type": "execute_result"
    }
   ],
   "source": [
    "# used integer encoding for categorical variables\n",
    "results_dict"
   ]
  },
  {
   "cell_type": "code",
   "execution_count": 56,
   "id": "57758be0",
   "metadata": {},
   "outputs": [
    {
     "data": {
      "text/plain": [
       "{'full_data': 0.9301929165098902,\n",
       " 'random': 0.9190900933678943,\n",
       " 'tomek': 0.928639737583096,\n",
       " 'oss': 0.9293732933607022,\n",
       " 'enn': 0.92669505788196,\n",
       " 'allknn': 0.9249251240308828,\n",
       " 'nm1': 0.8487124995471879,\n",
       " 'nm2': 0.56201041745716,\n",
       " 'iht_RF': 0.8105648888488152,\n",
       " 'iht_logit': 0.8536468305392947}"
      ]
     },
     "execution_count": 56,
     "metadata": {},
     "output_type": "execute_result"
    }
   ],
   "source": [
    "# used count encoding for categorical variables\n",
    "results_dict_count"
   ]
  },
  {
   "cell_type": "code",
   "execution_count": 58,
   "id": "624a9917",
   "metadata": {},
   "outputs": [
    {
     "data": {
      "image/png": "[encoded data removed]",
      "text/plain": [
       "<Figure size 432x288 with 1 Axes>"
      ]
     },
     "metadata": {
      "needs_background": "light"
     },
     "output_type": "display_data"
    }
   ],
   "source": [
    "pd.Series(results_dict_count).plot.bar()\n",
    "plt.ylabel('roc-auc')\n",
    "plt.ylim(0.55, 0.95)\n",
    "plt.axhline(results_dict_count['full_data'], color='r')\n",
    "plt.show()"
   ]
  },
  {
   "cell_type": "markdown",
   "id": "6e72bfa9",
   "metadata": {},
   "source": [
    "Regardless of methods for feature engineering for categorical variables, none of undersampling techniques did not improve the performances compared to original model. \n",
    "\n",
    "However, __RandomUndersampling__ method is the best for this dataset if we choose one of the oversampling methods, because it shows slightly improved performances compared to train (0.918) and test set(0.919). The other methods showed over-fitting. "
   ]
  },
  {
   "cell_type": "markdown",
   "id": "bb22daeb",
   "metadata": {},
   "source": [
    "## Oversampling techniques"
   ]
  },
  {
   "cell_type": "code",
   "execution_count": null,
   "id": "941140a5",
   "metadata": {},
   "outputs": [],
   "source": []
  }
 ],
 "metadata": {
  "kernelspec": {
   "display_name": "Python 3",
   "language": "python",
   "name": "python3"
  },
  "language_info": {
   "codemirror_mode": {
    "name": "ipython",
    "version": 3
   },
   "file_extension": ".py",
   "mimetype": "text/x-python",
   "name": "python",
   "nbconvert_exporter": "python",
   "pygments_lexer": "ipython3",
   "version": "3.8.8"
  },
  "toc": {
   "base_numbering": 1,
   "nav_menu": {},
   "number_sections": true,
   "sideBar": true,
   "skip_h1_title": true,
   "title_cell": "Table of Contents",
   "title_sidebar": "Contents",
   "toc_cell": true,
   "toc_position": {},
   "toc_section_display": true,
   "toc_window_display": false
  },
  "varInspector": {
   "cols": {
    "lenName": 16,
    "lenType": 16,
    "lenVar": 40
   },
   "kernels_config": {
    "python": {
     "delete_cmd_postfix": "",
     "delete_cmd_prefix": "del ",
     "library": "var_list.py",
     "varRefreshCmd": "print(var_dic_list())"
    },
    "r": {
     "delete_cmd_postfix": ") ",
     "delete_cmd_prefix": "rm(",
     "library": "var_list.r",
     "varRefreshCmd": "cat(var_dic_list()) "
    }
   },
   "types_to_exclude": [
    "module",
    "function",
    "builtin_function_or_method",
    "instance",
    "_Feature"
   ],
   "window_display": false
  }
 },
 "nbformat": 4,
 "nbformat_minor": 5
}
