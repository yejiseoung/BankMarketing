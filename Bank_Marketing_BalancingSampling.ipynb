{
 "cells": [
  {
   "cell_type": "markdown",
   "id": "14fe3c3a",
   "metadata": {
    "toc": true
   },
   "source": [
    "<h1>Table of Contents<span class=\"tocSkip\"></span></h1>\n",
    "<div class=\"toc\"><ul class=\"toc-item\"><li><ul class=\"toc-item\"><li><span><a href=\"#Load-data\" data-toc-modified-id=\"Load-data-0.1\"><span class=\"toc-item-num\">0.1&nbsp;&nbsp;</span>Load data</a></span></li></ul></li><li><span><a href=\"#Undersampling-techniques\" data-toc-modified-id=\"Undersampling-techniques-1\"><span class=\"toc-item-num\">1&nbsp;&nbsp;</span>Undersampling techniques</a></span><ul class=\"toc-item\"><li><ul class=\"toc-item\"><li><span><a href=\"#Label-encoding-for-categorical-variable\" data-toc-modified-id=\"Label-encoding-for-categorical-variable-1.0.1\"><span class=\"toc-item-num\">1.0.1&nbsp;&nbsp;</span><strong>Label encoding for categorical variable</strong></a></span></li><li><span><a href=\"#Count-encoding-for-categorical-variables\" data-toc-modified-id=\"Count-encoding-for-categorical-variables-1.0.2\"><span class=\"toc-item-num\">1.0.2&nbsp;&nbsp;</span>Count encoding for categorical variables</a></span></li></ul></li></ul></li><li><span><a href=\"#Oversampling-techniques\" data-toc-modified-id=\"Oversampling-techniques-2\"><span class=\"toc-item-num\">2&nbsp;&nbsp;</span>Oversampling techniques</a></span></li><li><span><a href=\"#Under-sampling-with-cross-validation\" data-toc-modified-id=\"Under-sampling-with-cross-validation-3\"><span class=\"toc-item-num\">3&nbsp;&nbsp;</span>Under-sampling with cross-validation</a></span></li><li><span><a href=\"#Over-sampling-with-cross-validation\" data-toc-modified-id=\"Over-sampling-with-cross-validation-4\"><span class=\"toc-item-num\">4&nbsp;&nbsp;</span>Over-sampling with cross-validation</a></span></li><li><span><a href=\"#Over+Undersampling-methods\" data-toc-modified-id=\"Over+Undersampling-methods-5\"><span class=\"toc-item-num\">5&nbsp;&nbsp;</span>Over+Undersampling methods</a></span></li><li><span><a href=\"#Ensemble-Learning\" data-toc-modified-id=\"Ensemble-Learning-6\"><span class=\"toc-item-num\">6&nbsp;&nbsp;</span>Ensemble Learning</a></span></li><li><span><a href=\"#Cost-Sensitive-Learning\" data-toc-modified-id=\"Cost-Sensitive-Learning-7\"><span class=\"toc-item-num\">7&nbsp;&nbsp;</span>Cost Sensitive Learning</a></span></li><li><span><a href=\"#What-is-the-best?\" data-toc-modified-id=\"What-is-the-best?-8\"><span class=\"toc-item-num\">8&nbsp;&nbsp;</span>What is the best?</a></span></li></ul></div>"
   ]
  },
  {
   "cell_type": "markdown",
   "id": "febe2f30",
   "metadata": {},
   "source": [
    "# Bank Marketing Undersampling\n"
   ]
  },
  {
   "cell_type": "markdown",
   "id": "6f9e38b5",
   "metadata": {},
   "source": [
    "We've seen the bank marketing dataset is an imbalanced data which means that datasets have many more instances of certain classes than of others, so we need to deal with this very carefully. \n",
    "\n",
    "> __Why is imbalanced dataset problem?__\n",
    "    - Most machine learning algorithms assume balanced distributions. As the minority examples occur rarely, rules to predict the small classes are difficult to find. Samples from the minority class are most often misclassified. \n",
    "    \n",
    "    \n",
    "> __What is Under-Sampling methods?__\n",
    "    - Undersampling methods process of __reducing__ the number of samples from the majority class. \n",
    "    \n",
    "There is no consensus in the community regarding which technique should be used with imbalanced datsets. \n",
    "Therefore, in this notebook, I will compare the performances of different undersampling techniques and choose which one is the best for the bank marketing dataset."
   ]
  },
  {
   "cell_type": "code",
   "execution_count": 1,
   "id": "bbe1ce15",
   "metadata": {},
   "outputs": [
    {
     "data": {
      "text/plain": [
       "'/Users/yejiseoung/Dropbox/My Mac (Yejis-MacBook-Pro.local)/Documents/Projects/BankMarketing'"
      ]
     },
     "execution_count": 1,
     "metadata": {},
     "output_type": "execute_result"
    }
   ],
   "source": [
    "import numpy as np\n",
    "import pandas as pd\n",
    "import seaborn as sns\n",
    "import matplotlib.pyplot as plt\n",
    "\n",
    "import warnings\n",
    "warnings.filterwarnings('ignore')\n",
    "\n",
    "from collections import Counter\n",
    "\n",
    "pd.set_option('display.max_columns', None)\n",
    "pd.set_option('display.max_rows', None)\n",
    "\n",
    "from pathlib import Path\n",
    "import os\n",
    "os.getcwd()"
   ]
  },
  {
   "cell_type": "code",
   "execution_count": 2,
   "id": "35f7379a",
   "metadata": {},
   "outputs": [],
   "source": [
    "path = Path('/Users/yejiseoung/Dropbox/My Mac (Yejis-MacBook-Pro.local)/Documents/Projects/BankMarketing')"
   ]
  },
  {
   "cell_type": "code",
   "execution_count": 3,
   "id": "b1b01127",
   "metadata": {},
   "outputs": [],
   "source": [
    "# for the model \n",
    "from sklearn.model_selection import train_test_split, GridSearchCV, cross_validate\n",
    "from sklearn.linear_model import LogisticRegression\n",
    "from sklearn.ensemble import (\n",
    "    GradientBoostingClassifier,\n",
    "    RandomForestClassifier,\n",
    "    BaggingClassifier,\n",
    "    AdaBoostClassifier\n",
    ")\n",
    "\n",
    "from sklearn.metrics import (\n",
    "    roc_auc_score, \n",
    "    confusion_matrix\n",
    ")\n",
    "\n",
    "from sklearn.preprocessing import StandardScaler\n",
    "\n",
    "from sklearn.pipeline import Pipeline\n",
    "\n",
    "# for feature engineering\n",
    "from feature_engine import encoding as ce\n",
    "\n",
    "# for undersampling\n",
    "from imblearn.under_sampling import (\n",
    "    RandomUnderSampler,\n",
    "    CondensedNearestNeighbour,\n",
    "    TomekLinks,\n",
    "    OneSidedSelection,\n",
    "    EditedNearestNeighbours,\n",
    "    RepeatedEditedNearestNeighbours,\n",
    "    AllKNN,\n",
    "    NeighbourhoodCleaningRule,\n",
    "    NearMiss,\n",
    "    InstanceHardnessThreshold\n",
    ")\n",
    "\n",
    "\n",
    "# for oversampling\n",
    "from sklearn.svm import SVC\n",
    "\n",
    "from imblearn.over_sampling import (\n",
    "    RandomOverSampler,\n",
    "    SMOTE,\n",
    "    ADASYN,\n",
    "    BorderlineSMOTE,\n",
    "    SVMSMOTE\n",
    ")\n",
    "\n",
    "# for combination sampling\n",
    "from imblearn.combine import SMOTEENN, SMOTETomek\n",
    "\n",
    "# for cross-validation\n",
    "from imblearn.pipeline import make_pipeline\n",
    "\n",
    "# for ensemble sampling\n",
    "from imblearn.ensemble import (\n",
    "    BalancedBaggingClassifier,\n",
    "    BalancedRandomForestClassifier,\n",
    "    RUSBoostClassifier,\n",
    "    EasyEnsembleClassifier\n",
    ")"
   ]
  },
  {
   "cell_type": "markdown",
   "id": "df5411ca",
   "metadata": {},
   "source": [
    "### Load data"
   ]
  },
  {
   "cell_type": "code",
   "execution_count": 4,
   "id": "15f113d9",
   "metadata": {},
   "outputs": [
    {
     "name": "stdout",
     "output_type": "stream",
     "text": [
      "(41185, 21)\n"
     ]
    },
    {
     "data": {
      "text/html": [
       "<div>\n",
       "<style scoped>\n",
       "    .dataframe tbody tr th:only-of-type {\n",
       "        vertical-align: middle;\n",
       "    }\n",
       "\n",
       "    .dataframe tbody tr th {\n",
       "        vertical-align: top;\n",
       "    }\n",
       "\n",
       "    .dataframe thead th {\n",
       "        text-align: right;\n",
       "    }\n",
       "</style>\n",
       "<table border=\"1\" class=\"dataframe\">\n",
       "  <thead>\n",
       "    <tr style=\"text-align: right;\">\n",
       "      <th></th>\n",
       "      <th>job</th>\n",
       "      <th>marital</th>\n",
       "      <th>education</th>\n",
       "      <th>default</th>\n",
       "      <th>housing</th>\n",
       "      <th>loan</th>\n",
       "      <th>contact</th>\n",
       "      <th>month</th>\n",
       "      <th>day_of_week</th>\n",
       "      <th>duration</th>\n",
       "      <th>campaign</th>\n",
       "      <th>previous</th>\n",
       "      <th>poutcome</th>\n",
       "      <th>emp.var.rate</th>\n",
       "      <th>cons.price.idx</th>\n",
       "      <th>cons.conf.idx</th>\n",
       "      <th>euribor3m</th>\n",
       "      <th>nr.employed</th>\n",
       "      <th>y</th>\n",
       "      <th>age_group</th>\n",
       "      <th>pdays_group</th>\n",
       "    </tr>\n",
       "  </thead>\n",
       "  <tbody>\n",
       "    <tr>\n",
       "      <th>0</th>\n",
       "      <td>housemaid</td>\n",
       "      <td>married</td>\n",
       "      <td>basic.4y</td>\n",
       "      <td>no</td>\n",
       "      <td>no</td>\n",
       "      <td>no</td>\n",
       "      <td>telephone</td>\n",
       "      <td>may</td>\n",
       "      <td>mon</td>\n",
       "      <td>261</td>\n",
       "      <td>1</td>\n",
       "      <td>0</td>\n",
       "      <td>nonexistent</td>\n",
       "      <td>1.1</td>\n",
       "      <td>93.994</td>\n",
       "      <td>-36.4</td>\n",
       "      <td>4.857</td>\n",
       "      <td>5191.0</td>\n",
       "      <td>no</td>\n",
       "      <td>51-60</td>\n",
       "      <td>Not contacted</td>\n",
       "    </tr>\n",
       "    <tr>\n",
       "      <th>1</th>\n",
       "      <td>services</td>\n",
       "      <td>married</td>\n",
       "      <td>high.school</td>\n",
       "      <td>unknown</td>\n",
       "      <td>no</td>\n",
       "      <td>no</td>\n",
       "      <td>telephone</td>\n",
       "      <td>may</td>\n",
       "      <td>mon</td>\n",
       "      <td>149</td>\n",
       "      <td>1</td>\n",
       "      <td>0</td>\n",
       "      <td>nonexistent</td>\n",
       "      <td>1.1</td>\n",
       "      <td>93.994</td>\n",
       "      <td>-36.4</td>\n",
       "      <td>4.857</td>\n",
       "      <td>5191.0</td>\n",
       "      <td>no</td>\n",
       "      <td>51-60</td>\n",
       "      <td>Not contacted</td>\n",
       "    </tr>\n",
       "    <tr>\n",
       "      <th>2</th>\n",
       "      <td>services</td>\n",
       "      <td>married</td>\n",
       "      <td>high.school</td>\n",
       "      <td>no</td>\n",
       "      <td>yes</td>\n",
       "      <td>no</td>\n",
       "      <td>telephone</td>\n",
       "      <td>may</td>\n",
       "      <td>mon</td>\n",
       "      <td>226</td>\n",
       "      <td>1</td>\n",
       "      <td>0</td>\n",
       "      <td>nonexistent</td>\n",
       "      <td>1.1</td>\n",
       "      <td>93.994</td>\n",
       "      <td>-36.4</td>\n",
       "      <td>4.857</td>\n",
       "      <td>5191.0</td>\n",
       "      <td>no</td>\n",
       "      <td>31-40</td>\n",
       "      <td>Not contacted</td>\n",
       "    </tr>\n",
       "    <tr>\n",
       "      <th>3</th>\n",
       "      <td>admin.</td>\n",
       "      <td>married</td>\n",
       "      <td>basic.6y</td>\n",
       "      <td>no</td>\n",
       "      <td>no</td>\n",
       "      <td>no</td>\n",
       "      <td>telephone</td>\n",
       "      <td>may</td>\n",
       "      <td>mon</td>\n",
       "      <td>151</td>\n",
       "      <td>1</td>\n",
       "      <td>0</td>\n",
       "      <td>nonexistent</td>\n",
       "      <td>1.1</td>\n",
       "      <td>93.994</td>\n",
       "      <td>-36.4</td>\n",
       "      <td>4.857</td>\n",
       "      <td>5191.0</td>\n",
       "      <td>no</td>\n",
       "      <td>31-40</td>\n",
       "      <td>Not contacted</td>\n",
       "    </tr>\n",
       "    <tr>\n",
       "      <th>4</th>\n",
       "      <td>services</td>\n",
       "      <td>married</td>\n",
       "      <td>high.school</td>\n",
       "      <td>no</td>\n",
       "      <td>no</td>\n",
       "      <td>yes</td>\n",
       "      <td>telephone</td>\n",
       "      <td>may</td>\n",
       "      <td>mon</td>\n",
       "      <td>307</td>\n",
       "      <td>1</td>\n",
       "      <td>0</td>\n",
       "      <td>nonexistent</td>\n",
       "      <td>1.1</td>\n",
       "      <td>93.994</td>\n",
       "      <td>-36.4</td>\n",
       "      <td>4.857</td>\n",
       "      <td>5191.0</td>\n",
       "      <td>no</td>\n",
       "      <td>51-60</td>\n",
       "      <td>Not contacted</td>\n",
       "    </tr>\n",
       "  </tbody>\n",
       "</table>\n",
       "</div>"
      ],
      "text/plain": [
       "         job  marital    education  default housing loan    contact month  \\\n",
       "0  housemaid  married     basic.4y       no      no   no  telephone   may   \n",
       "1   services  married  high.school  unknown      no   no  telephone   may   \n",
       "2   services  married  high.school       no     yes   no  telephone   may   \n",
       "3     admin.  married     basic.6y       no      no   no  telephone   may   \n",
       "4   services  married  high.school       no      no  yes  telephone   may   \n",
       "\n",
       "  day_of_week  duration  campaign  previous     poutcome  emp.var.rate  \\\n",
       "0         mon       261         1         0  nonexistent           1.1   \n",
       "1         mon       149         1         0  nonexistent           1.1   \n",
       "2         mon       226         1         0  nonexistent           1.1   \n",
       "3         mon       151         1         0  nonexistent           1.1   \n",
       "4         mon       307         1         0  nonexistent           1.1   \n",
       "\n",
       "   cons.price.idx  cons.conf.idx  euribor3m  nr.employed   y age_group  \\\n",
       "0          93.994          -36.4      4.857       5191.0  no     51-60   \n",
       "1          93.994          -36.4      4.857       5191.0  no     51-60   \n",
       "2          93.994          -36.4      4.857       5191.0  no     31-40   \n",
       "3          93.994          -36.4      4.857       5191.0  no     31-40   \n",
       "4          93.994          -36.4      4.857       5191.0  no     51-60   \n",
       "\n",
       "     pdays_group  \n",
       "0  Not contacted  \n",
       "1  Not contacted  \n",
       "2  Not contacted  \n",
       "3  Not contacted  \n",
       "4  Not contacted  "
      ]
     },
     "execution_count": 4,
     "metadata": {},
     "output_type": "execute_result"
    }
   ],
   "source": [
    "data = pd.read_csv(path/'cleaned_data.csv')\n",
    "data.drop('Unnamed: 0', axis=1, inplace=True)\n",
    "print(data.shape)\n",
    "data.head()"
   ]
  },
  {
   "cell_type": "code",
   "execution_count": 5,
   "id": "39d8f7ce",
   "metadata": {},
   "outputs": [
    {
     "name": "stdout",
     "output_type": "stream",
     "text": [
      "The number of categorical variables: 12\n",
      "The number of numerical variables: 8\n"
     ]
    }
   ],
   "source": [
    "# create lists of numerical and categorical variables\n",
    "cat_vars = [var for var in data.columns if data[var].dtype == 'O' and var != 'y']\n",
    "num_vars = [var for var in data.columns if data[var].dtype != 'O' and var != 'y']\n",
    "\n",
    "print('The number of categorical variables: {}'.format(len(cat_vars)))\n",
    "print('The number of numerical variables: {}'.format(len(num_vars)))"
   ]
  },
  {
   "cell_type": "code",
   "execution_count": 6,
   "id": "6e6213f9",
   "metadata": {},
   "outputs": [],
   "source": [
    "def run_RFs(X_train, X_test, y_train, y_test):\n",
    "    \n",
    "    rf = RandomForestClassifier(n_estimators=50, max_depth=3, random_state=39)\n",
    "    rf.fit(X_train, y_train)\n",
    "    \n",
    "    print('Train set')\n",
    "    pred = rf.predict_proba(X_train)\n",
    "    print('Random Forests roc-auc: {}'.format(roc_auc_score(y_train, pred[:, 1])))\n",
    "    #print('Confusion_matrix: ')\n",
    "    #print(confusion_matrix(y_train, rf.predict(X_train)))\n",
    "    \n",
    "    print('Test set')\n",
    "    pred = rf.predict_proba(X_test)\n",
    "    print('Random Forests roc-auc: {}'.format(roc_auc_score(y_test, pred[:, 1])))\n",
    "    #print('Confusion_matrix: ')\n",
    "    #print(confusion_matrix(y_test, rf.predict(X_test)))\n",
    "    \n",
    "    return roc_auc_score(y_test, pred[:, 1])"
   ]
  },
  {
   "cell_type": "code",
   "execution_count": 7,
   "id": "7eef2501",
   "metadata": {},
   "outputs": [],
   "source": [
    "def run_logit(X_train, X_test, y_train, y_test):\n",
    "    logit = LogisticRegression(C=0.01, max_iter=1000, random_state=44)\n",
    "    logit.fit(X_train, y_train)\n",
    "    \n",
    "    print('Train set')\n",
    "    pred = logit.predict_proba(X_train)\n",
    "    print('Random Forests roc-auc: {}'.format(roc_auc_score(y_train, pred[:, 1])))\n",
    "    #print('Confusion_matrix: ')\n",
    "    #print(confusion_matrix(y_train, logit.predict(X_train)))\n",
    "    \n",
    "    print('Test set')\n",
    "    pred = logit.predict_proba(X_test)\n",
    "    print('Random Forests roc-auc: {}'.format(roc_auc_score(y_test, pred[:, 1])))\n",
    "    #print('Confusion_matrix: ')\n",
    "    #print(confusion_matrix(y_test, logit.predict(X_test)))"
   ]
  },
  {
   "cell_type": "markdown",
   "id": "63e8a354",
   "metadata": {
    "heading_collapsed": true
   },
   "source": [
    "## Undersampling techniques"
   ]
  },
  {
   "cell_type": "markdown",
   "id": "417c0263",
   "metadata": {
    "hidden": true
   },
   "source": [
    "    RandomSampling\n",
    "    CondensedNearestNeighbour,- takes a lot of time\n",
    "    TomekLinks,\n",
    "    OneSidedSelection,\n",
    "    EditedNearestNeighbours,\n",
    "    RepeatedEditedNearestNeighbours, - takes a lot of time\n",
    "    AllKNN,\n",
    "    NeighbourhoodCleaningRule,\n",
    "    NearMiss,\n",
    "    InstanceHardnessThreshold\n",
    "    \n",
    "    \n",
    "While performing trial and error, cnn and renn took so long time to perform, so I didn't include them after I got an error. Also, both methods did not improve the performances. \n",
    "\n",
    "Also, I realized when I tried to see the differences between categorical encoding methods, both performances look similar (or exactly same) when I used undersampling techniques. So, I will use only label encoding for further experiments. "
   ]
  },
  {
   "cell_type": "code",
   "execution_count": 48,
   "id": "446c9111",
   "metadata": {
    "hidden": true
   },
   "outputs": [],
   "source": [
    "undersampler_dict = {\n",
    "\n",
    "    'random': RandomUnderSampler(\n",
    "        sampling_strategy='auto',\n",
    "        random_state=0,\n",
    "        replacement=False),\n",
    "\n",
    "    'tomek': TomekLinks(\n",
    "        sampling_strategy='auto',\n",
    "        n_jobs=1),\n",
    "\n",
    "    'oss': OneSidedSelection(\n",
    "        sampling_strategy='auto',\n",
    "        random_state=0,\n",
    "        n_neighbors=1,\n",
    "        n_jobs=1),\n",
    "\n",
    "    'enn': EditedNearestNeighbours(\n",
    "        sampling_strategy='auto',\n",
    "        n_neighbors=3,\n",
    "        kind_sel='all',\n",
    "        n_jobs=1),\n",
    "\n",
    "    'allknn': AllKNN(\n",
    "        sampling_strategy='auto',\n",
    "        n_neighbors=3,\n",
    "        kind_sel='all',\n",
    "        n_jobs=1),\n",
    "\n",
    "    'nm1': NearMiss(\n",
    "        sampling_strategy='auto',\n",
    "        version=1,\n",
    "        n_neighbors=3,\n",
    "        n_jobs=1),\n",
    "\n",
    "    'nm2': NearMiss(\n",
    "        sampling_strategy='auto',\n",
    "        version=2,\n",
    "        n_neighbors=3,\n",
    "        n_jobs=1),\n",
    "   \n",
    "    'iht_RF': InstanceHardnessThreshold(\n",
    "        estimator=RandomForestClassifier(n_estimators=30, max_depth=3, random_state=39),\n",
    "        sampling_strategy='auto',\n",
    "        random_state=0,\n",
    "        n_jobs=1,\n",
    "        cv=3\n",
    "    ),\n",
    "    \n",
    "    'iht_logit': InstanceHardnessThreshold(\n",
    "        estimator=LogisticRegression(random_state=0),\n",
    "        sampling_strategy='auto',\n",
    "        random_state=0,\n",
    "        n_jobs=1,\n",
    "        cv=3\n",
    "    )\n",
    "    \n",
    "}"
   ]
  },
  {
   "cell_type": "markdown",
   "id": "c7c0b9af",
   "metadata": {
    "hidden": true
   },
   "source": [
    "#### __Label encoding for categorical variable__"
   ]
  },
  {
   "cell_type": "code",
   "execution_count": 49,
   "id": "64475bd1",
   "metadata": {
    "hidden": true
   },
   "outputs": [
    {
     "name": "stdout",
     "output_type": "stream",
     "text": [
      "Train set\n",
      "Random Forests roc-auc: 0.9277391477348833\n",
      "Test set\n",
      "Random Forests roc-auc: 0.9301929165098902\n",
      "\n",
      "random\n",
      "Train set\n",
      "Random Forests roc-auc: 0.918630886370392\n",
      "Test set\n",
      "Random Forests roc-auc: 0.9190900933678943\n",
      "\n",
      "tomek\n",
      "Train set\n",
      "Random Forests roc-auc: 0.9356610485018332\n",
      "Test set\n",
      "Random Forests roc-auc: 0.928639737583096\n",
      "\n",
      "oss\n",
      "Train set\n",
      "Random Forests roc-auc: 0.9367623339431852\n",
      "Test set\n",
      "Random Forests roc-auc: 0.9293732933607022\n",
      "\n",
      "enn\n",
      "Train set\n",
      "Random Forests roc-auc: 0.9673882908150533\n",
      "Test set\n",
      "Random Forests roc-auc: 0.92669505788196\n",
      "\n",
      "allknn\n",
      "Train set\n",
      "Random Forests roc-auc: 0.9723198833543294\n",
      "Test set\n",
      "Random Forests roc-auc: 0.9249251240308828\n",
      "\n",
      "nm1\n",
      "Train set\n",
      "Random Forests roc-auc: 0.8866529730101812\n",
      "Test set\n",
      "Random Forests roc-auc: 0.8487124995471879\n",
      "\n",
      "nm2\n",
      "Train set\n",
      "Random Forests roc-auc: 0.9298391000064792\n",
      "Test set\n",
      "Random Forests roc-auc: 0.56201041745716\n",
      "\n",
      "iht_RF\n",
      "Train set\n",
      "Random Forests roc-auc: 0.997656679795455\n",
      "Test set\n",
      "Random Forests roc-auc: 0.8105648888488152\n",
      "\n",
      "iht_logit\n",
      "Train set\n",
      "Random Forests roc-auc: 0.9998467668366762\n",
      "Test set\n",
      "Random Forests roc-auc: 0.8536468305392947\n",
      "\n",
      "\n"
     ]
    }
   ],
   "source": [
    "# loop to train models with the different under-sampling methods\n",
    "\n",
    "# to save the results\n",
    "results_dict = {}\n",
    "shapes_dict = {}\n",
    "\n",
    "# separate train and test\n",
    "X_train, X_test, y_train, y_test = train_test_split(\n",
    "    data.drop('y', axis=1), \n",
    "    data['y'],\n",
    "    test_size=0.3,\n",
    "    random_state=0\n",
    ")\n",
    "\n",
    "# label encoding for categorical variables\n",
    "ordinal_enc = ce.OrdinalEncoder(\n",
    "    encoding_method='arbitrary',\n",
    "    variables=cat_vars\n",
    ")\n",
    "\n",
    "ordinal_enc.fit(X_train)\n",
    "X_train = ordinal_enc.transform(X_train)\n",
    "X_test = ordinal_enc.transform(X_test)\n",
    "\n",
    "# set up the scaler for feature scaling because we have KNN based techniques\n",
    "standard_scaler = StandardScaler().fit(X_train)\n",
    "X_train = standard_scaler.transform(X_train)\n",
    "X_test = standard_scaler.transform(X_test)\n",
    "\n",
    "y_train = y_train.map({'no':0, 'yes': 1})\n",
    "y_test = y_test.map({'no': 0, 'yes': 1})\n",
    "\n",
    "\n",
    "\n",
    "# train a model on the original data without under-sampling\n",
    "# and determine model performance\n",
    "roc = run_RFs(X_train, X_test, y_train, y_test)\n",
    "\n",
    "# store results\n",
    "results_dict['full_data'] = roc\n",
    "shapes_dict['full_data'] = len(X_train)\n",
    "\n",
    "print()\n",
    "\n",
    "# now, we test the different under-samplers\n",
    "for undersampler in undersampler_dict.keys():\n",
    "    \n",
    "    print(undersampler)\n",
    "    \n",
    "    # resample the train set only\n",
    "    X_resampled, y_resampled = undersampler_dict[undersampler].fit_resample(X_train, y_train)\n",
    "    \n",
    "    # train model and evaluate performance\n",
    "    \n",
    "    # Note that performance returned is using test set, \n",
    "    # which was not under-sampled\n",
    "    \n",
    "    roc = run_RFs(X_resampled, X_test, y_resampled, y_test)\n",
    "    \n",
    "    # store results\n",
    "    results_dict[undersampler] = roc\n",
    "    shapes_dict[undersampler] = len(X_resampled)\n",
    "    \n",
    "    print()\n",
    "    \n",
    "print()"
   ]
  },
  {
   "cell_type": "code",
   "execution_count": 50,
   "id": "3ded1b7f",
   "metadata": {
    "hidden": true
   },
   "outputs": [
    {
     "data": {
      "text/plain": [
       "{'full_data': 0.9301929165098902,\n",
       " 'random': 0.9190900933678943,\n",
       " 'tomek': 0.928639737583096,\n",
       " 'oss': 0.9293732933607022,\n",
       " 'enn': 0.92669505788196,\n",
       " 'allknn': 0.9249251240308828,\n",
       " 'nm1': 0.8487124995471879,\n",
       " 'nm2': 0.56201041745716,\n",
       " 'iht_RF': 0.8105648888488152,\n",
       " 'iht_logit': 0.8536468305392947}"
      ]
     },
     "execution_count": 50,
     "metadata": {},
     "output_type": "execute_result"
    }
   ],
   "source": [
    "results_dict"
   ]
  },
  {
   "cell_type": "code",
   "execution_count": 51,
   "id": "c93b8310",
   "metadata": {
    "hidden": true
   },
   "outputs": [
    {
     "data": {
      "text/plain": [
       "{'full_data': 28829,\n",
       " 'random': 6522,\n",
       " 'tomek': 28012,\n",
       " 'oss': 28010,\n",
       " 'enn': 25429,\n",
       " 'allknn': 24963,\n",
       " 'nm1': 6522,\n",
       " 'nm2': 6522,\n",
       " 'iht_RF': 6528,\n",
       " 'iht_logit': 6522}"
      ]
     },
     "execution_count": 51,
     "metadata": {},
     "output_type": "execute_result"
    }
   ],
   "source": [
    "shapes_dict"
   ]
  },
  {
   "cell_type": "code",
   "execution_count": 54,
   "id": "a8ae3e45",
   "metadata": {
    "hidden": true
   },
   "outputs": [
    {
     "data": {
      "image/png": "[encoded data removed]",
      "text/plain": [
       "<Figure size 432x288 with 1 Axes>"
      ]
     },
     "metadata": {
      "needs_background": "light"
     },
     "output_type": "display_data"
    }
   ],
   "source": [
    "pd.Series(results_dict).plot.bar()\n",
    "plt.ylabel('roc-auc')\n",
    "plt.ylim(0.55, 0.95)\n",
    "plt.axhline(results_dict['full_data'], color='r')\n",
    "plt.show()"
   ]
  },
  {
   "cell_type": "markdown",
   "id": "651446c2",
   "metadata": {
    "hidden": true
   },
   "source": [
    "None of the different techniques improved performances compared to the baseline model. "
   ]
  },
  {
   "cell_type": "markdown",
   "id": "b21a3e6e",
   "metadata": {
    "hidden": true
   },
   "source": [
    "#### Count encoding for categorical variables"
   ]
  },
  {
   "cell_type": "code",
   "execution_count": 55,
   "id": "9347a71e",
   "metadata": {
    "hidden": true
   },
   "outputs": [
    {
     "name": "stdout",
     "output_type": "stream",
     "text": [
      "Train set\n",
      "Random Forests roc-auc: 0.9277391477348833\n",
      "Test set\n",
      "Random Forests roc-auc: 0.9301929165098902\n",
      "\n",
      "random\n",
      "Train set\n",
      "Random Forests roc-auc: 0.918630886370392\n",
      "Test set\n",
      "Random Forests roc-auc: 0.9190900933678943\n",
      "\n",
      "tomek\n",
      "Train set\n",
      "Random Forests roc-auc: 0.9356610485018332\n",
      "Test set\n",
      "Random Forests roc-auc: 0.928639737583096\n",
      "\n",
      "oss\n",
      "Train set\n",
      "Random Forests roc-auc: 0.9367623339431852\n",
      "Test set\n",
      "Random Forests roc-auc: 0.9293732933607022\n",
      "\n",
      "enn\n",
      "Train set\n",
      "Random Forests roc-auc: 0.9673882908150533\n",
      "Test set\n",
      "Random Forests roc-auc: 0.92669505788196\n",
      "\n",
      "allknn\n",
      "Train set\n",
      "Random Forests roc-auc: 0.9723198833543294\n",
      "Test set\n",
      "Random Forests roc-auc: 0.9249251240308828\n",
      "\n",
      "nm1\n",
      "Train set\n",
      "Random Forests roc-auc: 0.8866529730101812\n",
      "Test set\n",
      "Random Forests roc-auc: 0.8487124995471879\n",
      "\n",
      "nm2\n",
      "Train set\n",
      "Random Forests roc-auc: 0.9298391000064792\n",
      "Test set\n",
      "Random Forests roc-auc: 0.56201041745716\n",
      "\n",
      "iht_RF\n",
      "Train set\n",
      "Random Forests roc-auc: 0.997656679795455\n",
      "Test set\n",
      "Random Forests roc-auc: 0.8105648888488152\n",
      "\n",
      "iht_logit\n",
      "Train set\n",
      "Random Forests roc-auc: 0.9998467668366762\n",
      "Test set\n",
      "Random Forests roc-auc: 0.8536468305392947\n",
      "\n",
      "\n"
     ]
    }
   ],
   "source": [
    "# loop to train models with the different under-sampling methods\n",
    "\n",
    "# to save the results\n",
    "results_dict_count = {}\n",
    "shapes_dict_count = {}\n",
    "\n",
    "# separate train and test\n",
    "X_train, X_test, y_train, y_test = train_test_split(\n",
    "    data.drop('y', axis=1), \n",
    "    data['y'],\n",
    "    test_size=0.3,\n",
    "    random_state=0\n",
    ")\n",
    "\n",
    "# label encoding for categorical variables\n",
    "ordinal_enc = ce.OrdinalEncoder(\n",
    "    encoding_method='arbitrary',\n",
    "    variables=cat_vars\n",
    ")\n",
    "\n",
    "ordinal_enc.fit(X_train)\n",
    "X_train = ordinal_enc.transform(X_train)\n",
    "X_test = ordinal_enc.transform(X_test)\n",
    "\n",
    "# set up the scaler for feature scaling because we have KNN based techniques\n",
    "standard_scaler = StandardScaler().fit(X_train)\n",
    "X_train = standard_scaler.transform(X_train)\n",
    "X_test = standard_scaler.transform(X_test)\n",
    "\n",
    "y_train = y_train.map({'no':0, 'yes': 1})\n",
    "y_test = y_test.map({'no': 0, 'yes': 1})\n",
    "\n",
    "\n",
    "\n",
    "# train a model on the original data without under-sampling\n",
    "# and determine model performance\n",
    "roc = run_RFs(X_train, X_test, y_train, y_test)\n",
    "\n",
    "# store results\n",
    "results_dict_count['full_data'] = roc\n",
    "shapes_dict_count['full_data'] = len(X_train)\n",
    "\n",
    "print()\n",
    "\n",
    "# now, we test the different under-samplers\n",
    "for undersampler in undersampler_dict.keys():\n",
    "    \n",
    "    print(undersampler)\n",
    "    \n",
    "    # resample the train set only\n",
    "    X_resampled, y_resampled = undersampler_dict[undersampler].fit_resample(X_train, y_train)\n",
    "    \n",
    "    # train model and evaluate performance\n",
    "    \n",
    "    # Note that performance returned is using test set, \n",
    "    # which was not under-sampled\n",
    "    \n",
    "    roc = run_RFs(X_resampled, X_test, y_resampled, y_test)\n",
    "    \n",
    "    # store results\n",
    "    results_dict_count[undersampler] = roc\n",
    "    shapes_dict_count[undersampler] = len(X_resampled)\n",
    "    \n",
    "    print()\n",
    "    \n",
    "print()"
   ]
  },
  {
   "cell_type": "code",
   "execution_count": 57,
   "id": "589f60cf",
   "metadata": {
    "hidden": true
   },
   "outputs": [
    {
     "data": {
      "text/plain": [
       "{'full_data': 0.9301929165098902,\n",
       " 'random': 0.9190900933678943,\n",
       " 'tomek': 0.928639737583096,\n",
       " 'oss': 0.9293732933607022,\n",
       " 'enn': 0.92669505788196,\n",
       " 'allknn': 0.9249251240308828,\n",
       " 'nm1': 0.8487124995471879,\n",
       " 'nm2': 0.56201041745716,\n",
       " 'iht_RF': 0.8105648888488152,\n",
       " 'iht_logit': 0.8536468305392947}"
      ]
     },
     "execution_count": 57,
     "metadata": {},
     "output_type": "execute_result"
    }
   ],
   "source": [
    "# used integer encoding for categorical variables\n",
    "results_dict"
   ]
  },
  {
   "cell_type": "code",
   "execution_count": 56,
   "id": "efb6976f",
   "metadata": {
    "hidden": true
   },
   "outputs": [
    {
     "data": {
      "text/plain": [
       "{'full_data': 0.9301929165098902,\n",
       " 'random': 0.9190900933678943,\n",
       " 'tomek': 0.928639737583096,\n",
       " 'oss': 0.9293732933607022,\n",
       " 'enn': 0.92669505788196,\n",
       " 'allknn': 0.9249251240308828,\n",
       " 'nm1': 0.8487124995471879,\n",
       " 'nm2': 0.56201041745716,\n",
       " 'iht_RF': 0.8105648888488152,\n",
       " 'iht_logit': 0.8536468305392947}"
      ]
     },
     "execution_count": 56,
     "metadata": {},
     "output_type": "execute_result"
    }
   ],
   "source": [
    "# used count encoding for categorical variables\n",
    "results_dict_count"
   ]
  },
  {
   "cell_type": "code",
   "execution_count": 58,
   "id": "b866cc08",
   "metadata": {
    "hidden": true
   },
   "outputs": [
    {
     "data": {
      "image/png": "[encoded data removed]",
      "text/plain": [
       "<Figure size 432x288 with 1 Axes>"
      ]
     },
     "metadata": {
      "needs_background": "light"
     },
     "output_type": "display_data"
    }
   ],
   "source": [
    "pd.Series(results_dict_count).plot.bar()\n",
    "plt.ylabel('roc-auc')\n",
    "plt.ylim(0.55, 0.95)\n",
    "plt.axhline(results_dict_count['full_data'], color='r')\n",
    "plt.show()"
   ]
  },
  {
   "cell_type": "markdown",
   "id": "29decee2",
   "metadata": {
    "hidden": true
   },
   "source": [
    "Regardless of methods for feature engineering for categorical variables, none of undersampling techniques did not improve the performances compared to original model. \n",
    "\n",
    "However, __RandomUndersampling__ method is the best for this dataset if we choose one of the oversampling methods, because it shows slightly improved performances compared to train (0.918) and test set(0.919). The other methods showed over-fitting. "
   ]
  },
  {
   "cell_type": "markdown",
   "id": "aab2a4bc",
   "metadata": {
    "heading_collapsed": true
   },
   "source": [
    "## Oversampling techniques"
   ]
  },
  {
   "cell_type": "markdown",
   "id": "d9f61c17",
   "metadata": {
    "hidden": true
   },
   "source": [
    "    RandomOverSampler\n",
    "    SMOTE\n",
    "    ADASYN\n",
    "    BorderlineSMOTE\n",
    "    SVMSMOTE"
   ]
  },
  {
   "cell_type": "code",
   "execution_count": 59,
   "id": "08b96c6b",
   "metadata": {
    "hidden": true
   },
   "outputs": [
    {
     "data": {
      "text/plain": [
       "no     0.887362\n",
       "yes    0.112638\n",
       "Name: y, dtype: float64"
      ]
     },
     "execution_count": 59,
     "metadata": {},
     "output_type": "execute_result"
    }
   ],
   "source": [
    "data['y'].value_counts() / len(data)"
   ]
  },
  {
   "cell_type": "code",
   "execution_count": 62,
   "id": "c4ef3b69",
   "metadata": {
    "hidden": true
   },
   "outputs": [],
   "source": [
    "oversampler_dict = {\n",
    "    \n",
    "    'random': RandomOverSampler(\n",
    "        sampling_strategy='auto',\n",
    "        random_state=0),\n",
    "    \n",
    "    'smote': SMOTE(\n",
    "        sampling_strategy='auto', # samples only the minority class\n",
    "        random_state=0,\n",
    "        k_neighbors=5,\n",
    "        n_jobs=1),\n",
    "    \n",
    "    'adasyn': ADASYN(\n",
    "        sampling_strategy='auto', # samples only the minority class\n",
    "        random_state=0,\n",
    "        n_neighbors=5,\n",
    "        n_jobs=1),\n",
    "    \n",
    "    'border1': BorderlineSMOTE(\n",
    "        sampling_strategy='auto', # samples only the minority class\n",
    "        random_state=0,\n",
    "        k_neighbors=5,\n",
    "        m_neighbors=10,\n",
    "        kind='borderline-1',\n",
    "        n_jobs=1),\n",
    "    \n",
    "    'border2': BorderlineSMOTE(\n",
    "        sampling_strategy='auto', # samples only the minority class\n",
    "        random_state=0,\n",
    "        k_neighbors=5, \n",
    "        m_neighbors=10,\n",
    "        kind='borderline-2',\n",
    "        n_jobs=1),\n",
    "    \n",
    "    'svm': SVMSMOTE(\n",
    "        sampling_strategy='auto', # samples only the minority class\n",
    "        random_state=0,\n",
    "        k_neighbors=5,\n",
    "        m_neighbors=10,\n",
    "        n_jobs=1,\n",
    "        svm_estimator=SVC(kernel='linear')),\n",
    "}"
   ]
  },
  {
   "cell_type": "code",
   "execution_count": 64,
   "id": "1c60993e",
   "metadata": {
    "hidden": true
   },
   "outputs": [
    {
     "name": "stdout",
     "output_type": "stream",
     "text": [
      "Train set\n",
      "Random Forests roc-auc: 0.9277391477348833\n",
      "Test set\n",
      "Random Forests roc-auc: 0.9301929165098902\n",
      "\n",
      "random\n",
      "Train set\n",
      "Random Forests roc-auc: 0.9164088774140391\n",
      "Test set\n",
      "Random Forests roc-auc: 0.9197487533451915\n",
      "\n",
      "smote\n",
      "Train set\n",
      "Random Forests roc-auc: 0.9260793328456076\n",
      "Test set\n",
      "Random Forests roc-auc: 0.9172663178315994\n",
      "\n",
      "adasyn\n",
      "Train set\n",
      "Random Forests roc-auc: 0.9125792892868476\n",
      "Test set\n",
      "Random Forests roc-auc: 0.91099648829259\n",
      "\n",
      "border1\n",
      "Train set\n",
      "Random Forests roc-auc: 0.9154760551777996\n",
      "Test set\n",
      "Random Forests roc-auc: 0.9071299347606679\n",
      "\n",
      "border2\n",
      "Train set\n",
      "Random Forests roc-auc: 0.9230150653314394\n",
      "Test set\n",
      "Random Forests roc-auc: 0.9050043284880885\n",
      "\n",
      "svm\n",
      "Train set\n",
      "Random Forests roc-auc: 0.9267960297791376\n",
      "Test set\n",
      "Random Forests roc-auc: 0.9130973055756585\n",
      "\n",
      "\n"
     ]
    }
   ],
   "source": [
    "# to save the results\n",
    "results_dict_over = {}\n",
    "shapes_dict_over = {}\n",
    "\n",
    "# separate train and test\n",
    "X_train, X_test, y_train, y_test = train_test_split(\n",
    "    data.drop('y', axis=1),\n",
    "    data['y'],\n",
    "    test_size=0.3,\n",
    "    random_state=0\n",
    ")\n",
    "\n",
    "# integer encoding\n",
    "ordinal_encoding = ce.OrdinalEncoder(\n",
    "    encoding_method='arbitrary',\n",
    "    variables=cat_vars\n",
    ")\n",
    "\n",
    "ordinal_encoding.fit(X_train)\n",
    "X_train = ordinal_enc.transform(X_train)\n",
    "X_test = ordinal_enc.transform(X_test)\n",
    "\n",
    "\n",
    "# StandardScaler\n",
    "standard_scaler = StandardScaler().fit(X_train)\n",
    "X_train = standard_scaler.transform(X_train)\n",
    "X_test = standard_scaler.transform(X_test)\n",
    "\n",
    "\n",
    "\n",
    "roc = run_RFs(X_train, X_test, y_train, y_test)\n",
    "\n",
    "# store results\n",
    "results_dict_over['full_data'] = roc\n",
    "shapes_dict_over['full_data'] = len(X_train)\n",
    "\n",
    "print()\n",
    "\n",
    "for oversampler in oversampler_dict.keys():\n",
    "    \n",
    "    print(oversampler)\n",
    "    \n",
    "    # resample\n",
    "    X_resampled, y_resampled = oversampler_dict[oversampler].fit_resample(X_train, y_train)\n",
    "    \n",
    "    # evaluate performance\n",
    "    roc = run_RFs(X_resampled, X_test, y_resampled, y_test)\n",
    "    \n",
    "    # store results\n",
    "    results_dict_over[oversampler] = roc\n",
    "    shapes_dict_over[oversampler] = len(X_resampled)\n",
    "    print()\n",
    "    \n",
    "print()"
   ]
  },
  {
   "cell_type": "code",
   "execution_count": 68,
   "id": "5f9dada5",
   "metadata": {
    "hidden": true
   },
   "outputs": [
    {
     "data": {
      "image/png": "[encoded data removed]",
      "text/plain": [
       "<Figure size 432x288 with 1 Axes>"
      ]
     },
     "metadata": {
      "needs_background": "light"
     },
     "output_type": "display_data"
    }
   ],
   "source": [
    "pd.Series(results_dict_over).plot.bar()\n",
    "plt.ylabel('roc-auc')\n",
    "plt.ylim(0.70, 0.95)\n",
    "plt.axhline(results_dict_over['full_data'], color='r')\n",
    "plt.show()"
   ]
  },
  {
   "cell_type": "markdown",
   "id": "c6eac343",
   "metadata": {
    "heading_collapsed": true
   },
   "source": [
    "## Under-sampling with cross-validation"
   ]
  },
  {
   "cell_type": "code",
   "execution_count": null,
   "id": "058acdf6",
   "metadata": {
    "hidden": true
   },
   "outputs": [],
   "source": [
    "undersampler_dict = {\n",
    "\n",
    "    'random': RandomUnderSampler(\n",
    "        sampling_strategy='auto',\n",
    "        random_state=0,\n",
    "        replacement=False),\n",
    "\n",
    "    'tomek': TomekLinks(\n",
    "        sampling_strategy='auto',\n",
    "        n_jobs=1),\n",
    "\n",
    "    'oss': OneSidedSelection(\n",
    "        sampling_strategy='auto',\n",
    "        random_state=0,\n",
    "        n_neighbors=1,\n",
    "        n_jobs=1),\n",
    "\n",
    "    'enn': EditedNearestNeighbours(\n",
    "        sampling_strategy='auto',\n",
    "        n_neighbors=3,\n",
    "        kind_sel='all',\n",
    "        n_jobs=1),\n",
    "\n",
    "    'allknn': AllKNN(\n",
    "        sampling_strategy='auto',\n",
    "        n_neighbors=3,\n",
    "        kind_sel='all',\n",
    "        n_jobs=1),\n",
    "\n",
    "    'nm1': NearMiss(\n",
    "        sampling_strategy='auto',\n",
    "        version=1,\n",
    "        n_neighbors=3,\n",
    "        n_jobs=1),\n",
    "\n",
    "    'nm2': NearMiss(\n",
    "        sampling_strategy='auto',\n",
    "        version=2,\n",
    "        n_neighbors=3,\n",
    "        n_jobs=1),\n",
    "   \n",
    "    'iht_RF': InstanceHardnessThreshold(\n",
    "        estimator=RandomForestClassifier(n_estimators=30, max_depth=3, random_state=39),\n",
    "        sampling_strategy='auto',\n",
    "        random_state=0,\n",
    "        n_jobs=1,\n",
    "        cv=3\n",
    "    ),\n",
    "    \n",
    "    'iht_logit': InstanceHardnessThreshold(\n",
    "        estimator=LogisticRegression(random_state=0),\n",
    "        sampling_strategy='auto',\n",
    "        random_state=0,\n",
    "        n_jobs=1,\n",
    "        cv=3\n",
    "    )\n",
    "    \n",
    "}"
   ]
  },
  {
   "cell_type": "code",
   "execution_count": 110,
   "id": "89f5e068",
   "metadata": {
    "hidden": true
   },
   "outputs": [],
   "source": [
    "# function to train random forests and evaluate the performance\n",
    "# with cross-validation\n",
    "\n",
    "def run_model(X_train, y_train, undersampler=None):\n",
    "    \n",
    "    # set up the classifier\n",
    "    rf = RandomForestClassifier(\n",
    "            n_estimators=40, random_state=39, max_depth=3, n_jobs=1\n",
    "        )\n",
    "    \n",
    "    # set up a scaler \n",
    "    # (as the oversampling techniques use KNN\n",
    "    # we put the variables in the same scale)\n",
    "   \n",
    "    \n",
    "\n",
    "\n",
    "    \n",
    "    # without sampling:\n",
    "    if not undersampler:\n",
    "\n",
    "        model = rf\n",
    "    \n",
    "    # set up a pipeline with sampling:\n",
    "    else:\n",
    "        \n",
    "        # important to scale before the re-sampler\n",
    "        # as the many of methods require the variables in \n",
    "        # a similar scale\n",
    "        model = make_pipeline(\n",
    "            undersampler,\n",
    "            rf,\n",
    "        )\n",
    "        \n",
    "        \n",
    "    # When we make a pipeline and then run the training of the model\n",
    "    # with cross-validation, the procedure works as follows:\n",
    "    \n",
    "    # 1) take 2 of the 3 fold as train set\n",
    "    # 2) resample the 2 fold (aka, the train set)\n",
    "    # 3) train the model on the resampled data from point 2\n",
    "    # 4) evaluate performance on the 3rd fold, that was not resampled\n",
    "    \n",
    "    # this way, we make sure that we are not evaluating the performance\n",
    "    # of our classifier on the over-sampled data\n",
    "    \n",
    "    cv_results = cross_validate(\n",
    "        model, # the random forest or the pipeline\n",
    "        X_train, # the data that will be used in the cross-validation\n",
    "        y_train, # the target\n",
    "        scoring=\"roc_auc\", # the metric that we want to evaluate\n",
    "        cv=3, # the cross-validation fold\n",
    "    )\n",
    "\n",
    "    #print(\n",
    "    #    'Random Forests average precision: {0} +/- {1}'.format(\n",
    "    #    cv_results['test_score'].mean(), cv_results['test_score'].std()\n",
    "    #    )\n",
    "    #)\n",
    "    \n",
    "    print('RF roc-auc: {}'.format(cv_results['test_score']))\n",
    "\n",
    "    return cv_results['test_score']"
   ]
  },
  {
   "cell_type": "code",
   "execution_count": 111,
   "id": "3afde999",
   "metadata": {
    "hidden": true
   },
   "outputs": [
    {
     "name": "stdout",
     "output_type": "stream",
     "text": [
      "RF roc-auc: [0.92505813 0.92696325 0.92733915]\n",
      "\n",
      "random\n",
      "RF roc-auc: [0.91339636 0.91143204 0.91071958]\n",
      "\n",
      "tomek\n",
      "RF roc-auc: [0.92534833 0.92761807 0.92725009]\n",
      "\n",
      "oss\n",
      "RF roc-auc: [0.92485542 0.92514    0.92723757]\n",
      "\n",
      "enn\n",
      "RF roc-auc: [0.92220293 0.92190151 0.92336643]\n",
      "\n",
      "allknn\n",
      "RF roc-auc: [0.91754877 0.91926888 0.91902186]\n",
      "\n",
      "nm1\n",
      "RF roc-auc: [0.82610936 0.84190573 0.84777329]\n",
      "\n",
      "nm2\n",
      "RF roc-auc: [0.50423277 0.69420722 0.46494041]\n",
      "\n",
      "iht_RF\n",
      "RF roc-auc: [0.80390703 0.80934775 0.81578692]\n",
      "\n",
      "iht_logit\n",
      "RF roc-auc: [0.84859255 0.8543547  0.85541389]\n",
      "\n",
      "\n"
     ]
    }
   ],
   "source": [
    "# now we train several models, with the different oversamplers \n",
    "# and with cross-validation\n",
    "\n",
    "# to save the results\n",
    "roc_dict_under = {}\n",
    "\n",
    "\n",
    "# separate dataset into train and test\n",
    "X_train, X_test, y_train, y_test = train_test_split(\n",
    "    data.drop('y', axis=1),\n",
    "    data['y'],\n",
    "    test_size=0.3,\n",
    "    random_state=0\n",
    ")\n",
    "\n",
    "y_train = y_train.map({'no':0, 'yes': 1})\n",
    "y_test = y_test.map({'no': 0, 'yes': 1})\n",
    "\n",
    "# integer encoding\n",
    "ordinal_encoding = ce.OrdinalEncoder(\n",
    "    encoding_method='arbitrary',\n",
    "    variables=cat_vars)\n",
    "\n",
    "ordinal_encoding.fit(X_train)\n",
    "X_train = ordinal_enc.transform(X_train)\n",
    "X_test = ordinal_enc.transform(X_test)\n",
    "\n",
    "\n",
    "# StandardScaler\n",
    "standard_scaler = StandardScaler().fit(X_train)\n",
    "X_train = standard_scaler.transform(X_train)\n",
    "X_test = standard_scaler.transform(X_test)\n",
    "\n",
    "\n",
    "# train model on data with re-sampling with cross-validation\n",
    "test_score_under = run_model(X_train, y_train)\n",
    "\n",
    "# store results\n",
    "\n",
    "roc_dict_under['full_data'] = test_score\n",
    "\n",
    "print()\n",
    "\n",
    "\n",
    "for undersampler in undersampler_dict.keys():\n",
    "    \n",
    "    print(undersampler)\n",
    "    \n",
    "    # resample, train and evaluate performance\n",
    "    # with cross-validation\n",
    "    test_score_under = run_model(X_train, y_train, undersampler_dict[undersampler])\n",
    "    \n",
    "    # store results\n",
    "    roc_dict_under[undersampler] = test_score_under\n",
    "\n",
    "    print()\n",
    "    \n",
    "print()"
   ]
  },
  {
   "cell_type": "markdown",
   "id": "f2a1956a",
   "metadata": {
    "hidden": true
   },
   "source": [
    "As we can see above, `tomek`, `oss`, `enn` improved models' performance. "
   ]
  },
  {
   "cell_type": "markdown",
   "id": "a061547b",
   "metadata": {
    "heading_collapsed": true
   },
   "source": [
    "## Over-sampling with cross-validation"
   ]
  },
  {
   "cell_type": "code",
   "execution_count": 105,
   "id": "e382afaf",
   "metadata": {
    "hidden": true
   },
   "outputs": [],
   "source": [
    "# function to train random forests and evaluate the performance\n",
    "# with cross-validation\n",
    "\n",
    "def run_model(X_train, y_train, oversampler=None):\n",
    "    \n",
    "    # set up the classifier\n",
    "    rf = RandomForestClassifier(\n",
    "            n_estimators=40, random_state=39, max_depth=3, n_jobs=1\n",
    "        )\n",
    "    \n",
    "    \n",
    "    # without sampling:\n",
    "    if not oversampler:\n",
    "\n",
    "        model = rf\n",
    "    \n",
    "    # set up a pipeline with sampling:\n",
    "    else:\n",
    "        \n",
    "        # important to scale before the re-sampler\n",
    "        # as the many of methods require the variables in \n",
    "        # a similar scale\n",
    "        model = make_pipeline(\n",
    "            oversampler,\n",
    "            rf,\n",
    "        )\n",
    "        \n",
    "        \n",
    "    # When we make a pipeline and then run the training of the model\n",
    "    # with cross-validation, the procedure works as follows:\n",
    "    \n",
    "    # 1) take 2 of the 3 fold as train set\n",
    "    # 2) resample the 2 fold (aka, the train set)\n",
    "    # 3) train the model on the resampled data from point 2\n",
    "    # 4) evaluate performance on the 3rd fold, that was not resampled\n",
    "    \n",
    "    # this way, we make sure that we are not evaluating the performance\n",
    "    # of our classifier on the over-sampled data\n",
    "    \n",
    "    cv_results = cross_validate(\n",
    "        model, # the random forest or the pipeline\n",
    "        X_train, # the data that will be used in the cross-validation\n",
    "        y_train, # the target\n",
    "        scoring=\"roc_auc\", # the metric that we want to evaluate\n",
    "        cv=3, # the cross-validation fold\n",
    "    )\n",
    "\n",
    "    #print(\n",
    "    #    'Random Forests average precision: {0} +/- {1}'.format(\n",
    "    #    cv_results['test_score'].mean(), cv_results['test_score'].std()\n",
    "    #    )\n",
    "    #)\n",
    "    \n",
    "    print('RF roc-auc: {}'.format(cv_results['test_score']))\n",
    "\n",
    "    return cv_results['test_score']"
   ]
  },
  {
   "cell_type": "code",
   "execution_count": 106,
   "id": "8b69f9dc",
   "metadata": {
    "hidden": true
   },
   "outputs": [
    {
     "name": "stdout",
     "output_type": "stream",
     "text": [
      "RF roc-auc: [0.92505813 0.92696325 0.92733915]\n",
      "\n",
      "random\n",
      "RF roc-auc: [0.91916883 0.91662282 0.9141044 ]\n",
      "\n",
      "smote\n",
      "RF roc-auc: [0.91966194 0.91616677 0.91103906]\n",
      "\n",
      "adasyn\n",
      "RF roc-auc: [0.91177059 0.91313574 0.90577059]\n",
      "\n",
      "border1\n",
      "RF roc-auc: [0.90651817 0.91269713 0.90470004]\n",
      "\n",
      "border2\n",
      "RF roc-auc: [0.90520952 0.90721454 0.8994204 ]\n",
      "\n",
      "svm\n",
      "RF roc-auc: [0.91196714 0.91550203 0.91206552]\n",
      "\n",
      "\n"
     ]
    }
   ],
   "source": [
    "# now we train several models, with the different oversamplers \n",
    "# and with cross-validation\n",
    "\n",
    "# to save the results\n",
    "roc_dict = {}\n",
    "\n",
    "\n",
    "# separate dataset into train and test\n",
    "X_train, X_test, y_train, y_test = train_test_split(\n",
    "    data.drop('y', axis=1),\n",
    "    data['y'],\n",
    "    test_size=0.3,\n",
    "    random_state=0\n",
    ")\n",
    "\n",
    "# integer encoding\n",
    "ordinal_encoding = ce.OrdinalEncoder(\n",
    "    encoding_method='arbitrary',\n",
    "    variables=cat_vars)\n",
    "\n",
    "ordinal_encoding.fit(X_train)\n",
    "X_train = ordinal_enc.transform(X_train)\n",
    "X_test = ordinal_enc.transform(X_test)\n",
    "\n",
    "\n",
    "# StandardScaler\n",
    "standard_scaler = StandardScaler().fit(X_train)\n",
    "X_train = standard_scaler.transform(X_train)\n",
    "X_test = standard_scaler.transform(X_test)\n",
    "\n",
    "# train model on data with re-sampling with cross-validation\n",
    "test_score = run_model(X_train, y_train)\n",
    "\n",
    "# store results\n",
    "\n",
    "roc_dict['full_data'] = test_score\n",
    "\n",
    "print()\n",
    "\n",
    "\n",
    "for oversampler in oversampler_dict.keys():\n",
    "    \n",
    "    print(oversampler)\n",
    "    \n",
    "    # resample, train and evaluate performance\n",
    "    # with cross-validation\n",
    "    test_score = run_model(X_train, y_train, oversampler_dict[oversampler])\n",
    "    \n",
    "    # store results\n",
    "    roc_dict[oversampler] = test_score\n",
    "\n",
    "    print()\n",
    "    \n",
    "print()"
   ]
  },
  {
   "cell_type": "markdown",
   "id": "f1b8075e",
   "metadata": {
    "hidden": true
   },
   "source": [
    "Even though none of oversampling methods improve model's performances compared to the baseline model, we can use `random oversampling`, `SMOTE` or `SVM SMOTE` methods for this dataset. "
   ]
  },
  {
   "cell_type": "markdown",
   "id": "bbb9e4ce",
   "metadata": {
    "heading_collapsed": true
   },
   "source": [
    "## Over+Undersampling methods"
   ]
  },
  {
   "cell_type": "code",
   "execution_count": 113,
   "id": "5a917250",
   "metadata": {
    "hidden": true
   },
   "outputs": [],
   "source": [
    "comsampler_dict = {\n",
    "    \n",
    "    'smenn': SMOTEENN(\n",
    "        sampling_strategy='auto',\n",
    "        random_state=0,\n",
    "        smote=SMOTE(sampling_strategy='auto', random_state=0, k_neighbors=5),\n",
    "        enn=EditedNearestNeighbours(\n",
    "            sampling_strategy='auto', n_neighbors=3, kind_sel='all'),\n",
    "        n_jobs=1\n",
    "    ),\n",
    "    \n",
    "    'smtomek': SMOTETomek(\n",
    "        sampling_strategy='auto',\n",
    "        random_state=0,\n",
    "        smote=SMOTE(sampling_strategy='auto', random_state=0, k_neighbors=5),\n",
    "        tomek=TomekLinks(sampling_strategy='all'),\n",
    "        n_jobs=1\n",
    "    )\n",
    "    \n",
    "}"
   ]
  },
  {
   "cell_type": "code",
   "execution_count": 116,
   "id": "6ad045df",
   "metadata": {
    "hidden": true
   },
   "outputs": [],
   "source": [
    "# function to train random forests and evaluate the performance\n",
    "# with cross-validation\n",
    "\n",
    "def run_model(X_train, y_train, comsampler=None):\n",
    "    \n",
    "    # set up the classifier\n",
    "    rf = RandomForestClassifier(\n",
    "            n_estimators=40, random_state=39, max_depth=3, n_jobs=1\n",
    "        )\n",
    "    \n",
    "    \n",
    "    # without sampling:\n",
    "    if not comsampler:\n",
    "\n",
    "        model = rf\n",
    "    \n",
    "    # set up a pipeline with sampling:\n",
    "    else:\n",
    "        \n",
    "        # important to scale before the re-sampler\n",
    "        # as the many of methods require the variables in \n",
    "        # a similar scale\n",
    "        model = make_pipeline(\n",
    "            comsampler,\n",
    "            rf,\n",
    "        )\n",
    "        \n",
    "        \n",
    "    # When we make a pipeline and then run the training of the model\n",
    "    # with cross-validation, the procedure works as follows:\n",
    "    \n",
    "    # 1) take 2 of the 3 fold as train set\n",
    "    # 2) resample the 2 fold (aka, the train set)\n",
    "    # 3) train the model on the resampled data from point 2\n",
    "    # 4) evaluate performance on the 3rd fold, that was not resampled\n",
    "    \n",
    "    # this way, we make sure that we are not evaluating the performance\n",
    "    # of our classifier on the over-sampled data\n",
    "    \n",
    "    cv_results = cross_validate(\n",
    "        model, # the random forest or the pipeline\n",
    "        X_train, # the data that will be used in the cross-validation\n",
    "        y_train, # the target\n",
    "        scoring=\"roc_auc\", # the metric that we want to evaluate\n",
    "        cv=3, # the cross-validation fold\n",
    "    )\n",
    "\n",
    "    #print(\n",
    "    #    'Random Forests average precision: {0} +/- {1}'.format(\n",
    "    #    cv_results['test_score'].mean(), cv_results['test_score'].std()\n",
    "    #    )\n",
    "    #)\n",
    "    \n",
    "    print('RF roc-auc: {}'.format(cv_results['test_score']))\n",
    "\n",
    "    return cv_results['test_score']"
   ]
  },
  {
   "cell_type": "code",
   "execution_count": 117,
   "id": "150b001a",
   "metadata": {
    "hidden": true
   },
   "outputs": [
    {
     "name": "stdout",
     "output_type": "stream",
     "text": [
      "RF roc-auc: [0.92505813 0.92696325 0.92733915]\n",
      "\n",
      "smenn\n",
      "RF roc-auc: [0.91841412 0.92006143 0.91457118]\n",
      "\n",
      "smtomek\n",
      "RF roc-auc: [0.91740294 0.91704718 0.91221557]\n",
      "\n",
      "\n"
     ]
    }
   ],
   "source": [
    "# now we train several models, with the different oversamplers \n",
    "# and with cross-validation\n",
    "\n",
    "# to save the results\n",
    "roc_dict_com = {}\n",
    "\n",
    "\n",
    "# separate dataset into train and test\n",
    "X_train, X_test, y_train, y_test = train_test_split(\n",
    "    data.drop('y', axis=1),\n",
    "    data['y'],\n",
    "    test_size=0.3,\n",
    "    random_state=0\n",
    ")\n",
    "\n",
    "# integer encoding\n",
    "ordinal_encoding = ce.OrdinalEncoder(\n",
    "    encoding_method='arbitrary',\n",
    "    variables=cat_vars)\n",
    "\n",
    "ordinal_encoding.fit(X_train)\n",
    "X_train = ordinal_enc.transform(X_train)\n",
    "X_test = ordinal_enc.transform(X_test)\n",
    "\n",
    "\n",
    "# StandardScaler\n",
    "standard_scaler = StandardScaler().fit(X_train)\n",
    "X_train = standard_scaler.transform(X_train)\n",
    "X_test = standard_scaler.transform(X_test)\n",
    "\n",
    "# train model on data with re-sampling with cross-validation\n",
    "test_score = run_model(X_train, y_train)\n",
    "\n",
    "# store results\n",
    "\n",
    "roc_dict_com['full_data'] = test_score\n",
    "\n",
    "print()\n",
    "\n",
    "\n",
    "for comsampler in comsampler_dict.keys():\n",
    "    \n",
    "    print(comsampler)\n",
    "    \n",
    "    # resample, train and evaluate performance\n",
    "    # with cross-validation\n",
    "    test_score = run_model(X_train, y_train, comsampler_dict[comsampler])\n",
    "    \n",
    "    # store results\n",
    "    roc_dict_com[comsampler] = test_score\n",
    "\n",
    "    print()\n",
    "    \n",
    "print()"
   ]
  },
  {
   "cell_type": "markdown",
   "id": "c4d2adec",
   "metadata": {
    "hidden": true
   },
   "source": [
    "None of them improve performance. "
   ]
  },
  {
   "cell_type": "markdown",
   "id": "f9523433",
   "metadata": {},
   "source": [
    "## Ensemble Learning"
   ]
  },
  {
   "cell_type": "code",
   "execution_count": 8,
   "id": "f7d29f66",
   "metadata": {},
   "outputs": [],
   "source": [
    "# function to train adaboost and evaluate the performance\n",
    "\n",
    "def run_Ada(X_train, X_test, y_train, y_test):\n",
    "    \n",
    "    ada = AdaBoostClassifier(n_estimators=50, random_state=39)\n",
    "    \n",
    "    ada.fit(X_train, y_train)\n",
    "    \n",
    "    print('Train set')\n",
    "    pred = ada.predict_proba(X_train)\n",
    "    print('AdaBoost roc-auc: {}'.format(roc_auc_score(y_train, pred[:, 1])))\n",
    "    \n",
    "    print('Test set')\n",
    "    pred = ada.predict_proba(X_test)\n",
    "    print('AdaBoost roc-auc: {}'.format(roc_auc_score(y_test, pred[:, 1])))\n",
    "    \n",
    "    return roc_auc_score(y_test, pred[:, 1])"
   ]
  },
  {
   "cell_type": "code",
   "execution_count": 9,
   "id": "44b094dd",
   "metadata": {},
   "outputs": [],
   "source": [
    "# function to train ensemble and evaluate the performance\n",
    "\n",
    "def run_ensemble(ensemble, X_train, X_test, y_train, y_test):\n",
    "    \n",
    "    ensemble.fit(X_train, y_train)\n",
    "    \n",
    "    print('Train set')\n",
    "    pred = ensemble.predict_proba(X_train)\n",
    "    print('ensembleBoost roc-auc: {}'.format(roc_auc_score(y_train, pred[:, 1])))\n",
    "    \n",
    "    print('Test set')\n",
    "    pred = ensemble.predict_proba(X_test)\n",
    "    print('ensembleBoost roc-auc: {}'.format(roc_auc_score(y_test, pred[:, 1])))\n",
    "    \n",
    "    return roc_auc_score(y_test, pred[:, 1])"
   ]
  },
  {
   "cell_type": "code",
   "execution_count": 162,
   "id": "c3fa7740",
   "metadata": {},
   "outputs": [],
   "source": [
    "# ensemble methods (with or without resampling)\n",
    "\n",
    "ensemble_dict = {\n",
    "    \n",
    "    # balanced random forests (bagging)\n",
    "    'balancedRF': BalancedRandomForestClassifier(\n",
    "        n_estimators=20,\n",
    "        criterion='gini',\n",
    "        max_depth=3,\n",
    "        sampling_strategy='auto',\n",
    "        n_jobs=1,\n",
    "        random_state=42\n",
    "    ),\n",
    "    \n",
    "    # bagging of Logistic Regression, no resampling\n",
    "    'bagging': BaggingClassifier(\n",
    "        base_estimator=LogisticRegression(random_state=42),\n",
    "        n_estimators=20,\n",
    "        n_jobs=1,\n",
    "        random_state=42\n",
    "    ),\n",
    "    \n",
    "    # bagging of Logistic Regression, with resampling\n",
    "    'balancedbagging': BalancedBaggingClassifier(\n",
    "        base_estimator=LogisticRegression(random_state=42),\n",
    "        n_estimators=24,\n",
    "        max_samples=1.0, # the number of samples to draw from X to train each base estimator\n",
    "        max_features=1.0, # the number of features to draw from X to train each base estimator\n",
    "        bootstrap=True,\n",
    "        bootstrap_features=False,\n",
    "        sampling_strategy='auto',\n",
    "        n_jobs=1,\n",
    "        random_state=42\n",
    "    ),\n",
    "    \n",
    "    # boosting + undersampling\n",
    "    'rusboost': RUSBoostClassifier(\n",
    "        base_estimator=None,\n",
    "        n_estimators=20,\n",
    "        learning_rate=1.0,\n",
    "        sampling_strategy='auto',\n",
    "        random_state=42\n",
    "    ),\n",
    "    \n",
    "    # bagging + boosting + under_sampling\n",
    "    'easyEnsemble': EasyEnsembleClassifier(\n",
    "        n_estimators=20,\n",
    "        sampling_strategy='auto',\n",
    "        n_jobs=1,\n",
    "        random_state=42\n",
    "    )\n",
    "}"
   ]
  },
  {
   "cell_type": "code",
   "execution_count": 171,
   "id": "2c7f92cb",
   "metadata": {},
   "outputs": [
    {
     "name": "stdout",
     "output_type": "stream",
     "text": [
      "Train set\n",
      "Random Forests roc-auc: 0.9277391477348833\n",
      "Test set\n",
      "Random Forests roc-auc: 0.9301929165098902\n",
      "\n",
      "Train set\n",
      "AdaBoost roc-auc: 0.9396551143064831\n",
      "Test set\n",
      "AdaBoost roc-auc: 0.9391433943226207\n",
      "\n",
      "balancedRF\n",
      "Train set\n",
      "ensembleBoost roc-auc: 0.9225207876853889\n",
      "Test set\n",
      "ensembleBoost roc-auc: 0.9286485294113759\n",
      "\n",
      "bagging\n",
      "Train set\n",
      "ensembleBoost roc-auc: 0.9277528565106874\n",
      "Test set\n",
      "ensembleBoost roc-auc: 0.9264734773677187\n",
      "\n",
      "balancedbagging\n",
      "Train set\n",
      "ensembleBoost roc-auc: 0.9310676816773804\n",
      "Test set\n",
      "ensembleBoost roc-auc: 0.9295810250928033\n",
      "\n",
      "rusboost\n",
      "Train set\n",
      "ensembleBoost roc-auc: 0.9344752479717248\n",
      "Test set\n",
      "ensembleBoost roc-auc: 0.9344148449954401\n",
      "\n",
      "easyEnsemble\n",
      "Train set\n",
      "ensembleBoost roc-auc: 0.9413314169352291\n",
      "Test set\n",
      "ensembleBoost roc-auc: 0.9413998864598176\n",
      "\n",
      "\n"
     ]
    }
   ],
   "source": [
    "# now we train several models, with the different oversamplers \n",
    "# and with cross-validation\n",
    "\n",
    "# to save the results\n",
    "roc_dict_ensemble = {}\n",
    "\n",
    "\n",
    "# separate dataset into train and test\n",
    "X_train, X_test, y_train, y_test = train_test_split(\n",
    "    data.drop('y', axis=1),\n",
    "    data['y'],\n",
    "    test_size=0.3,\n",
    "    random_state=0\n",
    ")\n",
    "\n",
    "# integer encoding\n",
    "ordinal_encoding = ce.OrdinalEncoder(\n",
    "    encoding_method='arbitrary',\n",
    "    variables=cat_vars)\n",
    "\n",
    "ordinal_encoding.fit(X_train)\n",
    "X_train = ordinal_enc.transform(X_train)\n",
    "X_test = ordinal_enc.transform(X_test)\n",
    "\n",
    "\n",
    "# StandardScaler\n",
    "standard_scaler = StandardScaler().fit(X_train)\n",
    "X_train = standard_scaler.transform(X_train)\n",
    "X_test = standard_scaler.transform(X_test)\n",
    "\n",
    "\n",
    "# train model and store result\n",
    "roc = run_RFs(X_train, X_test, y_train, y_test)\n",
    "roc_dict_ensemble['full_data'] = roc\n",
    "print()\n",
    "\n",
    "# train model and store result\n",
    "roc = run_Ada(X_train, X_test, y_train, y_test)\n",
    "roc_dict_ensemble['full_data_adaboost'] = roc\n",
    "print()\n",
    "\n",
    "\n",
    "for ensemble in ensemble_dict.keys():\n",
    "    \n",
    "    print(ensemble)\n",
    "    \n",
    "    # train model and store result\n",
    "    roc = run_ensemble(ensemble_dict[ensemble], X_train, X_test, y_train, y_test)\n",
    "    roc_dict_ensemble[ensemble] = roc\n",
    "    print()\n",
    "    \n",
    "print()"
   ]
  },
  {
   "cell_type": "markdown",
   "id": "5c46da09",
   "metadata": {},
   "source": [
    "`RUSBoost` and `EasyEnsemble` look great. "
   ]
  },
  {
   "cell_type": "markdown",
   "id": "a9d570ae",
   "metadata": {},
   "source": [
    "## What is the best?"
   ]
  },
  {
   "cell_type": "code",
   "execution_count": 152,
   "id": "8e31c729",
   "metadata": {},
   "outputs": [],
   "source": [
    "# oversampling with cross validation\n",
    "t_oversampling = pd.DataFrame(roc_dict)\n",
    "t_oversampling = t_oversampling.T\n",
    "t_oversampling.columns = ['roc_auc1', 'roc_auc2', 'roc_auc3']\n",
    "t_oversampling['sum'] = t_oversampling['roc_auc1'] + t_oversampling['roc_auc2'] + t_oversampling['roc_auc3']\n",
    "t_oversampling['mean'] = t_oversampling['sum'] / 3"
   ]
  },
  {
   "cell_type": "code",
   "execution_count": 153,
   "id": "108766e2",
   "metadata": {},
   "outputs": [],
   "source": [
    "# undersampling with cross validation\n",
    "\n",
    "t_undersampling = pd.DataFrame(roc_dict_under)\n",
    "t_undersampling = t_undersampling.T\n",
    "t_undersampling.columns = ['roc_auc1', 'roc_auc2', 'roc_auc3']\n",
    "t_undersampling['sum'] = t_undersampling['roc_auc1'] + t_undersampling['roc_auc2'] + t_undersampling['roc_auc3']\n",
    "t_undersampling['mean'] = t_undersampling['sum']/3"
   ]
  },
  {
   "cell_type": "code",
   "execution_count": 154,
   "id": "e2e030c5",
   "metadata": {},
   "outputs": [],
   "source": [
    "# over- and under combining sampling with cross validation\n",
    "t_comsampling = pd.DataFrame(roc_dict_com)\n",
    "t_comsampling = t_comsampling.T\n",
    "t_comsampling.columns = ['roc_auc1', 'roc_auc2', 'roc_auc3']\n",
    "t_comsampling['sum'] = t_comsampling['roc_auc1'] + t_comsampling['roc_auc2'] + t_comsampling['roc_auc3']\n",
    "t_comsampling['mean'] = t_comsampling['sum']/3"
   ]
  },
  {
   "cell_type": "code",
   "execution_count": 184,
   "id": "6c1d7ccd",
   "metadata": {},
   "outputs": [],
   "source": [
    "# ensemble sampling\n",
    "t_ensemble = pd.DataFrame.from_dict(roc_dict_ensemble, orient='index')\n",
    "t_ensemble.columns = ['roc_auc score']"
   ]
  },
  {
   "cell_type": "code",
   "execution_count": 155,
   "id": "88574115",
   "metadata": {},
   "outputs": [
    {
     "data": {
      "text/html": [
       "<div>\n",
       "<style scoped>\n",
       "    .dataframe tbody tr th:only-of-type {\n",
       "        vertical-align: middle;\n",
       "    }\n",
       "\n",
       "    .dataframe tbody tr th {\n",
       "        vertical-align: top;\n",
       "    }\n",
       "\n",
       "    .dataframe thead th {\n",
       "        text-align: right;\n",
       "    }\n",
       "</style>\n",
       "<table border=\"1\" class=\"dataframe\">\n",
       "  <thead>\n",
       "    <tr style=\"text-align: right;\">\n",
       "      <th></th>\n",
       "      <th>roc_auc1</th>\n",
       "      <th>roc_auc2</th>\n",
       "      <th>roc_auc3</th>\n",
       "      <th>sum</th>\n",
       "      <th>mean</th>\n",
       "    </tr>\n",
       "  </thead>\n",
       "  <tbody>\n",
       "    <tr>\n",
       "      <th>full_data</th>\n",
       "      <td>0.925058</td>\n",
       "      <td>0.926963</td>\n",
       "      <td>0.927339</td>\n",
       "      <td>2.779361</td>\n",
       "      <td>0.926454</td>\n",
       "    </tr>\n",
       "    <tr>\n",
       "      <th>random</th>\n",
       "      <td>0.919169</td>\n",
       "      <td>0.916623</td>\n",
       "      <td>0.914104</td>\n",
       "      <td>2.749896</td>\n",
       "      <td>0.916632</td>\n",
       "    </tr>\n",
       "    <tr>\n",
       "      <th>smote</th>\n",
       "      <td>0.919662</td>\n",
       "      <td>0.916167</td>\n",
       "      <td>0.911039</td>\n",
       "      <td>2.746868</td>\n",
       "      <td>0.915623</td>\n",
       "    </tr>\n",
       "    <tr>\n",
       "      <th>adasyn</th>\n",
       "      <td>0.911771</td>\n",
       "      <td>0.913136</td>\n",
       "      <td>0.905771</td>\n",
       "      <td>2.730677</td>\n",
       "      <td>0.910226</td>\n",
       "    </tr>\n",
       "    <tr>\n",
       "      <th>border1</th>\n",
       "      <td>0.906518</td>\n",
       "      <td>0.912697</td>\n",
       "      <td>0.904700</td>\n",
       "      <td>2.723915</td>\n",
       "      <td>0.907972</td>\n",
       "    </tr>\n",
       "    <tr>\n",
       "      <th>border2</th>\n",
       "      <td>0.905210</td>\n",
       "      <td>0.907215</td>\n",
       "      <td>0.899420</td>\n",
       "      <td>2.711844</td>\n",
       "      <td>0.903948</td>\n",
       "    </tr>\n",
       "    <tr>\n",
       "      <th>svm</th>\n",
       "      <td>0.911967</td>\n",
       "      <td>0.915502</td>\n",
       "      <td>0.912066</td>\n",
       "      <td>2.739535</td>\n",
       "      <td>0.913178</td>\n",
       "    </tr>\n",
       "  </tbody>\n",
       "</table>\n",
       "</div>"
      ],
      "text/plain": [
       "           roc_auc1  roc_auc2  roc_auc3       sum      mean\n",
       "full_data  0.925058  0.926963  0.927339  2.779361  0.926454\n",
       "random     0.919169  0.916623  0.914104  2.749896  0.916632\n",
       "smote      0.919662  0.916167  0.911039  2.746868  0.915623\n",
       "adasyn     0.911771  0.913136  0.905771  2.730677  0.910226\n",
       "border1    0.906518  0.912697  0.904700  2.723915  0.907972\n",
       "border2    0.905210  0.907215  0.899420  2.711844  0.903948\n",
       "svm        0.911967  0.915502  0.912066  2.739535  0.913178"
      ]
     },
     "execution_count": 155,
     "metadata": {},
     "output_type": "execute_result"
    }
   ],
   "source": [
    "t_oversampling"
   ]
  },
  {
   "cell_type": "code",
   "execution_count": 156,
   "id": "c9c6b203",
   "metadata": {},
   "outputs": [
    {
     "data": {
      "text/html": [
       "<div>\n",
       "<style scoped>\n",
       "    .dataframe tbody tr th:only-of-type {\n",
       "        vertical-align: middle;\n",
       "    }\n",
       "\n",
       "    .dataframe tbody tr th {\n",
       "        vertical-align: top;\n",
       "    }\n",
       "\n",
       "    .dataframe thead th {\n",
       "        text-align: right;\n",
       "    }\n",
       "</style>\n",
       "<table border=\"1\" class=\"dataframe\">\n",
       "  <thead>\n",
       "    <tr style=\"text-align: right;\">\n",
       "      <th></th>\n",
       "      <th>roc_auc1</th>\n",
       "      <th>roc_auc2</th>\n",
       "      <th>roc_auc3</th>\n",
       "      <th>sum</th>\n",
       "      <th>mean</th>\n",
       "    </tr>\n",
       "  </thead>\n",
       "  <tbody>\n",
       "    <tr>\n",
       "      <th>full_data</th>\n",
       "      <td>0.925058</td>\n",
       "      <td>0.926963</td>\n",
       "      <td>0.927339</td>\n",
       "      <td>2.779361</td>\n",
       "      <td>0.926454</td>\n",
       "    </tr>\n",
       "    <tr>\n",
       "      <th>random</th>\n",
       "      <td>0.913396</td>\n",
       "      <td>0.911432</td>\n",
       "      <td>0.910720</td>\n",
       "      <td>2.735548</td>\n",
       "      <td>0.911849</td>\n",
       "    </tr>\n",
       "    <tr>\n",
       "      <th>tomek</th>\n",
       "      <td>0.925348</td>\n",
       "      <td>0.927618</td>\n",
       "      <td>0.927250</td>\n",
       "      <td>2.780216</td>\n",
       "      <td>0.926739</td>\n",
       "    </tr>\n",
       "    <tr>\n",
       "      <th>oss</th>\n",
       "      <td>0.924855</td>\n",
       "      <td>0.925140</td>\n",
       "      <td>0.927238</td>\n",
       "      <td>2.777233</td>\n",
       "      <td>0.925744</td>\n",
       "    </tr>\n",
       "    <tr>\n",
       "      <th>enn</th>\n",
       "      <td>0.922203</td>\n",
       "      <td>0.921902</td>\n",
       "      <td>0.923366</td>\n",
       "      <td>2.767471</td>\n",
       "      <td>0.922490</td>\n",
       "    </tr>\n",
       "    <tr>\n",
       "      <th>allknn</th>\n",
       "      <td>0.917549</td>\n",
       "      <td>0.919269</td>\n",
       "      <td>0.919022</td>\n",
       "      <td>2.755840</td>\n",
       "      <td>0.918613</td>\n",
       "    </tr>\n",
       "    <tr>\n",
       "      <th>nm1</th>\n",
       "      <td>0.826109</td>\n",
       "      <td>0.841906</td>\n",
       "      <td>0.847773</td>\n",
       "      <td>2.515788</td>\n",
       "      <td>0.838596</td>\n",
       "    </tr>\n",
       "    <tr>\n",
       "      <th>nm2</th>\n",
       "      <td>0.504233</td>\n",
       "      <td>0.694207</td>\n",
       "      <td>0.464940</td>\n",
       "      <td>1.663380</td>\n",
       "      <td>0.554460</td>\n",
       "    </tr>\n",
       "    <tr>\n",
       "      <th>iht_RF</th>\n",
       "      <td>0.803907</td>\n",
       "      <td>0.809348</td>\n",
       "      <td>0.815787</td>\n",
       "      <td>2.429042</td>\n",
       "      <td>0.809681</td>\n",
       "    </tr>\n",
       "    <tr>\n",
       "      <th>iht_logit</th>\n",
       "      <td>0.848593</td>\n",
       "      <td>0.854355</td>\n",
       "      <td>0.855414</td>\n",
       "      <td>2.558361</td>\n",
       "      <td>0.852787</td>\n",
       "    </tr>\n",
       "  </tbody>\n",
       "</table>\n",
       "</div>"
      ],
      "text/plain": [
       "           roc_auc1  roc_auc2  roc_auc3       sum      mean\n",
       "full_data  0.925058  0.926963  0.927339  2.779361  0.926454\n",
       "random     0.913396  0.911432  0.910720  2.735548  0.911849\n",
       "tomek      0.925348  0.927618  0.927250  2.780216  0.926739\n",
       "oss        0.924855  0.925140  0.927238  2.777233  0.925744\n",
       "enn        0.922203  0.921902  0.923366  2.767471  0.922490\n",
       "allknn     0.917549  0.919269  0.919022  2.755840  0.918613\n",
       "nm1        0.826109  0.841906  0.847773  2.515788  0.838596\n",
       "nm2        0.504233  0.694207  0.464940  1.663380  0.554460\n",
       "iht_RF     0.803907  0.809348  0.815787  2.429042  0.809681\n",
       "iht_logit  0.848593  0.854355  0.855414  2.558361  0.852787"
      ]
     },
     "execution_count": 156,
     "metadata": {},
     "output_type": "execute_result"
    }
   ],
   "source": [
    "t_undersampling"
   ]
  },
  {
   "cell_type": "code",
   "execution_count": 157,
   "id": "5a3c493c",
   "metadata": {},
   "outputs": [
    {
     "data": {
      "text/html": [
       "<div>\n",
       "<style scoped>\n",
       "    .dataframe tbody tr th:only-of-type {\n",
       "        vertical-align: middle;\n",
       "    }\n",
       "\n",
       "    .dataframe tbody tr th {\n",
       "        vertical-align: top;\n",
       "    }\n",
       "\n",
       "    .dataframe thead th {\n",
       "        text-align: right;\n",
       "    }\n",
       "</style>\n",
       "<table border=\"1\" class=\"dataframe\">\n",
       "  <thead>\n",
       "    <tr style=\"text-align: right;\">\n",
       "      <th></th>\n",
       "      <th>roc_auc1</th>\n",
       "      <th>roc_auc2</th>\n",
       "      <th>roc_auc3</th>\n",
       "      <th>sum</th>\n",
       "      <th>mean</th>\n",
       "    </tr>\n",
       "  </thead>\n",
       "  <tbody>\n",
       "    <tr>\n",
       "      <th>full_data</th>\n",
       "      <td>0.925058</td>\n",
       "      <td>0.926963</td>\n",
       "      <td>0.927339</td>\n",
       "      <td>2.779361</td>\n",
       "      <td>0.926454</td>\n",
       "    </tr>\n",
       "    <tr>\n",
       "      <th>smenn</th>\n",
       "      <td>0.918414</td>\n",
       "      <td>0.920061</td>\n",
       "      <td>0.914571</td>\n",
       "      <td>2.753047</td>\n",
       "      <td>0.917682</td>\n",
       "    </tr>\n",
       "    <tr>\n",
       "      <th>smtomek</th>\n",
       "      <td>0.917403</td>\n",
       "      <td>0.917047</td>\n",
       "      <td>0.912216</td>\n",
       "      <td>2.746666</td>\n",
       "      <td>0.915555</td>\n",
       "    </tr>\n",
       "  </tbody>\n",
       "</table>\n",
       "</div>"
      ],
      "text/plain": [
       "           roc_auc1  roc_auc2  roc_auc3       sum      mean\n",
       "full_data  0.925058  0.926963  0.927339  2.779361  0.926454\n",
       "smenn      0.918414  0.920061  0.914571  2.753047  0.917682\n",
       "smtomek    0.917403  0.917047  0.912216  2.746666  0.915555"
      ]
     },
     "execution_count": 157,
     "metadata": {},
     "output_type": "execute_result"
    }
   ],
   "source": [
    "t_comsampling"
   ]
  },
  {
   "cell_type": "code",
   "execution_count": 185,
   "id": "200053d7",
   "metadata": {},
   "outputs": [
    {
     "data": {
      "text/html": [
       "<div>\n",
       "<style scoped>\n",
       "    .dataframe tbody tr th:only-of-type {\n",
       "        vertical-align: middle;\n",
       "    }\n",
       "\n",
       "    .dataframe tbody tr th {\n",
       "        vertical-align: top;\n",
       "    }\n",
       "\n",
       "    .dataframe thead th {\n",
       "        text-align: right;\n",
       "    }\n",
       "</style>\n",
       "<table border=\"1\" class=\"dataframe\">\n",
       "  <thead>\n",
       "    <tr style=\"text-align: right;\">\n",
       "      <th></th>\n",
       "      <th>roc_auc score</th>\n",
       "    </tr>\n",
       "  </thead>\n",
       "  <tbody>\n",
       "    <tr>\n",
       "      <th>full_data</th>\n",
       "      <td>0.930193</td>\n",
       "    </tr>\n",
       "    <tr>\n",
       "      <th>full_data_adaboost</th>\n",
       "      <td>0.939143</td>\n",
       "    </tr>\n",
       "    <tr>\n",
       "      <th>balancedRF</th>\n",
       "      <td>0.928649</td>\n",
       "    </tr>\n",
       "    <tr>\n",
       "      <th>bagging</th>\n",
       "      <td>0.926473</td>\n",
       "    </tr>\n",
       "    <tr>\n",
       "      <th>balancedbagging</th>\n",
       "      <td>0.929581</td>\n",
       "    </tr>\n",
       "    <tr>\n",
       "      <th>rusboost</th>\n",
       "      <td>0.934415</td>\n",
       "    </tr>\n",
       "    <tr>\n",
       "      <th>easyEnsemble</th>\n",
       "      <td>0.941400</td>\n",
       "    </tr>\n",
       "  </tbody>\n",
       "</table>\n",
       "</div>"
      ],
      "text/plain": [
       "                    roc_auc score\n",
       "full_data                0.930193\n",
       "full_data_adaboost       0.939143\n",
       "balancedRF               0.928649\n",
       "bagging                  0.926473\n",
       "balancedbagging          0.929581\n",
       "rusboost                 0.934415\n",
       "easyEnsemble             0.941400"
      ]
     },
     "execution_count": 185,
     "metadata": {},
     "output_type": "execute_result"
    }
   ],
   "source": [
    "t_ensemble"
   ]
  },
  {
   "cell_type": "code",
   "execution_count": 158,
   "id": "250174ca",
   "metadata": {},
   "outputs": [
    {
     "data": {
      "image/png": "[encoded data removed]",
      "text/plain": [
       "<Figure size 432x288 with 1 Axes>"
      ]
     },
     "metadata": {
      "needs_background": "light"
     },
     "output_type": "display_data"
    }
   ],
   "source": [
    "pd.Series(t_oversampling['mean']).plot.bar()\n",
    "plt.title('oversampling')\n",
    "plt.axhline(t_oversampling['mean'][0], color='r')\n",
    "plt.ylim(0.85, 0.93)\n",
    "plt.ylabel('roc-auc')\n",
    "plt.show()"
   ]
  },
  {
   "cell_type": "code",
   "execution_count": 159,
   "id": "2c853750",
   "metadata": {},
   "outputs": [
    {
     "data": {
      "image/png": "[encoded data removed]",
      "text/plain": [
       "<Figure size 432x288 with 1 Axes>"
      ]
     },
     "metadata": {
      "needs_background": "light"
     },
     "output_type": "display_data"
    }
   ],
   "source": [
    "pd.Series(t_undersampling['mean']).plot.bar()\n",
    "plt.title('undersampling')\n",
    "plt.axhline(t_undersampling['mean'][0], color='r')\n",
    "plt.ylim(0.85, 0.93)\n",
    "plt.ylabel('roc-auc')\n",
    "plt.show()"
   ]
  },
  {
   "cell_type": "code",
   "execution_count": 160,
   "id": "a6345fe2",
   "metadata": {},
   "outputs": [
    {
     "data": {
      "image/png": "[encoded data removed]",
      "text/plain": [
       "<Figure size 432x288 with 1 Axes>"
      ]
     },
     "metadata": {
      "needs_background": "light"
     },
     "output_type": "display_data"
    }
   ],
   "source": [
    "pd.Series(t_comsampling['mean']).plot.bar()\n",
    "plt.title('comsampling')\n",
    "plt.axhline(t_comsampling['mean'][0], color='r')\n",
    "plt.ylim(0.85, 0.93)\n",
    "plt.ylabel('roc-auc')\n",
    "plt.show()"
   ]
  },
  {
   "cell_type": "code",
   "execution_count": 193,
   "id": "bb06768d",
   "metadata": {},
   "outputs": [
    {
     "data": {
      "image/png": "[encoded data removed]",
      "text/plain": [
       "<Figure size 432x288 with 1 Axes>"
      ]
     },
     "metadata": {
      "needs_background": "light"
     },
     "output_type": "display_data"
    }
   ],
   "source": [
    "t_ensemble.plot.bar()\n",
    "plt.title('ensemble_sampling')\n",
    "plt.axhline(t_ensemble['roc_auc score'][0], color='r')\n",
    "plt.ylim(0.85, 0.95)\n",
    "plt.ylabel('roc-auc')\n",
    "plt.show()"
   ]
  },
  {
   "cell_type": "markdown",
   "id": "1654c75c",
   "metadata": {},
   "source": [
    "As we can see, `tomek` (undersampling method) improved perfomance. \n",
    "\n",
    "Also, by using ensemble sampling methods, we found `easyEnsemble` shows improved performance. "
   ]
  },
  {
   "cell_type": "code",
   "execution_count": null,
   "id": "5225f57b",
   "metadata": {},
   "outputs": [],
   "source": []
  }
 ],
 "metadata": {
  "kernelspec": {
   "display_name": "Python 3",
   "language": "python",
   "name": "python3"
  },
  "language_info": {
   "codemirror_mode": {
    "name": "ipython",
    "version": 3
   },
   "file_extension": ".py",
   "mimetype": "text/x-python",
   "name": "python",
   "nbconvert_exporter": "python",
   "pygments_lexer": "ipython3",
   "version": "3.8.8"
  },
  "toc": {
   "base_numbering": 1,
   "nav_menu": {},
   "number_sections": true,
   "sideBar": true,
   "skip_h1_title": true,
   "title_cell": "Table of Contents",
   "title_sidebar": "Contents",
   "toc_cell": true,
   "toc_position": {},
   "toc_section_display": true,
   "toc_window_display": false
  },
  "varInspector": {
   "cols": {
    "lenName": 16,
    "lenType": 16,
    "lenVar": 40
   },
   "kernels_config": {
    "python": {
     "delete_cmd_postfix": "",
     "delete_cmd_prefix": "del ",
     "library": "var_list.py",
     "varRefreshCmd": "print(var_dic_list())"
    },
    "r": {
     "delete_cmd_postfix": ") ",
     "delete_cmd_prefix": "rm(",
     "library": "var_list.r",
     "varRefreshCmd": "cat(var_dic_list()) "
    }
   },
   "types_to_exclude": [
    "module",
    "function",
    "builtin_function_or_method",
    "instance",
    "_Feature"
   ],
   "window_display": false
  }
 },
 "nbformat": 4,
 "nbformat_minor": 5
}
