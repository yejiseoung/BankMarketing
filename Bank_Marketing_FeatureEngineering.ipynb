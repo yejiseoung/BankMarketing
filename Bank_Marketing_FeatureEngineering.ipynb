{
 "cells": [
  {
   "cell_type": "markdown",
   "id": "4bf1304d",
   "metadata": {
    "toc": true
   },
   "source": [
    "<h1>Table of Contents<span class=\"tocSkip\"></span></h1>\n",
    "<div class=\"toc\"><ul class=\"toc-item\"><li><span><a href=\"#Categorical-encoding-for-Categorical-variables\" data-toc-modified-id=\"Categorical-encoding-for-Categorical-variables-1\"><span class=\"toc-item-num\">1&nbsp;&nbsp;</span>Categorical encoding for Categorical variables</a></span><ul class=\"toc-item\"><li><span><a href=\"#Cat_few\" data-toc-modified-id=\"Cat_few-1.1\"><span class=\"toc-item-num\">1.1&nbsp;&nbsp;</span>Cat_few</a></span><ul class=\"toc-item\"><li><span><a href=\"#One-Hot-Encoding-(OHE)\" data-toc-modified-id=\"One-Hot-Encoding-(OHE)-1.1.1\"><span class=\"toc-item-num\">1.1.1&nbsp;&nbsp;</span><strong>One Hot Encoding (OHE)</strong></a></span></li><li><span><a href=\"#Integer-Encoding\" data-toc-modified-id=\"Integer-Encoding-1.1.2\"><span class=\"toc-item-num\">1.1.2&nbsp;&nbsp;</span><strong>Integer Encoding</strong></a></span></li><li><span><a href=\"#Count-Encoding\" data-toc-modified-id=\"Count-Encoding-1.1.3\"><span class=\"toc-item-num\">1.1.3&nbsp;&nbsp;</span><strong>Count Encoding</strong></a></span></li><li><span><a href=\"#Evaluate-Random-Forest-Performances-and-Logistic-Regression-Performances\" data-toc-modified-id=\"Evaluate-Random-Forest-Performances-and-Logistic-Regression-Performances-1.1.4\"><span class=\"toc-item-num\">1.1.4&nbsp;&nbsp;</span><strong>Evaluate Random Forest Performances and Logistic Regression Performances</strong></a></span></li></ul></li><li><span><a href=\"#Cat_many\" data-toc-modified-id=\"Cat_many-1.2\"><span class=\"toc-item-num\">1.2&nbsp;&nbsp;</span>Cat_many</a></span><ul class=\"toc-item\"><li><span><a href=\"#Integer-Encoding\" data-toc-modified-id=\"Integer-Encoding-1.2.1\"><span class=\"toc-item-num\">1.2.1&nbsp;&nbsp;</span><strong>Integer Encoding</strong></a></span></li><li><span><a href=\"#Count-Encoding\" data-toc-modified-id=\"Count-Encoding-1.2.2\"><span class=\"toc-item-num\">1.2.2&nbsp;&nbsp;</span><strong>Count Encoding</strong></a></span></li><li><span><a href=\"#Evaluate-Random-Forest-Performances-and-Logistic-Regression-Performances\" data-toc-modified-id=\"Evaluate-Random-Forest-Performances-and-Logistic-Regression-Performances-1.2.3\"><span class=\"toc-item-num\">1.2.3&nbsp;&nbsp;</span><strong>Evaluate Random Forest Performances and Logistic Regression Performances</strong></a></span></li></ul></li><li><span><a href=\"#Conclusion\" data-toc-modified-id=\"Conclusion-1.3\"><span class=\"toc-item-num\">1.3&nbsp;&nbsp;</span>Conclusion</a></span></li></ul></li><li><span><a href=\"#Feature-scaling-technique-for-numerical-variables\" data-toc-modified-id=\"Feature-scaling-technique-for-numerical-variables-2\"><span class=\"toc-item-num\">2&nbsp;&nbsp;</span>Feature scaling technique for numerical variables</a></span><ul class=\"toc-item\"><li><span><a href=\"#Standardization\" data-toc-modified-id=\"Standardization-2.1\"><span class=\"toc-item-num\">2.1&nbsp;&nbsp;</span>Standardization</a></span></li><li><span><a href=\"#Mean-normalization\" data-toc-modified-id=\"Mean-normalization-2.2\"><span class=\"toc-item-num\">2.2&nbsp;&nbsp;</span>Mean normalization</a></span></li><li><span><a href=\"#MinMaxScaling\" data-toc-modified-id=\"MinMaxScaling-2.3\"><span class=\"toc-item-num\">2.3&nbsp;&nbsp;</span>MinMaxScaling</a></span></li><li><span><a href=\"#MaxAbsScaling\" data-toc-modified-id=\"MaxAbsScaling-2.4\"><span class=\"toc-item-num\">2.4&nbsp;&nbsp;</span>MaxAbsScaling</a></span></li><li><span><a href=\"#RobustScaling\" data-toc-modified-id=\"RobustScaling-2.5\"><span class=\"toc-item-num\">2.5&nbsp;&nbsp;</span>RobustScaling</a></span></li><li><span><a href=\"#Evaluate-Random-Forests-and-Logistic-Regression-Performances\" data-toc-modified-id=\"Evaluate-Random-Forests-and-Logistic-Regression-Performances-2.6\"><span class=\"toc-item-num\">2.6&nbsp;&nbsp;</span>Evaluate Random Forests and Logistic Regression Performances</a></span></li></ul></li></ul></div>"
   ]
  },
  {
   "cell_type": "markdown",
   "id": "2d219b44",
   "metadata": {},
   "source": [
    "# Bank Marketing Feature Engineering"
   ]
  },
  {
   "cell_type": "markdown",
   "id": "9a3c5106",
   "metadata": {},
   "source": [
    "In this notebook, I will perform feature engineering, feature selection and under-sampling or over-sampling dataset and evaluate which methods are best to build models. "
   ]
  },
  {
   "cell_type": "code",
   "execution_count": 63,
   "id": "bd6ea157",
   "metadata": {},
   "outputs": [
    {
     "data": {
      "text/plain": [
       "'/Users/yejiseoung/Dropbox/My Mac (Yejis-MacBook-Pro.local)/Documents/Projects/BankMarketing'"
      ]
     },
     "execution_count": 63,
     "metadata": {},
     "output_type": "execute_result"
    }
   ],
   "source": [
    "import numpy as np\n",
    "import pandas as pd\n",
    "import seaborn as sns\n",
    "import matplotlib.pyplot as plt\n",
    "import scipy.stats as stats\n",
    "\n",
    "from sklearn.model_selection import train_test_split\n",
    "import warnings\n",
    "warnings.filterwarnings('ignore')\n",
    "\n",
    "pd.set_option('display.max_columns', None)\n",
    "pd.set_option('display.max_rows', None)\n",
    "\n",
    "from pathlib import Path\n",
    "import os\n",
    "os.getcwd()"
   ]
  },
  {
   "cell_type": "code",
   "execution_count": 2,
   "id": "ac8fa1f6",
   "metadata": {},
   "outputs": [],
   "source": [
    "path = Path('/Users/yejiseoung/Dropbox/My Mac (Yejis-MacBook-Pro.local)/Documents/Projects/BankMarketing')"
   ]
  },
  {
   "cell_type": "code",
   "execution_count": 3,
   "id": "70dd8a91",
   "metadata": {},
   "outputs": [],
   "source": [
    "# for the model\n",
    "from sklearn.model_selection import train_test_split, GridSearchCV\n",
    "from sklearn.linear_model import LogisticRegression\n",
    "from sklearn.ensemble import GradientBoostingClassifier, RandomForestClassifier\n",
    "from sklearn.metrics import (\n",
    "    roc_auc_score, \n",
    "    plot_roc_curve, \n",
    "    precision_recall_curve,\n",
    "    plot_precision_recall_curve,\n",
    "    average_precision_score,\n",
    "    auc\n",
    ")\n",
    "\n",
    "from yellowbrick.classifier import ROCAUC, PrecisionRecallCurve\n",
    "\n",
    "from sklearn.pipeline import Pipeline\n",
    "\n",
    "# for feature engineering\n",
    "from feature_engine import encoding as ce"
   ]
  },
  {
   "cell_type": "code",
   "execution_count": 4,
   "id": "9273f383",
   "metadata": {},
   "outputs": [
    {
     "name": "stdout",
     "output_type": "stream",
     "text": [
      "(41185, 22)\n"
     ]
    },
    {
     "data": {
      "text/html": [
       "<div>\n",
       "<style scoped>\n",
       "    .dataframe tbody tr th:only-of-type {\n",
       "        vertical-align: middle;\n",
       "    }\n",
       "\n",
       "    .dataframe tbody tr th {\n",
       "        vertical-align: top;\n",
       "    }\n",
       "\n",
       "    .dataframe thead th {\n",
       "        text-align: right;\n",
       "    }\n",
       "</style>\n",
       "<table border=\"1\" class=\"dataframe\">\n",
       "  <thead>\n",
       "    <tr style=\"text-align: right;\">\n",
       "      <th></th>\n",
       "      <th>job</th>\n",
       "      <th>marital</th>\n",
       "      <th>education</th>\n",
       "      <th>default</th>\n",
       "      <th>housing</th>\n",
       "      <th>loan</th>\n",
       "      <th>contact</th>\n",
       "      <th>month</th>\n",
       "      <th>day_of_week</th>\n",
       "      <th>duration</th>\n",
       "      <th>campaign</th>\n",
       "      <th>previous</th>\n",
       "      <th>poutcome</th>\n",
       "      <th>emp.var.rate</th>\n",
       "      <th>cons.price.idx</th>\n",
       "      <th>cons.conf.idx</th>\n",
       "      <th>euribor3m</th>\n",
       "      <th>nr.employed</th>\n",
       "      <th>y</th>\n",
       "      <th>age_group</th>\n",
       "      <th>pdays_group</th>\n",
       "    </tr>\n",
       "  </thead>\n",
       "  <tbody>\n",
       "    <tr>\n",
       "      <th>0</th>\n",
       "      <td>housemaid</td>\n",
       "      <td>married</td>\n",
       "      <td>basic.4y</td>\n",
       "      <td>no</td>\n",
       "      <td>no</td>\n",
       "      <td>no</td>\n",
       "      <td>telephone</td>\n",
       "      <td>may</td>\n",
       "      <td>mon</td>\n",
       "      <td>261</td>\n",
       "      <td>1</td>\n",
       "      <td>0</td>\n",
       "      <td>nonexistent</td>\n",
       "      <td>1.1</td>\n",
       "      <td>93.994</td>\n",
       "      <td>-36.4</td>\n",
       "      <td>4.857</td>\n",
       "      <td>5191.0</td>\n",
       "      <td>no</td>\n",
       "      <td>51-60</td>\n",
       "      <td>Not contacted</td>\n",
       "    </tr>\n",
       "    <tr>\n",
       "      <th>1</th>\n",
       "      <td>services</td>\n",
       "      <td>married</td>\n",
       "      <td>high.school</td>\n",
       "      <td>unknown</td>\n",
       "      <td>no</td>\n",
       "      <td>no</td>\n",
       "      <td>telephone</td>\n",
       "      <td>may</td>\n",
       "      <td>mon</td>\n",
       "      <td>149</td>\n",
       "      <td>1</td>\n",
       "      <td>0</td>\n",
       "      <td>nonexistent</td>\n",
       "      <td>1.1</td>\n",
       "      <td>93.994</td>\n",
       "      <td>-36.4</td>\n",
       "      <td>4.857</td>\n",
       "      <td>5191.0</td>\n",
       "      <td>no</td>\n",
       "      <td>51-60</td>\n",
       "      <td>Not contacted</td>\n",
       "    </tr>\n",
       "    <tr>\n",
       "      <th>2</th>\n",
       "      <td>services</td>\n",
       "      <td>married</td>\n",
       "      <td>high.school</td>\n",
       "      <td>no</td>\n",
       "      <td>yes</td>\n",
       "      <td>no</td>\n",
       "      <td>telephone</td>\n",
       "      <td>may</td>\n",
       "      <td>mon</td>\n",
       "      <td>226</td>\n",
       "      <td>1</td>\n",
       "      <td>0</td>\n",
       "      <td>nonexistent</td>\n",
       "      <td>1.1</td>\n",
       "      <td>93.994</td>\n",
       "      <td>-36.4</td>\n",
       "      <td>4.857</td>\n",
       "      <td>5191.0</td>\n",
       "      <td>no</td>\n",
       "      <td>31-40</td>\n",
       "      <td>Not contacted</td>\n",
       "    </tr>\n",
       "    <tr>\n",
       "      <th>3</th>\n",
       "      <td>admin.</td>\n",
       "      <td>married</td>\n",
       "      <td>basic.6y</td>\n",
       "      <td>no</td>\n",
       "      <td>no</td>\n",
       "      <td>no</td>\n",
       "      <td>telephone</td>\n",
       "      <td>may</td>\n",
       "      <td>mon</td>\n",
       "      <td>151</td>\n",
       "      <td>1</td>\n",
       "      <td>0</td>\n",
       "      <td>nonexistent</td>\n",
       "      <td>1.1</td>\n",
       "      <td>93.994</td>\n",
       "      <td>-36.4</td>\n",
       "      <td>4.857</td>\n",
       "      <td>5191.0</td>\n",
       "      <td>no</td>\n",
       "      <td>31-40</td>\n",
       "      <td>Not contacted</td>\n",
       "    </tr>\n",
       "    <tr>\n",
       "      <th>4</th>\n",
       "      <td>services</td>\n",
       "      <td>married</td>\n",
       "      <td>high.school</td>\n",
       "      <td>no</td>\n",
       "      <td>no</td>\n",
       "      <td>yes</td>\n",
       "      <td>telephone</td>\n",
       "      <td>may</td>\n",
       "      <td>mon</td>\n",
       "      <td>307</td>\n",
       "      <td>1</td>\n",
       "      <td>0</td>\n",
       "      <td>nonexistent</td>\n",
       "      <td>1.1</td>\n",
       "      <td>93.994</td>\n",
       "      <td>-36.4</td>\n",
       "      <td>4.857</td>\n",
       "      <td>5191.0</td>\n",
       "      <td>no</td>\n",
       "      <td>51-60</td>\n",
       "      <td>Not contacted</td>\n",
       "    </tr>\n",
       "  </tbody>\n",
       "</table>\n",
       "</div>"
      ],
      "text/plain": [
       "         job  marital    education  default housing loan    contact month  \\\n",
       "0  housemaid  married     basic.4y       no      no   no  telephone   may   \n",
       "1   services  married  high.school  unknown      no   no  telephone   may   \n",
       "2   services  married  high.school       no     yes   no  telephone   may   \n",
       "3     admin.  married     basic.6y       no      no   no  telephone   may   \n",
       "4   services  married  high.school       no      no  yes  telephone   may   \n",
       "\n",
       "  day_of_week  duration  campaign  previous     poutcome  emp.var.rate  \\\n",
       "0         mon       261         1         0  nonexistent           1.1   \n",
       "1         mon       149         1         0  nonexistent           1.1   \n",
       "2         mon       226         1         0  nonexistent           1.1   \n",
       "3         mon       151         1         0  nonexistent           1.1   \n",
       "4         mon       307         1         0  nonexistent           1.1   \n",
       "\n",
       "   cons.price.idx  cons.conf.idx  euribor3m  nr.employed   y age_group  \\\n",
       "0          93.994          -36.4      4.857       5191.0  no     51-60   \n",
       "1          93.994          -36.4      4.857       5191.0  no     51-60   \n",
       "2          93.994          -36.4      4.857       5191.0  no     31-40   \n",
       "3          93.994          -36.4      4.857       5191.0  no     31-40   \n",
       "4          93.994          -36.4      4.857       5191.0  no     51-60   \n",
       "\n",
       "     pdays_group  \n",
       "0  Not contacted  \n",
       "1  Not contacted  \n",
       "2  Not contacted  \n",
       "3  Not contacted  \n",
       "4  Not contacted  "
      ]
     },
     "execution_count": 4,
     "metadata": {},
     "output_type": "execute_result"
    }
   ],
   "source": [
    "data = pd.read_csv(path/'cleaned_data.csv')\n",
    "print(data.shape)\n",
    "data.drop('Unnamed: 0', axis=1, inplace=True)\n",
    "data.head()"
   ]
  },
  {
   "cell_type": "code",
   "execution_count": 5,
   "id": "f2302358",
   "metadata": {},
   "outputs": [
    {
     "data": {
      "text/plain": [
       "job                object\n",
       "marital            object\n",
       "education          object\n",
       "default            object\n",
       "housing            object\n",
       "loan               object\n",
       "contact            object\n",
       "month              object\n",
       "day_of_week        object\n",
       "duration            int64\n",
       "campaign            int64\n",
       "previous            int64\n",
       "poutcome           object\n",
       "emp.var.rate      float64\n",
       "cons.price.idx    float64\n",
       "cons.conf.idx     float64\n",
       "euribor3m         float64\n",
       "nr.employed       float64\n",
       "y                  object\n",
       "age_group          object\n",
       "pdays_group        object\n",
       "dtype: object"
      ]
     },
     "execution_count": 5,
     "metadata": {},
     "output_type": "execute_result"
    }
   ],
   "source": [
    "data.dtypes"
   ]
  },
  {
   "cell_type": "code",
   "execution_count": 6,
   "id": "b93f5b04",
   "metadata": {},
   "outputs": [
    {
     "name": "stdout",
     "output_type": "stream",
     "text": [
      "The number of categorical variables: 12\n",
      "The number of numerical variables: 8\n"
     ]
    }
   ],
   "source": [
    "cat_vars = [var for var in data.columns if data[var].dtype == 'O' and var != 'y']\n",
    "num_vars = [var for var in data.columns if data[var].dtype != 'O' and var != 'y']\n",
    "\n",
    "print('The number of categorical variables: {}'.format(len(cat_vars)))\n",
    "print('The number of numerical variables: {}'.format(len(num_vars)))"
   ]
  },
  {
   "cell_type": "code",
   "execution_count": 7,
   "id": "2a4de6cd",
   "metadata": {},
   "outputs": [],
   "source": [
    "target = 'y'"
   ]
  },
  {
   "cell_type": "markdown",
   "id": "e98aa92f",
   "metadata": {},
   "source": [
    "## Categorical encoding for Categorical variables\n",
    "\n",
    "In this section, I will compare the performance of the different feature categorical encoding techniques, and choose the best techiques for categorical variables. "
   ]
  },
  {
   "cell_type": "code",
   "execution_count": 8,
   "id": "3dfbe34b",
   "metadata": {},
   "outputs": [
    {
     "name": "stdout",
     "output_type": "stream",
     "text": [
      "job has 12 labels\n",
      "['housemaid' 'services' 'admin.' 'blue-collar' 'technician' 'retired'\n",
      " 'management' 'unemployed' 'self-employed' 'unknown' 'entrepreneur'\n",
      " 'student']\n",
      "\n",
      "marital has 4 labels\n",
      "['married' 'single' 'divorced' 'unknown']\n",
      "\n",
      "education has 8 labels\n",
      "['basic.4y' 'high.school' 'basic.6y' 'basic.9y' 'professional.course'\n",
      " 'unknown' 'university.degree' 'illiterate']\n",
      "\n",
      "default has 3 labels\n",
      "['no' 'unknown' 'yes']\n",
      "\n",
      "housing has 3 labels\n",
      "['no' 'yes' 'unknown']\n",
      "\n",
      "loan has 3 labels\n",
      "['no' 'yes' 'unknown']\n",
      "\n",
      "contact has 2 labels\n",
      "['telephone' 'cellular']\n",
      "\n",
      "month has 10 labels\n",
      "['may' 'jun' 'jul' 'aug' 'oct' 'nov' 'dec' 'mar' 'apr' 'sep']\n",
      "\n",
      "day_of_week has 5 labels\n",
      "['mon' 'tue' 'wed' 'thu' 'fri']\n",
      "\n",
      "poutcome has 3 labels\n",
      "['nonexistent' 'failure' 'success']\n",
      "\n",
      "age_group has 5 labels\n",
      "['51-60' '31-40' '41-50' '17-30' '>60']\n",
      "\n",
      "pdays_group has 4 labels\n",
      "['Not contacted' '1w' '2w' '>2w']\n",
      "\n"
     ]
    }
   ],
   "source": [
    "# how many labels are in each category?\n",
    "for cat in cat_vars:\n",
    "    print(cat, 'has {} labels'.format(data[cat].nunique()))\n",
    "    print(data[cat].unique())\n",
    "    print()"
   ]
  },
  {
   "cell_type": "code",
   "execution_count": 9,
   "id": "598a0723",
   "metadata": {},
   "outputs": [
    {
     "data": {
      "text/plain": [
       "['marital',\n",
       " 'default',\n",
       " 'housing',\n",
       " 'loan',\n",
       " 'contact',\n",
       " 'day_of_week',\n",
       " 'poutcome',\n",
       " 'age_group',\n",
       " 'pdays_group']"
      ]
     },
     "execution_count": 9,
     "metadata": {},
     "output_type": "execute_result"
    }
   ],
   "source": [
    "cat_few = [cat for cat in cat_vars if data[cat].nunique() < 6]\n",
    "cat_many = [cat for cat in cat_vars if cat not in cat_few]\n",
    "\n",
    "cat_few"
   ]
  },
  {
   "cell_type": "code",
   "execution_count": 10,
   "id": "7c232e7c",
   "metadata": {
    "scrolled": true
   },
   "outputs": [
    {
     "data": {
      "text/plain": [
       "['job', 'education', 'month']"
      ]
     },
     "execution_count": 10,
     "metadata": {},
     "output_type": "execute_result"
    }
   ],
   "source": [
    "cat_many"
   ]
  },
  {
   "cell_type": "markdown",
   "id": "6b4a22bf",
   "metadata": {},
   "source": [
    "### Cat_few\n",
    "\n",
    "Before I perform feature engineering techiques, I need to separate train and test set. "
   ]
  },
  {
   "cell_type": "code",
   "execution_count": 11,
   "id": "45e6ba96",
   "metadata": {},
   "outputs": [
    {
     "data": {
      "text/html": [
       "<div>\n",
       "<style scoped>\n",
       "    .dataframe tbody tr th:only-of-type {\n",
       "        vertical-align: middle;\n",
       "    }\n",
       "\n",
       "    .dataframe tbody tr th {\n",
       "        vertical-align: top;\n",
       "    }\n",
       "\n",
       "    .dataframe thead th {\n",
       "        text-align: right;\n",
       "    }\n",
       "</style>\n",
       "<table border=\"1\" class=\"dataframe\">\n",
       "  <thead>\n",
       "    <tr style=\"text-align: right;\">\n",
       "      <th></th>\n",
       "      <th>marital</th>\n",
       "      <th>default</th>\n",
       "      <th>housing</th>\n",
       "      <th>loan</th>\n",
       "      <th>contact</th>\n",
       "      <th>day_of_week</th>\n",
       "      <th>poutcome</th>\n",
       "      <th>y</th>\n",
       "      <th>age_group</th>\n",
       "      <th>pdays_group</th>\n",
       "    </tr>\n",
       "  </thead>\n",
       "  <tbody>\n",
       "    <tr>\n",
       "      <th>0</th>\n",
       "      <td>married</td>\n",
       "      <td>no</td>\n",
       "      <td>no</td>\n",
       "      <td>no</td>\n",
       "      <td>telephone</td>\n",
       "      <td>mon</td>\n",
       "      <td>nonexistent</td>\n",
       "      <td>no</td>\n",
       "      <td>51-60</td>\n",
       "      <td>Not contacted</td>\n",
       "    </tr>\n",
       "    <tr>\n",
       "      <th>1</th>\n",
       "      <td>married</td>\n",
       "      <td>unknown</td>\n",
       "      <td>no</td>\n",
       "      <td>no</td>\n",
       "      <td>telephone</td>\n",
       "      <td>mon</td>\n",
       "      <td>nonexistent</td>\n",
       "      <td>no</td>\n",
       "      <td>51-60</td>\n",
       "      <td>Not contacted</td>\n",
       "    </tr>\n",
       "    <tr>\n",
       "      <th>2</th>\n",
       "      <td>married</td>\n",
       "      <td>no</td>\n",
       "      <td>yes</td>\n",
       "      <td>no</td>\n",
       "      <td>telephone</td>\n",
       "      <td>mon</td>\n",
       "      <td>nonexistent</td>\n",
       "      <td>no</td>\n",
       "      <td>31-40</td>\n",
       "      <td>Not contacted</td>\n",
       "    </tr>\n",
       "    <tr>\n",
       "      <th>3</th>\n",
       "      <td>married</td>\n",
       "      <td>no</td>\n",
       "      <td>no</td>\n",
       "      <td>no</td>\n",
       "      <td>telephone</td>\n",
       "      <td>mon</td>\n",
       "      <td>nonexistent</td>\n",
       "      <td>no</td>\n",
       "      <td>31-40</td>\n",
       "      <td>Not contacted</td>\n",
       "    </tr>\n",
       "    <tr>\n",
       "      <th>4</th>\n",
       "      <td>married</td>\n",
       "      <td>no</td>\n",
       "      <td>no</td>\n",
       "      <td>yes</td>\n",
       "      <td>telephone</td>\n",
       "      <td>mon</td>\n",
       "      <td>nonexistent</td>\n",
       "      <td>no</td>\n",
       "      <td>51-60</td>\n",
       "      <td>Not contacted</td>\n",
       "    </tr>\n",
       "  </tbody>\n",
       "</table>\n",
       "</div>"
      ],
      "text/plain": [
       "   marital  default housing loan    contact day_of_week     poutcome   y  \\\n",
       "0  married       no      no   no  telephone         mon  nonexistent  no   \n",
       "1  married  unknown      no   no  telephone         mon  nonexistent  no   \n",
       "2  married       no     yes   no  telephone         mon  nonexistent  no   \n",
       "3  married       no      no   no  telephone         mon  nonexistent  no   \n",
       "4  married       no      no  yes  telephone         mon  nonexistent  no   \n",
       "\n",
       "  age_group    pdays_group  \n",
       "0     51-60  Not contacted  \n",
       "1     51-60  Not contacted  \n",
       "2     31-40  Not contacted  \n",
       "3     31-40  Not contacted  \n",
       "4     51-60  Not contacted  "
      ]
     },
     "execution_count": 11,
     "metadata": {},
     "output_type": "execute_result"
    }
   ],
   "source": [
    "tmp = data.drop(num_vars, axis=1)\n",
    "tmp = tmp.drop(['education', 'job', 'month'], axis=1)\n",
    "tmp.head()"
   ]
  },
  {
   "cell_type": "code",
   "execution_count": 12,
   "id": "5373685d",
   "metadata": {},
   "outputs": [
    {
     "data": {
      "text/plain": [
       "((28829, 9), (12356, 9))"
      ]
     },
     "execution_count": 12,
     "metadata": {},
     "output_type": "execute_result"
    }
   ],
   "source": [
    "X_train, X_test, y_train, y_test = train_test_split(\n",
    "    tmp.drop(target, axis=1),\n",
    "    tmp[target],\n",
    "    test_size=0.3, # percentage of test set\n",
    "    random_state=0\n",
    ")\n",
    "\n",
    "X_train.shape, X_test.shape"
   ]
  },
  {
   "cell_type": "markdown",
   "id": "7dd4ee53",
   "metadata": {},
   "source": [
    "- cat_few\n",
    "    - 1) OHE\n",
    "    - 2) Integer\n",
    "    - 3) Count "
   ]
  },
  {
   "cell_type": "markdown",
   "id": "47ae6f90",
   "metadata": {},
   "source": [
    "#### __One Hot Encoding (OHE)__\n",
    "\n",
    "One hot encoding, consists in encoding each categorical variable with different boolean variables (dummy variables) which take values 0 or 1, indicating if a category is present in an observation. "
   ]
  },
  {
   "cell_type": "code",
   "execution_count": 13,
   "id": "affb033a",
   "metadata": {},
   "outputs": [],
   "source": [
    "X_train_ohe = X_train.copy()\n",
    "X_test_ohe = X_test.copy()"
   ]
  },
  {
   "cell_type": "code",
   "execution_count": 14,
   "id": "aabdfc17",
   "metadata": {},
   "outputs": [
    {
     "data": {
      "text/plain": [
       "OneHotEncoder(drop_last=True,\n",
       "              variables=['marital', 'default', 'housing', 'loan', 'contact',\n",
       "                         'day_of_week', 'poutcome', 'age_group',\n",
       "                         'pdays_group'])"
      ]
     },
     "execution_count": 14,
     "metadata": {},
     "output_type": "execute_result"
    }
   ],
   "source": [
    "ohe_enc = ce.OneHotEncoder(\n",
    "    top_categories=None,\n",
    "    variables=cat_few,\n",
    "    drop_last=True\n",
    ")\n",
    "\n",
    "ohe_enc.fit(X_train_ohe)"
   ]
  },
  {
   "cell_type": "code",
   "execution_count": 15,
   "id": "c013b8ee",
   "metadata": {},
   "outputs": [],
   "source": [
    "X_train_ohe = ohe_enc.transform(X_train_ohe)\n",
    "X_test_ohe = ohe_enc.transform(X_test_ohe)"
   ]
  },
  {
   "cell_type": "code",
   "execution_count": 16,
   "id": "cc04ca4f",
   "metadata": {},
   "outputs": [
    {
     "data": {
      "text/html": [
       "<div>\n",
       "<style scoped>\n",
       "    .dataframe tbody tr th:only-of-type {\n",
       "        vertical-align: middle;\n",
       "    }\n",
       "\n",
       "    .dataframe tbody tr th {\n",
       "        vertical-align: top;\n",
       "    }\n",
       "\n",
       "    .dataframe thead th {\n",
       "        text-align: right;\n",
       "    }\n",
       "</style>\n",
       "<table border=\"1\" class=\"dataframe\">\n",
       "  <thead>\n",
       "    <tr style=\"text-align: right;\">\n",
       "      <th></th>\n",
       "      <th>marital_married</th>\n",
       "      <th>marital_divorced</th>\n",
       "      <th>marital_single</th>\n",
       "      <th>default_no</th>\n",
       "      <th>default_unknown</th>\n",
       "      <th>housing_yes</th>\n",
       "      <th>housing_no</th>\n",
       "      <th>loan_no</th>\n",
       "      <th>loan_unknown</th>\n",
       "      <th>contact_cellular</th>\n",
       "      <th>day_of_week_thu</th>\n",
       "      <th>day_of_week_fri</th>\n",
       "      <th>day_of_week_tue</th>\n",
       "      <th>day_of_week_wed</th>\n",
       "      <th>poutcome_nonexistent</th>\n",
       "      <th>poutcome_failure</th>\n",
       "      <th>age_group_51-60</th>\n",
       "      <th>age_group_31-40</th>\n",
       "      <th>age_group_41-50</th>\n",
       "      <th>age_group_17-30</th>\n",
       "      <th>pdays_group_Not contacted</th>\n",
       "      <th>pdays_group_1w</th>\n",
       "      <th>pdays_group_&gt;2w</th>\n",
       "    </tr>\n",
       "  </thead>\n",
       "  <tbody>\n",
       "    <tr>\n",
       "      <th>19618</th>\n",
       "      <td>1</td>\n",
       "      <td>0</td>\n",
       "      <td>0</td>\n",
       "      <td>1</td>\n",
       "      <td>0</td>\n",
       "      <td>1</td>\n",
       "      <td>0</td>\n",
       "      <td>1</td>\n",
       "      <td>0</td>\n",
       "      <td>1</td>\n",
       "      <td>1</td>\n",
       "      <td>0</td>\n",
       "      <td>0</td>\n",
       "      <td>0</td>\n",
       "      <td>1</td>\n",
       "      <td>0</td>\n",
       "      <td>1</td>\n",
       "      <td>0</td>\n",
       "      <td>0</td>\n",
       "      <td>0</td>\n",
       "      <td>1</td>\n",
       "      <td>0</td>\n",
       "      <td>0</td>\n",
       "    </tr>\n",
       "    <tr>\n",
       "      <th>1518</th>\n",
       "      <td>1</td>\n",
       "      <td>0</td>\n",
       "      <td>0</td>\n",
       "      <td>0</td>\n",
       "      <td>1</td>\n",
       "      <td>0</td>\n",
       "      <td>1</td>\n",
       "      <td>1</td>\n",
       "      <td>0</td>\n",
       "      <td>0</td>\n",
       "      <td>1</td>\n",
       "      <td>0</td>\n",
       "      <td>0</td>\n",
       "      <td>0</td>\n",
       "      <td>1</td>\n",
       "      <td>0</td>\n",
       "      <td>0</td>\n",
       "      <td>1</td>\n",
       "      <td>0</td>\n",
       "      <td>0</td>\n",
       "      <td>1</td>\n",
       "      <td>0</td>\n",
       "      <td>0</td>\n",
       "    </tr>\n",
       "    <tr>\n",
       "      <th>34980</th>\n",
       "      <td>1</td>\n",
       "      <td>0</td>\n",
       "      <td>0</td>\n",
       "      <td>1</td>\n",
       "      <td>0</td>\n",
       "      <td>1</td>\n",
       "      <td>0</td>\n",
       "      <td>1</td>\n",
       "      <td>0</td>\n",
       "      <td>1</td>\n",
       "      <td>0</td>\n",
       "      <td>1</td>\n",
       "      <td>0</td>\n",
       "      <td>0</td>\n",
       "      <td>0</td>\n",
       "      <td>1</td>\n",
       "      <td>0</td>\n",
       "      <td>0</td>\n",
       "      <td>1</td>\n",
       "      <td>0</td>\n",
       "      <td>1</td>\n",
       "      <td>0</td>\n",
       "      <td>0</td>\n",
       "    </tr>\n",
       "    <tr>\n",
       "      <th>24958</th>\n",
       "      <td>1</td>\n",
       "      <td>0</td>\n",
       "      <td>0</td>\n",
       "      <td>1</td>\n",
       "      <td>0</td>\n",
       "      <td>1</td>\n",
       "      <td>0</td>\n",
       "      <td>1</td>\n",
       "      <td>0</td>\n",
       "      <td>0</td>\n",
       "      <td>0</td>\n",
       "      <td>0</td>\n",
       "      <td>1</td>\n",
       "      <td>0</td>\n",
       "      <td>1</td>\n",
       "      <td>0</td>\n",
       "      <td>0</td>\n",
       "      <td>1</td>\n",
       "      <td>0</td>\n",
       "      <td>0</td>\n",
       "      <td>1</td>\n",
       "      <td>0</td>\n",
       "      <td>0</td>\n",
       "    </tr>\n",
       "    <tr>\n",
       "      <th>16697</th>\n",
       "      <td>0</td>\n",
       "      <td>1</td>\n",
       "      <td>0</td>\n",
       "      <td>1</td>\n",
       "      <td>0</td>\n",
       "      <td>0</td>\n",
       "      <td>1</td>\n",
       "      <td>1</td>\n",
       "      <td>0</td>\n",
       "      <td>1</td>\n",
       "      <td>0</td>\n",
       "      <td>0</td>\n",
       "      <td>0</td>\n",
       "      <td>1</td>\n",
       "      <td>1</td>\n",
       "      <td>0</td>\n",
       "      <td>0</td>\n",
       "      <td>0</td>\n",
       "      <td>0</td>\n",
       "      <td>1</td>\n",
       "      <td>1</td>\n",
       "      <td>0</td>\n",
       "      <td>0</td>\n",
       "    </tr>\n",
       "  </tbody>\n",
       "</table>\n",
       "</div>"
      ],
      "text/plain": [
       "       marital_married  marital_divorced  marital_single  default_no  \\\n",
       "19618                1                 0               0           1   \n",
       "1518                 1                 0               0           0   \n",
       "34980                1                 0               0           1   \n",
       "24958                1                 0               0           1   \n",
       "16697                0                 1               0           1   \n",
       "\n",
       "       default_unknown  housing_yes  housing_no  loan_no  loan_unknown  \\\n",
       "19618                0            1           0        1             0   \n",
       "1518                 1            0           1        1             0   \n",
       "34980                0            1           0        1             0   \n",
       "24958                0            1           0        1             0   \n",
       "16697                0            0           1        1             0   \n",
       "\n",
       "       contact_cellular  day_of_week_thu  day_of_week_fri  day_of_week_tue  \\\n",
       "19618                 1                1                0                0   \n",
       "1518                  0                1                0                0   \n",
       "34980                 1                0                1                0   \n",
       "24958                 0                0                0                1   \n",
       "16697                 1                0                0                0   \n",
       "\n",
       "       day_of_week_wed  poutcome_nonexistent  poutcome_failure  \\\n",
       "19618                0                     1                 0   \n",
       "1518                 0                     1                 0   \n",
       "34980                0                     0                 1   \n",
       "24958                0                     1                 0   \n",
       "16697                1                     1                 0   \n",
       "\n",
       "       age_group_51-60  age_group_31-40  age_group_41-50  age_group_17-30  \\\n",
       "19618                1                0                0                0   \n",
       "1518                 0                1                0                0   \n",
       "34980                0                0                1                0   \n",
       "24958                0                1                0                0   \n",
       "16697                0                0                0                1   \n",
       "\n",
       "       pdays_group_Not contacted  pdays_group_1w  pdays_group_>2w  \n",
       "19618                          1               0                0  \n",
       "1518                           1               0                0  \n",
       "34980                          1               0                0  \n",
       "24958                          1               0                0  \n",
       "16697                          1               0                0  "
      ]
     },
     "execution_count": 16,
     "metadata": {},
     "output_type": "execute_result"
    }
   ],
   "source": [
    "X_train_ohe.head()"
   ]
  },
  {
   "cell_type": "markdown",
   "id": "a3221373",
   "metadata": {},
   "source": [
    "#### __Integer Encoding__\n",
    "\n",
    "Integer encoding consist in replacing the categories by digits from 1 to n, where n is the number of distinct categories of the variable. \n",
    "\n",
    "The numbers are assigned arbitrarily. This encoding method allows for quick benchmarking of machine learning models. "
   ]
  },
  {
   "cell_type": "code",
   "execution_count": 17,
   "id": "c3a86ba5",
   "metadata": {},
   "outputs": [],
   "source": [
    "X_train_ing = X_train.copy()\n",
    "X_test_ing = X_test.copy()"
   ]
  },
  {
   "cell_type": "code",
   "execution_count": 18,
   "id": "32e083ef",
   "metadata": {},
   "outputs": [
    {
     "data": {
      "text/plain": [
       "OrdinalEncoder(encoding_method='arbitrary',\n",
       "               variables=['marital', 'default', 'housing', 'loan', 'contact',\n",
       "                          'day_of_week', 'poutcome', 'age_group',\n",
       "                          'pdays_group'])"
      ]
     },
     "execution_count": 18,
     "metadata": {},
     "output_type": "execute_result"
    }
   ],
   "source": [
    "ordinal_enc = ce.OrdinalEncoder(\n",
    "    encoding_method='arbitrary',\n",
    "    variables=cat_few)\n",
    "\n",
    "ordinal_enc.fit(X_train_ing)"
   ]
  },
  {
   "cell_type": "code",
   "execution_count": 19,
   "id": "b3963a7f",
   "metadata": {},
   "outputs": [],
   "source": [
    "X_train_ing = ordinal_enc.transform(X_train_ing)\n",
    "X_test_ing = ordinal_enc.transform(X_test_ing)"
   ]
  },
  {
   "cell_type": "code",
   "execution_count": 20,
   "id": "4c35c7f3",
   "metadata": {},
   "outputs": [
    {
     "data": {
      "text/html": [
       "<div>\n",
       "<style scoped>\n",
       "    .dataframe tbody tr th:only-of-type {\n",
       "        vertical-align: middle;\n",
       "    }\n",
       "\n",
       "    .dataframe tbody tr th {\n",
       "        vertical-align: top;\n",
       "    }\n",
       "\n",
       "    .dataframe thead th {\n",
       "        text-align: right;\n",
       "    }\n",
       "</style>\n",
       "<table border=\"1\" class=\"dataframe\">\n",
       "  <thead>\n",
       "    <tr style=\"text-align: right;\">\n",
       "      <th></th>\n",
       "      <th>marital</th>\n",
       "      <th>default</th>\n",
       "      <th>housing</th>\n",
       "      <th>loan</th>\n",
       "      <th>contact</th>\n",
       "      <th>day_of_week</th>\n",
       "      <th>poutcome</th>\n",
       "      <th>age_group</th>\n",
       "      <th>pdays_group</th>\n",
       "    </tr>\n",
       "  </thead>\n",
       "  <tbody>\n",
       "    <tr>\n",
       "      <th>19618</th>\n",
       "      <td>0</td>\n",
       "      <td>0</td>\n",
       "      <td>0</td>\n",
       "      <td>0</td>\n",
       "      <td>0</td>\n",
       "      <td>0</td>\n",
       "      <td>0</td>\n",
       "      <td>0</td>\n",
       "      <td>0</td>\n",
       "    </tr>\n",
       "    <tr>\n",
       "      <th>1518</th>\n",
       "      <td>0</td>\n",
       "      <td>1</td>\n",
       "      <td>1</td>\n",
       "      <td>0</td>\n",
       "      <td>1</td>\n",
       "      <td>0</td>\n",
       "      <td>0</td>\n",
       "      <td>1</td>\n",
       "      <td>0</td>\n",
       "    </tr>\n",
       "    <tr>\n",
       "      <th>34980</th>\n",
       "      <td>0</td>\n",
       "      <td>0</td>\n",
       "      <td>0</td>\n",
       "      <td>0</td>\n",
       "      <td>0</td>\n",
       "      <td>1</td>\n",
       "      <td>1</td>\n",
       "      <td>2</td>\n",
       "      <td>0</td>\n",
       "    </tr>\n",
       "    <tr>\n",
       "      <th>24958</th>\n",
       "      <td>0</td>\n",
       "      <td>0</td>\n",
       "      <td>0</td>\n",
       "      <td>0</td>\n",
       "      <td>1</td>\n",
       "      <td>2</td>\n",
       "      <td>0</td>\n",
       "      <td>1</td>\n",
       "      <td>0</td>\n",
       "    </tr>\n",
       "    <tr>\n",
       "      <th>16697</th>\n",
       "      <td>1</td>\n",
       "      <td>0</td>\n",
       "      <td>1</td>\n",
       "      <td>0</td>\n",
       "      <td>0</td>\n",
       "      <td>3</td>\n",
       "      <td>0</td>\n",
       "      <td>3</td>\n",
       "      <td>0</td>\n",
       "    </tr>\n",
       "  </tbody>\n",
       "</table>\n",
       "</div>"
      ],
      "text/plain": [
       "       marital  default  housing  loan  contact  day_of_week  poutcome  \\\n",
       "19618        0        0        0     0        0            0         0   \n",
       "1518         0        1        1     0        1            0         0   \n",
       "34980        0        0        0     0        0            1         1   \n",
       "24958        0        0        0     0        1            2         0   \n",
       "16697        1        0        1     0        0            3         0   \n",
       "\n",
       "       age_group  pdays_group  \n",
       "19618          0            0  \n",
       "1518           1            0  \n",
       "34980          2            0  \n",
       "24958          1            0  \n",
       "16697          3            0  "
      ]
     },
     "execution_count": 20,
     "metadata": {},
     "output_type": "execute_result"
    }
   ],
   "source": [
    "X_train_ing.head()"
   ]
  },
  {
   "cell_type": "markdown",
   "id": "3c89bf8b",
   "metadata": {},
   "source": [
    "#### __Count Encoding__\n",
    "\n",
    "In count encoding we replace the categories by the count of the observations that show that category in the dataset. Similarly, we can replace the category by the frequency- or percentage- of observations in the dataset. That is, if 10 of our 100 observations show the color blue, we would replace blue by 10 if doing count encoding, or by 0.1 if replacing by the frequency. These techniques capture the representation of each label in a dataset, but the encoding may not necessarily be predictive of the outcome. These are however, very popular encoding methods in Kaggle competitions. \n",
    "\n",
    "The assumption of thie technique is that the number of observations shown by each variable is somewhat informative of the predictive power of the category. "
   ]
  },
  {
   "cell_type": "code",
   "execution_count": 21,
   "id": "228b12ce",
   "metadata": {},
   "outputs": [],
   "source": [
    "X_train_cont = X_train.copy()\n",
    "X_test_cont = X_test.copy()"
   ]
  },
  {
   "cell_type": "code",
   "execution_count": 22,
   "id": "85669376",
   "metadata": {},
   "outputs": [
    {
     "data": {
      "text/plain": [
       "CountFrequencyEncoder(variables=['marital', 'default', 'housing', 'loan',\n",
       "                                 'contact', 'day_of_week', 'poutcome',\n",
       "                                 'age_group', 'pdays_group'])"
      ]
     },
     "execution_count": 22,
     "metadata": {},
     "output_type": "execute_result"
    }
   ],
   "source": [
    "count_enc = ce.CountFrequencyEncoder(\n",
    "    encoding_method='count', # to do frequency -> encoding_method='frequency'\n",
    "    variables=cat_few)\n",
    "\n",
    "count_enc.fit(X_train_cont)"
   ]
  },
  {
   "cell_type": "code",
   "execution_count": 23,
   "id": "b798c23e",
   "metadata": {},
   "outputs": [],
   "source": [
    "X_train_cont = count_enc.transform(X_train_cont)\n",
    "X_test_cont = count_enc.transform(X_test_cont)"
   ]
  },
  {
   "cell_type": "code",
   "execution_count": 24,
   "id": "67ac9f4a",
   "metadata": {},
   "outputs": [
    {
     "data": {
      "text/html": [
       "<div>\n",
       "<style scoped>\n",
       "    .dataframe tbody tr th:only-of-type {\n",
       "        vertical-align: middle;\n",
       "    }\n",
       "\n",
       "    .dataframe tbody tr th {\n",
       "        vertical-align: top;\n",
       "    }\n",
       "\n",
       "    .dataframe thead th {\n",
       "        text-align: right;\n",
       "    }\n",
       "</style>\n",
       "<table border=\"1\" class=\"dataframe\">\n",
       "  <thead>\n",
       "    <tr style=\"text-align: right;\">\n",
       "      <th></th>\n",
       "      <th>marital</th>\n",
       "      <th>default</th>\n",
       "      <th>housing</th>\n",
       "      <th>loan</th>\n",
       "      <th>contact</th>\n",
       "      <th>day_of_week</th>\n",
       "      <th>poutcome</th>\n",
       "      <th>age_group</th>\n",
       "      <th>pdays_group</th>\n",
       "    </tr>\n",
       "  </thead>\n",
       "  <tbody>\n",
       "    <tr>\n",
       "      <th>19618</th>\n",
       "      <td>17389</td>\n",
       "      <td>22802</td>\n",
       "      <td>15097</td>\n",
       "      <td>23811</td>\n",
       "      <td>18283</td>\n",
       "      <td>6072</td>\n",
       "      <td>24981</td>\n",
       "      <td>4290</td>\n",
       "      <td>27806</td>\n",
       "    </tr>\n",
       "    <tr>\n",
       "      <th>1518</th>\n",
       "      <td>17389</td>\n",
       "      <td>6024</td>\n",
       "      <td>13050</td>\n",
       "      <td>23811</td>\n",
       "      <td>10546</td>\n",
       "      <td>6072</td>\n",
       "      <td>24981</td>\n",
       "      <td>11519</td>\n",
       "      <td>27806</td>\n",
       "    </tr>\n",
       "    <tr>\n",
       "      <th>34980</th>\n",
       "      <td>17389</td>\n",
       "      <td>22802</td>\n",
       "      <td>15097</td>\n",
       "      <td>23811</td>\n",
       "      <td>18283</td>\n",
       "      <td>5469</td>\n",
       "      <td>2918</td>\n",
       "      <td>7157</td>\n",
       "      <td>27806</td>\n",
       "    </tr>\n",
       "    <tr>\n",
       "      <th>24958</th>\n",
       "      <td>17389</td>\n",
       "      <td>22802</td>\n",
       "      <td>15097</td>\n",
       "      <td>23811</td>\n",
       "      <td>10546</td>\n",
       "      <td>5579</td>\n",
       "      <td>24981</td>\n",
       "      <td>11519</td>\n",
       "      <td>27806</td>\n",
       "    </tr>\n",
       "    <tr>\n",
       "      <th>16697</th>\n",
       "      <td>3203</td>\n",
       "      <td>22802</td>\n",
       "      <td>13050</td>\n",
       "      <td>23811</td>\n",
       "      <td>18283</td>\n",
       "      <td>5757</td>\n",
       "      <td>24981</td>\n",
       "      <td>5201</td>\n",
       "      <td>27806</td>\n",
       "    </tr>\n",
       "  </tbody>\n",
       "</table>\n",
       "</div>"
      ],
      "text/plain": [
       "       marital  default  housing   loan  contact  day_of_week  poutcome  \\\n",
       "19618    17389    22802    15097  23811    18283         6072     24981   \n",
       "1518     17389     6024    13050  23811    10546         6072     24981   \n",
       "34980    17389    22802    15097  23811    18283         5469      2918   \n",
       "24958    17389    22802    15097  23811    10546         5579     24981   \n",
       "16697     3203    22802    13050  23811    18283         5757     24981   \n",
       "\n",
       "       age_group  pdays_group  \n",
       "19618       4290        27806  \n",
       "1518       11519        27806  \n",
       "34980       7157        27806  \n",
       "24958      11519        27806  \n",
       "16697       5201        27806  "
      ]
     },
     "execution_count": 24,
     "metadata": {},
     "output_type": "execute_result"
    }
   ],
   "source": [
    "X_train_cont.head()"
   ]
  },
  {
   "cell_type": "markdown",
   "id": "22460bdd",
   "metadata": {},
   "source": [
    "#### __Evaluate Random Forest Performances and Logistic Regression Performances__"
   ]
  },
  {
   "cell_type": "code",
   "execution_count": 25,
   "id": "c1d6c2e3",
   "metadata": {},
   "outputs": [],
   "source": [
    "def run_RFs(X_train, X_test, y_train, y_test):\n",
    "    \n",
    "    rf = RandomForestClassifier(n_estimators=40, random_state=39, max_depth=3)\n",
    "    rf.fit(X_train, y_train)\n",
    "    \n",
    "    print('Train set')\n",
    "    pred = rf.predict_proba(X_train)\n",
    "    print('Random Forests roc-auc: {}'.format(roc_auc_score(y_train, pred[:, 1])))\n",
    "    \n",
    "    print('Test set')\n",
    "    pred = rf.predict_proba(X_test)\n",
    "    print('Random Forests roc-auc: {}'.format(roc_auc_score(y_test, pred[:, 1])))"
   ]
  },
  {
   "cell_type": "code",
   "execution_count": 26,
   "id": "2b42bc7a",
   "metadata": {},
   "outputs": [
    {
     "name": "stdout",
     "output_type": "stream",
     "text": [
      "Train set\n",
      "Random Forests roc-auc: 0.7108919390095485\n",
      "Test set\n",
      "Random Forests roc-auc: 0.7229617236848682\n"
     ]
    }
   ],
   "source": [
    "# OHE\n",
    "run_RFs(X_train_ohe, X_test_ohe, y_train, y_test)"
   ]
  },
  {
   "cell_type": "code",
   "execution_count": 27,
   "id": "4e4975e7",
   "metadata": {},
   "outputs": [
    {
     "name": "stdout",
     "output_type": "stream",
     "text": [
      "Train set\n",
      "Random Forests roc-auc: 0.7214695488630182\n",
      "Test set\n",
      "Random Forests roc-auc: 0.7345120376655144\n"
     ]
    }
   ],
   "source": [
    "# Integer encoding\n",
    "run_RFs(X_train_ing, X_test_ing, y_train, y_test)"
   ]
  },
  {
   "cell_type": "code",
   "execution_count": 29,
   "id": "791a2c66",
   "metadata": {},
   "outputs": [
    {
     "name": "stdout",
     "output_type": "stream",
     "text": [
      "Train set\n",
      "Random Forests roc-auc: 0.7191837214392108\n",
      "Test set\n",
      "Random Forests roc-auc: 0.7357399850499257\n"
     ]
    }
   ],
   "source": [
    "# counts\n",
    "run_RFs(X_train_cont, X_test_cont, y_train, y_test)"
   ]
  },
  {
   "cell_type": "markdown",
   "id": "f85e8302",
   "metadata": {},
   "source": [
    "Comparing the roc_auc values on the test sets, we can see that one hot encoding got the worse performance, because trees do not perform well in datasets with big feature spaces. "
   ]
  },
  {
   "cell_type": "code",
   "execution_count": 30,
   "id": "2e1bbdc2",
   "metadata": {},
   "outputs": [],
   "source": [
    "def run_logit(X_train, X_test, y_train, y_test):\n",
    "    \n",
    "    logit = LogisticRegression(random_state=44, C=0.01, max_iter=100)\n",
    "    logit.fit(X_train, y_train)\n",
    "    \n",
    "    print('Train set')\n",
    "    pred = logit.predict_proba(X_train)\n",
    "    print('Logistic Regression roc-auc: {}'.format(roc_auc_score(y_train, pred[:,1])))\n",
    "    \n",
    "    print('Test set')\n",
    "    pred = logit.predict_proba(X_test)\n",
    "    print('Logistic Regression roc-auc: {}'.format(roc_auc_score(y_test, pred[:, 1])))"
   ]
  },
  {
   "cell_type": "code",
   "execution_count": 31,
   "id": "35020f12",
   "metadata": {},
   "outputs": [
    {
     "name": "stdout",
     "output_type": "stream",
     "text": [
      "Train set\n",
      "Logistic Regression roc-auc: 0.7193925853729305\n",
      "Test set\n",
      "Logistic Regression roc-auc: 0.7318272578935414\n"
     ]
    }
   ],
   "source": [
    "# OHE\n",
    "run_logit(X_train_ohe, X_test_ohe, y_train, y_test)"
   ]
  },
  {
   "cell_type": "code",
   "execution_count": 32,
   "id": "8a98e919",
   "metadata": {},
   "outputs": [
    {
     "name": "stdout",
     "output_type": "stream",
     "text": [
      "Train set\n",
      "Logistic Regression roc-auc: 0.7081959877111799\n",
      "Test set\n",
      "Logistic Regression roc-auc: 0.7176665311094547\n"
     ]
    }
   ],
   "source": [
    "# Integer encoding\n",
    "run_logit(X_train_ing, X_test_ing, y_train, y_test)"
   ]
  },
  {
   "cell_type": "code",
   "execution_count": 33,
   "id": "2c0eb3f5",
   "metadata": {},
   "outputs": [
    {
     "name": "stdout",
     "output_type": "stream",
     "text": [
      "Train set\n",
      "Logistic Regression roc-auc: 0.7152778357472294\n",
      "Test set\n",
      "Logistic Regression roc-auc: 0.7264201512934829\n"
     ]
    }
   ],
   "source": [
    "# counts\n",
    "run_logit(X_train_cont, X_test_cont, y_train, y_test)"
   ]
  },
  {
   "cell_type": "markdown",
   "id": "b0df1559",
   "metadata": {},
   "source": [
    "### Cat_many\n",
    "\n",
    "Before I perform feature engineering techiques, I need to separate train and test set. "
   ]
  },
  {
   "cell_type": "markdown",
   "id": "7003d27f",
   "metadata": {},
   "source": [
    "- cat_many\n",
    "    - 1) Integer\n",
    "    - 2) Count \n",
    "    \n",
    "Since cat_many has a lot of labels in categories, I will not perform One Hot Encoding because it will increase feature spaces which can cause over-fitting. "
   ]
  },
  {
   "cell_type": "code",
   "execution_count": 34,
   "id": "f93a4138",
   "metadata": {},
   "outputs": [
    {
     "data": {
      "text/plain": [
       "['job', 'education', 'month']"
      ]
     },
     "execution_count": 34,
     "metadata": {},
     "output_type": "execute_result"
    }
   ],
   "source": [
    "cat_many"
   ]
  },
  {
   "cell_type": "code",
   "execution_count": 36,
   "id": "c514155e",
   "metadata": {},
   "outputs": [
    {
     "data": {
      "text/html": [
       "<div>\n",
       "<style scoped>\n",
       "    .dataframe tbody tr th:only-of-type {\n",
       "        vertical-align: middle;\n",
       "    }\n",
       "\n",
       "    .dataframe tbody tr th {\n",
       "        vertical-align: top;\n",
       "    }\n",
       "\n",
       "    .dataframe thead th {\n",
       "        text-align: right;\n",
       "    }\n",
       "</style>\n",
       "<table border=\"1\" class=\"dataframe\">\n",
       "  <thead>\n",
       "    <tr style=\"text-align: right;\">\n",
       "      <th></th>\n",
       "      <th>job</th>\n",
       "      <th>education</th>\n",
       "      <th>month</th>\n",
       "      <th>y</th>\n",
       "    </tr>\n",
       "  </thead>\n",
       "  <tbody>\n",
       "    <tr>\n",
       "      <th>0</th>\n",
       "      <td>housemaid</td>\n",
       "      <td>basic.4y</td>\n",
       "      <td>may</td>\n",
       "      <td>no</td>\n",
       "    </tr>\n",
       "    <tr>\n",
       "      <th>1</th>\n",
       "      <td>services</td>\n",
       "      <td>high.school</td>\n",
       "      <td>may</td>\n",
       "      <td>no</td>\n",
       "    </tr>\n",
       "    <tr>\n",
       "      <th>2</th>\n",
       "      <td>services</td>\n",
       "      <td>high.school</td>\n",
       "      <td>may</td>\n",
       "      <td>no</td>\n",
       "    </tr>\n",
       "    <tr>\n",
       "      <th>3</th>\n",
       "      <td>admin.</td>\n",
       "      <td>basic.6y</td>\n",
       "      <td>may</td>\n",
       "      <td>no</td>\n",
       "    </tr>\n",
       "    <tr>\n",
       "      <th>4</th>\n",
       "      <td>services</td>\n",
       "      <td>high.school</td>\n",
       "      <td>may</td>\n",
       "      <td>no</td>\n",
       "    </tr>\n",
       "  </tbody>\n",
       "</table>\n",
       "</div>"
      ],
      "text/plain": [
       "         job    education month   y\n",
       "0  housemaid     basic.4y   may  no\n",
       "1   services  high.school   may  no\n",
       "2   services  high.school   may  no\n",
       "3     admin.     basic.6y   may  no\n",
       "4   services  high.school   may  no"
      ]
     },
     "execution_count": 36,
     "metadata": {},
     "output_type": "execute_result"
    }
   ],
   "source": [
    "tmp = data[['job', 'education', 'month', 'y']]\n",
    "tmp.head()"
   ]
  },
  {
   "cell_type": "code",
   "execution_count": 40,
   "id": "bde86d41",
   "metadata": {},
   "outputs": [
    {
     "data": {
      "text/plain": [
       "((28829, 3), (12356, 3))"
      ]
     },
     "execution_count": 40,
     "metadata": {},
     "output_type": "execute_result"
    }
   ],
   "source": [
    "# separate train and test data\n",
    "X_train, X_test, y_train, y_test = train_test_split(\n",
    "    tmp.drop(target, axis=1),\n",
    "    tmp[target],\n",
    "    test_size=0.3, # percentage of test set\n",
    "    random_state=0\n",
    ")\n",
    "\n",
    "X_train.shape, X_test.shape"
   ]
  },
  {
   "cell_type": "markdown",
   "id": "23b5f0c3",
   "metadata": {},
   "source": [
    "#### __Integer Encoding__"
   ]
  },
  {
   "cell_type": "code",
   "execution_count": 41,
   "id": "c9558458",
   "metadata": {},
   "outputs": [],
   "source": [
    "X_train_ing = X_train.copy()\n",
    "X_test_ing = X_test.copy()"
   ]
  },
  {
   "cell_type": "code",
   "execution_count": 42,
   "id": "3915d865",
   "metadata": {},
   "outputs": [
    {
     "data": {
      "text/plain": [
       "OrdinalEncoder(encoding_method='arbitrary',\n",
       "               variables=['job', 'education', 'month'])"
      ]
     },
     "execution_count": 42,
     "metadata": {},
     "output_type": "execute_result"
    }
   ],
   "source": [
    "ordinal_enc = ce.OrdinalEncoder(\n",
    "    encoding_method='arbitrary',\n",
    "    variables=cat_many)\n",
    "\n",
    "ordinal_enc.fit(X_train_ing)"
   ]
  },
  {
   "cell_type": "code",
   "execution_count": 43,
   "id": "8c83f4a0",
   "metadata": {},
   "outputs": [],
   "source": [
    "X_train_ing = ordinal_enc.transform(X_train_ing)\n",
    "X_test_ing = ordinal_enc.transform(X_test_ing)"
   ]
  },
  {
   "cell_type": "code",
   "execution_count": 44,
   "id": "78b49ce2",
   "metadata": {},
   "outputs": [
    {
     "data": {
      "text/html": [
       "<div>\n",
       "<style scoped>\n",
       "    .dataframe tbody tr th:only-of-type {\n",
       "        vertical-align: middle;\n",
       "    }\n",
       "\n",
       "    .dataframe tbody tr th {\n",
       "        vertical-align: top;\n",
       "    }\n",
       "\n",
       "    .dataframe thead th {\n",
       "        text-align: right;\n",
       "    }\n",
       "</style>\n",
       "<table border=\"1\" class=\"dataframe\">\n",
       "  <thead>\n",
       "    <tr style=\"text-align: right;\">\n",
       "      <th></th>\n",
       "      <th>job</th>\n",
       "      <th>education</th>\n",
       "      <th>month</th>\n",
       "    </tr>\n",
       "  </thead>\n",
       "  <tbody>\n",
       "    <tr>\n",
       "      <th>19618</th>\n",
       "      <td>0</td>\n",
       "      <td>0</td>\n",
       "      <td>0</td>\n",
       "    </tr>\n",
       "    <tr>\n",
       "      <th>1518</th>\n",
       "      <td>1</td>\n",
       "      <td>1</td>\n",
       "      <td>1</td>\n",
       "    </tr>\n",
       "    <tr>\n",
       "      <th>34980</th>\n",
       "      <td>0</td>\n",
       "      <td>0</td>\n",
       "      <td>1</td>\n",
       "    </tr>\n",
       "    <tr>\n",
       "      <th>24958</th>\n",
       "      <td>2</td>\n",
       "      <td>2</td>\n",
       "      <td>2</td>\n",
       "    </tr>\n",
       "    <tr>\n",
       "      <th>16697</th>\n",
       "      <td>0</td>\n",
       "      <td>3</td>\n",
       "      <td>3</td>\n",
       "    </tr>\n",
       "  </tbody>\n",
       "</table>\n",
       "</div>"
      ],
      "text/plain": [
       "       job  education  month\n",
       "19618    0          0      0\n",
       "1518     1          1      1\n",
       "34980    0          0      1\n",
       "24958    2          2      2\n",
       "16697    0          3      3"
      ]
     },
     "execution_count": 44,
     "metadata": {},
     "output_type": "execute_result"
    }
   ],
   "source": [
    "X_train_ing.head()"
   ]
  },
  {
   "cell_type": "markdown",
   "id": "b15b9a6a",
   "metadata": {},
   "source": [
    "#### __Count Encoding__"
   ]
  },
  {
   "cell_type": "code",
   "execution_count": 45,
   "id": "2473e86c",
   "metadata": {},
   "outputs": [],
   "source": [
    "X_train_cont = X_train.copy()\n",
    "X_test_cont = X_test.copy()"
   ]
  },
  {
   "cell_type": "code",
   "execution_count": 46,
   "id": "d7bc2150",
   "metadata": {},
   "outputs": [
    {
     "data": {
      "text/plain": [
       "CountFrequencyEncoder(variables=['job', 'education', 'month'])"
      ]
     },
     "execution_count": 46,
     "metadata": {},
     "output_type": "execute_result"
    }
   ],
   "source": [
    "count_enc = ce.CountFrequencyEncoder(\n",
    "    encoding_method='count', # to do frequency -> encoding_method='frequency'\n",
    "    variables=cat_many)\n",
    "\n",
    "count_enc.fit(X_train_cont)"
   ]
  },
  {
   "cell_type": "code",
   "execution_count": 47,
   "id": "e7eebc0d",
   "metadata": {},
   "outputs": [],
   "source": [
    "X_train_cont = count_enc.transform(X_train_cont)\n",
    "X_test_cont = count_enc.transform(X_test_cont)"
   ]
  },
  {
   "cell_type": "code",
   "execution_count": 48,
   "id": "8f3726f3",
   "metadata": {},
   "outputs": [
    {
     "data": {
      "text/html": [
       "<div>\n",
       "<style scoped>\n",
       "    .dataframe tbody tr th:only-of-type {\n",
       "        vertical-align: middle;\n",
       "    }\n",
       "\n",
       "    .dataframe tbody tr th {\n",
       "        vertical-align: top;\n",
       "    }\n",
       "\n",
       "    .dataframe thead th {\n",
       "        text-align: right;\n",
       "    }\n",
       "</style>\n",
       "<table border=\"1\" class=\"dataframe\">\n",
       "  <thead>\n",
       "    <tr style=\"text-align: right;\">\n",
       "      <th></th>\n",
       "      <th>job</th>\n",
       "      <th>education</th>\n",
       "      <th>month</th>\n",
       "    </tr>\n",
       "  </thead>\n",
       "  <tbody>\n",
       "    <tr>\n",
       "      <th>19618</th>\n",
       "      <td>7336</td>\n",
       "      <td>6736</td>\n",
       "      <td>4303</td>\n",
       "    </tr>\n",
       "    <tr>\n",
       "      <th>1518</th>\n",
       "      <td>2018</td>\n",
       "      <td>8506</td>\n",
       "      <td>9621</td>\n",
       "    </tr>\n",
       "    <tr>\n",
       "      <th>34980</th>\n",
       "      <td>7336</td>\n",
       "      <td>6736</td>\n",
       "      <td>9621</td>\n",
       "    </tr>\n",
       "    <tr>\n",
       "      <th>24958</th>\n",
       "      <td>4689</td>\n",
       "      <td>3607</td>\n",
       "      <td>2834</td>\n",
       "    </tr>\n",
       "    <tr>\n",
       "      <th>16697</th>\n",
       "      <td>7336</td>\n",
       "      <td>1597</td>\n",
       "      <td>5082</td>\n",
       "    </tr>\n",
       "  </tbody>\n",
       "</table>\n",
       "</div>"
      ],
      "text/plain": [
       "        job  education  month\n",
       "19618  7336       6736   4303\n",
       "1518   2018       8506   9621\n",
       "34980  7336       6736   9621\n",
       "24958  4689       3607   2834\n",
       "16697  7336       1597   5082"
      ]
     },
     "execution_count": 48,
     "metadata": {},
     "output_type": "execute_result"
    }
   ],
   "source": [
    "X_train_cont.head()"
   ]
  },
  {
   "cell_type": "markdown",
   "id": "68b0dd3a",
   "metadata": {},
   "source": [
    "#### __Evaluate Random Forest Performances and Logistic Regression Performances__"
   ]
  },
  {
   "cell_type": "code",
   "execution_count": 49,
   "id": "6a77097f",
   "metadata": {},
   "outputs": [
    {
     "name": "stdout",
     "output_type": "stream",
     "text": [
      "Train set\n",
      "Random Forests roc-auc: 0.670023601642501\n",
      "Test set\n",
      "Random Forests roc-auc: 0.6782582515605163\n"
     ]
    }
   ],
   "source": [
    "# Integer encoding\n",
    "run_RFs(X_train_ing, X_test_ing, y_train, y_test)"
   ]
  },
  {
   "cell_type": "code",
   "execution_count": 50,
   "id": "df82ab90",
   "metadata": {},
   "outputs": [
    {
     "name": "stdout",
     "output_type": "stream",
     "text": [
      "Train set\n",
      "Random Forests roc-auc: 0.6730713335609252\n",
      "Test set\n",
      "Random Forests roc-auc: 0.6831202978592097\n"
     ]
    }
   ],
   "source": [
    "# counts\n",
    "run_RFs(X_train_cont, X_test_cont, y_train, y_test)"
   ]
  },
  {
   "cell_type": "code",
   "execution_count": 51,
   "id": "bd40571c",
   "metadata": {},
   "outputs": [
    {
     "name": "stdout",
     "output_type": "stream",
     "text": [
      "Train set\n",
      "Logistic Regression roc-auc: 0.6361388420975468\n",
      "Test set\n",
      "Logistic Regression roc-auc: 0.626484596055814\n"
     ]
    }
   ],
   "source": [
    "# Integer encoding\n",
    "run_logit(X_train_ing, X_test_ing, y_train, y_test)"
   ]
  },
  {
   "cell_type": "code",
   "execution_count": 52,
   "id": "420003a8",
   "metadata": {},
   "outputs": [
    {
     "name": "stdout",
     "output_type": "stream",
     "text": [
      "Train set\n",
      "Logistic Regression roc-auc: 0.6478853919476929\n",
      "Test set\n",
      "Logistic Regression roc-auc: 0.6598620119246278\n"
     ]
    }
   ],
   "source": [
    "# counts\n",
    "run_logit(X_train_cont, X_test_cont, y_train, y_test)"
   ]
  },
  {
   "cell_type": "markdown",
   "id": "0dbcd840",
   "metadata": {},
   "source": [
    "For categories which have more than 5 labels, count encoding is better than integer encoding. "
   ]
  },
  {
   "cell_type": "markdown",
   "id": "25e2bab7",
   "metadata": {},
   "source": [
    "### Conclusion"
   ]
  },
  {
   "cell_type": "markdown",
   "id": "81001736",
   "metadata": {},
   "source": [
    "I performed one-hot-encoding, label encoding and count encoding for cateogrical variables to explore which technique is good for this dataset. \n",
    "\n",
    "Given the results above, label encoding or count encoding is the best for this. \n",
    "Overall count encoding showed improved scores in test set. "
   ]
  },
  {
   "cell_type": "markdown",
   "id": "51a0edda",
   "metadata": {},
   "source": [
    "## Feature scaling technique for numerical variables"
   ]
  },
  {
   "cell_type": "markdown",
   "id": "4e410cdc",
   "metadata": {},
   "source": [
    "Feature scaling is important because similar scales help machine learning models decrease the time to learn data. Also, some machine learning models (e.g. linear models, SVM) are sensitive to the scale of the variable. \n",
    "\n",
    "I will perform several feature scaling techniques, and explore which feature scaling method is the best for this dataset. "
   ]
  },
  {
   "cell_type": "code",
   "execution_count": 53,
   "id": "ce861b0a",
   "metadata": {},
   "outputs": [
    {
     "data": {
      "text/plain": [
       "['duration',\n",
       " 'campaign',\n",
       " 'previous',\n",
       " 'emp.var.rate',\n",
       " 'cons.price.idx',\n",
       " 'cons.conf.idx',\n",
       " 'euribor3m',\n",
       " 'nr.employed']"
      ]
     },
     "execution_count": 53,
     "metadata": {},
     "output_type": "execute_result"
    }
   ],
   "source": [
    "num_vars"
   ]
  },
  {
   "cell_type": "code",
   "execution_count": 58,
   "id": "2ad4efe3",
   "metadata": {},
   "outputs": [],
   "source": [
    "variables = ['duration','campaign', 'previous', 'emp.var.rate',\n",
    "             'cons.price.idx', 'cons.conf.idx', 'euribor3m', 'nr.employed', 'y']"
   ]
  },
  {
   "cell_type": "code",
   "execution_count": 64,
   "id": "a86eb904",
   "metadata": {},
   "outputs": [
    {
     "data": {
      "text/html": [
       "<div>\n",
       "<style scoped>\n",
       "    .dataframe tbody tr th:only-of-type {\n",
       "        vertical-align: middle;\n",
       "    }\n",
       "\n",
       "    .dataframe tbody tr th {\n",
       "        vertical-align: top;\n",
       "    }\n",
       "\n",
       "    .dataframe thead th {\n",
       "        text-align: right;\n",
       "    }\n",
       "</style>\n",
       "<table border=\"1\" class=\"dataframe\">\n",
       "  <thead>\n",
       "    <tr style=\"text-align: right;\">\n",
       "      <th></th>\n",
       "      <th>duration</th>\n",
       "      <th>campaign</th>\n",
       "      <th>previous</th>\n",
       "      <th>emp.var.rate</th>\n",
       "      <th>cons.price.idx</th>\n",
       "      <th>cons.conf.idx</th>\n",
       "      <th>euribor3m</th>\n",
       "      <th>nr.employed</th>\n",
       "      <th>y</th>\n",
       "    </tr>\n",
       "  </thead>\n",
       "  <tbody>\n",
       "    <tr>\n",
       "      <th>0</th>\n",
       "      <td>261</td>\n",
       "      <td>1</td>\n",
       "      <td>0</td>\n",
       "      <td>1.1</td>\n",
       "      <td>93.994</td>\n",
       "      <td>-36.4</td>\n",
       "      <td>4.857</td>\n",
       "      <td>5191.0</td>\n",
       "      <td>no</td>\n",
       "    </tr>\n",
       "    <tr>\n",
       "      <th>1</th>\n",
       "      <td>149</td>\n",
       "      <td>1</td>\n",
       "      <td>0</td>\n",
       "      <td>1.1</td>\n",
       "      <td>93.994</td>\n",
       "      <td>-36.4</td>\n",
       "      <td>4.857</td>\n",
       "      <td>5191.0</td>\n",
       "      <td>no</td>\n",
       "    </tr>\n",
       "    <tr>\n",
       "      <th>2</th>\n",
       "      <td>226</td>\n",
       "      <td>1</td>\n",
       "      <td>0</td>\n",
       "      <td>1.1</td>\n",
       "      <td>93.994</td>\n",
       "      <td>-36.4</td>\n",
       "      <td>4.857</td>\n",
       "      <td>5191.0</td>\n",
       "      <td>no</td>\n",
       "    </tr>\n",
       "    <tr>\n",
       "      <th>3</th>\n",
       "      <td>151</td>\n",
       "      <td>1</td>\n",
       "      <td>0</td>\n",
       "      <td>1.1</td>\n",
       "      <td>93.994</td>\n",
       "      <td>-36.4</td>\n",
       "      <td>4.857</td>\n",
       "      <td>5191.0</td>\n",
       "      <td>no</td>\n",
       "    </tr>\n",
       "    <tr>\n",
       "      <th>4</th>\n",
       "      <td>307</td>\n",
       "      <td>1</td>\n",
       "      <td>0</td>\n",
       "      <td>1.1</td>\n",
       "      <td>93.994</td>\n",
       "      <td>-36.4</td>\n",
       "      <td>4.857</td>\n",
       "      <td>5191.0</td>\n",
       "      <td>no</td>\n",
       "    </tr>\n",
       "  </tbody>\n",
       "</table>\n",
       "</div>"
      ],
      "text/plain": [
       "   duration  campaign  previous  emp.var.rate  cons.price.idx  cons.conf.idx  \\\n",
       "0       261         1         0           1.1          93.994          -36.4   \n",
       "1       149         1         0           1.1          93.994          -36.4   \n",
       "2       226         1         0           1.1          93.994          -36.4   \n",
       "3       151         1         0           1.1          93.994          -36.4   \n",
       "4       307         1         0           1.1          93.994          -36.4   \n",
       "\n",
       "   euribor3m  nr.employed   y  \n",
       "0      4.857       5191.0  no  \n",
       "1      4.857       5191.0  no  \n",
       "2      4.857       5191.0  no  \n",
       "3      4.857       5191.0  no  \n",
       "4      4.857       5191.0  no  "
      ]
     },
     "execution_count": 64,
     "metadata": {},
     "output_type": "execute_result"
    }
   ],
   "source": [
    "tmp = data[variables]\n",
    "tmp.head()"
   ]
  },
  {
   "cell_type": "code",
   "execution_count": 65,
   "id": "17da85c3",
   "metadata": {},
   "outputs": [],
   "source": [
    "# change target variable (no, yes) to numerical values (0, 1)\n",
    "tmp[target] = tmp[target].map({'no': 0,\n",
    "                              'yes': 1})"
   ]
  },
  {
   "cell_type": "code",
   "execution_count": 66,
   "id": "f3d3785b",
   "metadata": {},
   "outputs": [
    {
     "data": {
      "text/html": [
       "<div>\n",
       "<style scoped>\n",
       "    .dataframe tbody tr th:only-of-type {\n",
       "        vertical-align: middle;\n",
       "    }\n",
       "\n",
       "    .dataframe tbody tr th {\n",
       "        vertical-align: top;\n",
       "    }\n",
       "\n",
       "    .dataframe thead th {\n",
       "        text-align: right;\n",
       "    }\n",
       "</style>\n",
       "<table border=\"1\" class=\"dataframe\">\n",
       "  <thead>\n",
       "    <tr style=\"text-align: right;\">\n",
       "      <th></th>\n",
       "      <th>duration</th>\n",
       "      <th>campaign</th>\n",
       "      <th>previous</th>\n",
       "      <th>emp.var.rate</th>\n",
       "      <th>cons.price.idx</th>\n",
       "      <th>cons.conf.idx</th>\n",
       "      <th>euribor3m</th>\n",
       "      <th>nr.employed</th>\n",
       "      <th>y</th>\n",
       "    </tr>\n",
       "  </thead>\n",
       "  <tbody>\n",
       "    <tr>\n",
       "      <th>0</th>\n",
       "      <td>261</td>\n",
       "      <td>1</td>\n",
       "      <td>0</td>\n",
       "      <td>1.1</td>\n",
       "      <td>93.994</td>\n",
       "      <td>-36.4</td>\n",
       "      <td>4.857</td>\n",
       "      <td>5191.0</td>\n",
       "      <td>0</td>\n",
       "    </tr>\n",
       "    <tr>\n",
       "      <th>1</th>\n",
       "      <td>149</td>\n",
       "      <td>1</td>\n",
       "      <td>0</td>\n",
       "      <td>1.1</td>\n",
       "      <td>93.994</td>\n",
       "      <td>-36.4</td>\n",
       "      <td>4.857</td>\n",
       "      <td>5191.0</td>\n",
       "      <td>0</td>\n",
       "    </tr>\n",
       "    <tr>\n",
       "      <th>2</th>\n",
       "      <td>226</td>\n",
       "      <td>1</td>\n",
       "      <td>0</td>\n",
       "      <td>1.1</td>\n",
       "      <td>93.994</td>\n",
       "      <td>-36.4</td>\n",
       "      <td>4.857</td>\n",
       "      <td>5191.0</td>\n",
       "      <td>0</td>\n",
       "    </tr>\n",
       "    <tr>\n",
       "      <th>3</th>\n",
       "      <td>151</td>\n",
       "      <td>1</td>\n",
       "      <td>0</td>\n",
       "      <td>1.1</td>\n",
       "      <td>93.994</td>\n",
       "      <td>-36.4</td>\n",
       "      <td>4.857</td>\n",
       "      <td>5191.0</td>\n",
       "      <td>0</td>\n",
       "    </tr>\n",
       "    <tr>\n",
       "      <th>4</th>\n",
       "      <td>307</td>\n",
       "      <td>1</td>\n",
       "      <td>0</td>\n",
       "      <td>1.1</td>\n",
       "      <td>93.994</td>\n",
       "      <td>-36.4</td>\n",
       "      <td>4.857</td>\n",
       "      <td>5191.0</td>\n",
       "      <td>0</td>\n",
       "    </tr>\n",
       "  </tbody>\n",
       "</table>\n",
       "</div>"
      ],
      "text/plain": [
       "   duration  campaign  previous  emp.var.rate  cons.price.idx  cons.conf.idx  \\\n",
       "0       261         1         0           1.1          93.994          -36.4   \n",
       "1       149         1         0           1.1          93.994          -36.4   \n",
       "2       226         1         0           1.1          93.994          -36.4   \n",
       "3       151         1         0           1.1          93.994          -36.4   \n",
       "4       307         1         0           1.1          93.994          -36.4   \n",
       "\n",
       "   euribor3m  nr.employed  y  \n",
       "0      4.857       5191.0  0  \n",
       "1      4.857       5191.0  0  \n",
       "2      4.857       5191.0  0  \n",
       "3      4.857       5191.0  0  \n",
       "4      4.857       5191.0  0  "
      ]
     },
     "execution_count": 66,
     "metadata": {},
     "output_type": "execute_result"
    }
   ],
   "source": [
    "tmp.head()"
   ]
  },
  {
   "cell_type": "code",
   "execution_count": 67,
   "id": "dc999293",
   "metadata": {},
   "outputs": [
    {
     "data": {
      "text/plain": [
       "((28829, 8), (12356, 8))"
      ]
     },
     "execution_count": 67,
     "metadata": {},
     "output_type": "execute_result"
    }
   ],
   "source": [
    "# separate train and test data\n",
    "X_train, X_test, y_train, y_test = train_test_split(\n",
    "    tmp.drop(target, axis=1),\n",
    "    tmp[target],\n",
    "    test_size=0.3,\n",
    "    random_state=0\n",
    ")\n",
    "\n",
    "X_train.shape, X_test.shape"
   ]
  },
  {
   "cell_type": "markdown",
   "id": "2eb77e29",
   "metadata": {},
   "source": [
    "### Standardization"
   ]
  },
  {
   "cell_type": "markdown",
   "id": "061c5263",
   "metadata": {},
   "source": [
    "Standardization involves centering the variable at zero, and standardizing the variance to 1. The procedure involves subtracting the mean of each observation and then dividing by the standard deviation.\n",
    "\n",
    "The shape of a standardized distribution will be identical to the original distribution of the variable. If the original distribution is normal, then the standardized distribution will be normal. But, if the original distribution is skewed, then the standarized distribution of the varialbe will also be skewed. Thus, standardizing a variable does not normalize the distribution of the data. "
   ]
  },
  {
   "cell_type": "code",
   "execution_count": 85,
   "id": "da5e29dd",
   "metadata": {},
   "outputs": [],
   "source": [
    "# the scaler \n",
    "from sklearn.preprocessing import (\n",
    "    StandardScaler, \n",
    "    RobustScaler,\n",
    "    MinMaxScaler,\n",
    "    MaxAbsScaler,\n",
    "    RobustScaler,\n",
    ")"
   ]
  },
  {
   "cell_type": "code",
   "execution_count": 68,
   "id": "5b218979",
   "metadata": {},
   "outputs": [],
   "source": [
    "# copy dataset\n",
    "X_train_stand = X_train.copy()\n",
    "X_test_stand = X_test.copy()\n",
    "\n",
    "# set up the scaler\n",
    "standard_scaler = StandardScaler()\n",
    "\n",
    "# fit the scaler to the train set, it will learn the parameters\n",
    "standard_scaler.fit(X_train_stand)\n",
    "\n",
    "# transform train and test set\n",
    "X_train_stand = standard_scaler.transform(X_train_stand)\n",
    "X_test_stand = standard_scaler.transform(X_test_stand)"
   ]
  },
  {
   "cell_type": "code",
   "execution_count": 70,
   "id": "464e561b",
   "metadata": {},
   "outputs": [],
   "source": [
    "# transform the returned Numpy arrays to dataframes \n",
    "X_train_stand = pd.DataFrame(X_train_stand, columns=X_train.columns)\n",
    "X_test_stand = pd.DataFrame(X_test_stand, columns=X_test.columns)"
   ]
  },
  {
   "cell_type": "code",
   "execution_count": 71,
   "id": "ef9648a3",
   "metadata": {},
   "outputs": [
    {
     "data": {
      "text/html": [
       "<div>\n",
       "<style scoped>\n",
       "    .dataframe tbody tr th:only-of-type {\n",
       "        vertical-align: middle;\n",
       "    }\n",
       "\n",
       "    .dataframe tbody tr th {\n",
       "        vertical-align: top;\n",
       "    }\n",
       "\n",
       "    .dataframe thead th {\n",
       "        text-align: right;\n",
       "    }\n",
       "</style>\n",
       "<table border=\"1\" class=\"dataframe\">\n",
       "  <thead>\n",
       "    <tr style=\"text-align: right;\">\n",
       "      <th></th>\n",
       "      <th>duration</th>\n",
       "      <th>campaign</th>\n",
       "      <th>previous</th>\n",
       "      <th>emp.var.rate</th>\n",
       "      <th>cons.price.idx</th>\n",
       "      <th>cons.conf.idx</th>\n",
       "      <th>euribor3m</th>\n",
       "      <th>nr.employed</th>\n",
       "    </tr>\n",
       "  </thead>\n",
       "  <tbody>\n",
       "    <tr>\n",
       "      <th>count</th>\n",
       "      <td>28829.0</td>\n",
       "      <td>28829.0</td>\n",
       "      <td>28829.0</td>\n",
       "      <td>28829.0</td>\n",
       "      <td>28829.0</td>\n",
       "      <td>28829.0</td>\n",
       "      <td>28829.0</td>\n",
       "      <td>28829.0</td>\n",
       "    </tr>\n",
       "    <tr>\n",
       "      <th>mean</th>\n",
       "      <td>-0.0</td>\n",
       "      <td>0.0</td>\n",
       "      <td>-0.0</td>\n",
       "      <td>-0.0</td>\n",
       "      <td>-0.0</td>\n",
       "      <td>-0.0</td>\n",
       "      <td>-0.0</td>\n",
       "      <td>-0.0</td>\n",
       "    </tr>\n",
       "    <tr>\n",
       "      <th>std</th>\n",
       "      <td>1.0</td>\n",
       "      <td>1.0</td>\n",
       "      <td>1.0</td>\n",
       "      <td>1.0</td>\n",
       "      <td>1.0</td>\n",
       "      <td>1.0</td>\n",
       "      <td>1.0</td>\n",
       "      <td>1.0</td>\n",
       "    </tr>\n",
       "    <tr>\n",
       "      <th>min</th>\n",
       "      <td>-1.0</td>\n",
       "      <td>-0.6</td>\n",
       "      <td>-0.3</td>\n",
       "      <td>-2.2</td>\n",
       "      <td>-2.4</td>\n",
       "      <td>-2.2</td>\n",
       "      <td>-1.7</td>\n",
       "      <td>-2.8</td>\n",
       "    </tr>\n",
       "    <tr>\n",
       "      <th>25%</th>\n",
       "      <td>-0.6</td>\n",
       "      <td>-0.6</td>\n",
       "      <td>-0.3</td>\n",
       "      <td>-1.2</td>\n",
       "      <td>-0.9</td>\n",
       "      <td>-0.5</td>\n",
       "      <td>-1.3</td>\n",
       "      <td>-0.9</td>\n",
       "    </tr>\n",
       "    <tr>\n",
       "      <th>50%</th>\n",
       "      <td>-0.3</td>\n",
       "      <td>-0.2</td>\n",
       "      <td>-0.3</td>\n",
       "      <td>0.6</td>\n",
       "      <td>0.4</td>\n",
       "      <td>-0.3</td>\n",
       "      <td>0.7</td>\n",
       "      <td>0.3</td>\n",
       "    </tr>\n",
       "    <tr>\n",
       "      <th>75%</th>\n",
       "      <td>0.2</td>\n",
       "      <td>0.2</td>\n",
       "      <td>-0.3</td>\n",
       "      <td>0.8</td>\n",
       "      <td>0.7</td>\n",
       "      <td>0.9</td>\n",
       "      <td>0.8</td>\n",
       "      <td>0.8</td>\n",
       "    </tr>\n",
       "    <tr>\n",
       "      <th>max</th>\n",
       "      <td>13.6</td>\n",
       "      <td>14.5</td>\n",
       "      <td>14.1</td>\n",
       "      <td>0.8</td>\n",
       "      <td>2.1</td>\n",
       "      <td>2.9</td>\n",
       "      <td>0.8</td>\n",
       "      <td>0.8</td>\n",
       "    </tr>\n",
       "  </tbody>\n",
       "</table>\n",
       "</div>"
      ],
      "text/plain": [
       "       duration  campaign  previous  emp.var.rate  cons.price.idx  \\\n",
       "count   28829.0   28829.0   28829.0       28829.0         28829.0   \n",
       "mean       -0.0       0.0      -0.0          -0.0            -0.0   \n",
       "std         1.0       1.0       1.0           1.0             1.0   \n",
       "min        -1.0      -0.6      -0.3          -2.2            -2.4   \n",
       "25%        -0.6      -0.6      -0.3          -1.2            -0.9   \n",
       "50%        -0.3      -0.2      -0.3           0.6             0.4   \n",
       "75%         0.2       0.2      -0.3           0.8             0.7   \n",
       "max        13.6      14.5      14.1           0.8             2.1   \n",
       "\n",
       "       cons.conf.idx  euribor3m  nr.employed  \n",
       "count        28829.0    28829.0      28829.0  \n",
       "mean            -0.0       -0.0         -0.0  \n",
       "std              1.0        1.0          1.0  \n",
       "min             -2.2       -1.7         -2.8  \n",
       "25%             -0.5       -1.3         -0.9  \n",
       "50%             -0.3        0.7          0.3  \n",
       "75%              0.9        0.8          0.8  \n",
       "max              2.9        0.8          0.8  "
      ]
     },
     "execution_count": 71,
     "metadata": {},
     "output_type": "execute_result"
    }
   ],
   "source": [
    "np.round(X_train_stand.describe(), 1)"
   ]
  },
  {
   "cell_type": "markdown",
   "id": "dc015e23",
   "metadata": {},
   "source": [
    "### Mean normalization\n",
    "\n",
    "Mean normalization involves centering the variable at zero, and re-scaling to the value range. The procedure involves subtracting the mean of each observation and then dividing by difference between the minimum and maximum value.\n",
    "\n",
    "Like standardization, this technique will not normalize the distribution of the data. "
   ]
  },
  {
   "cell_type": "code",
   "execution_count": 74,
   "id": "f2df5498",
   "metadata": {},
   "outputs": [],
   "source": [
    "# copy dataset\n",
    "X_train_mean = X_train.copy()\n",
    "X_test_mean = X_test.copy()\n",
    "\n",
    "# set up the StandardScaler so that it removes the mean\n",
    "# but does not divide by the standard deviation\n",
    "scaler_mean = StandardScaler(with_mean=True, with_std=False)\n",
    "\n",
    "# set up the robustscaler so that it does NOT remove the median\n",
    "# but normalizes by max()-min(), importnat for this to set up\n",
    "# the quantile range to 0 and 100, which represent the min and max values\n",
    "scaler_minmax = RobustScaler(with_centering=False,\n",
    "                            with_scaling=True,\n",
    "                            quantile_range=(0,100))\n",
    "\n",
    "# fit the scalers to the train set, it will learn the parameters\n",
    "scaler_mean.fit(X_train_mean)\n",
    "scaler_minmax.fit(X_train_mean)\n",
    "\n",
    "# transform train and test sets\n",
    "X_train_mean = scaler_minmax.transform(scaler_mean.transform(X_train_mean))\n",
    "X_test_mean = scaler_minmax.transform(scaler_mean.transform(X_test_mean))"
   ]
  },
  {
   "cell_type": "code",
   "execution_count": 75,
   "id": "8e7f889d",
   "metadata": {},
   "outputs": [],
   "source": [
    "# create dataframe\n",
    "X_train_mean = pd.DataFrame(X_train_mean, columns=X_train.columns)\n",
    "X_test_mean = pd.DataFrame(X_test_mean, columns=X_test.columns)"
   ]
  },
  {
   "cell_type": "code",
   "execution_count": 76,
   "id": "6defdc48",
   "metadata": {},
   "outputs": [
    {
     "data": {
      "text/html": [
       "<div>\n",
       "<style scoped>\n",
       "    .dataframe tbody tr th:only-of-type {\n",
       "        vertical-align: middle;\n",
       "    }\n",
       "\n",
       "    .dataframe tbody tr th {\n",
       "        vertical-align: top;\n",
       "    }\n",
       "\n",
       "    .dataframe thead th {\n",
       "        text-align: right;\n",
       "    }\n",
       "</style>\n",
       "<table border=\"1\" class=\"dataframe\">\n",
       "  <thead>\n",
       "    <tr style=\"text-align: right;\">\n",
       "      <th></th>\n",
       "      <th>duration</th>\n",
       "      <th>campaign</th>\n",
       "      <th>previous</th>\n",
       "      <th>emp.var.rate</th>\n",
       "      <th>cons.price.idx</th>\n",
       "      <th>cons.conf.idx</th>\n",
       "      <th>euribor3m</th>\n",
       "      <th>nr.employed</th>\n",
       "    </tr>\n",
       "  </thead>\n",
       "  <tbody>\n",
       "    <tr>\n",
       "      <th>count</th>\n",
       "      <td>28829.0</td>\n",
       "      <td>28829.0</td>\n",
       "      <td>28829.0</td>\n",
       "      <td>28829.0</td>\n",
       "      <td>28829.0</td>\n",
       "      <td>28829.0</td>\n",
       "      <td>28829.0</td>\n",
       "      <td>28829.0</td>\n",
       "    </tr>\n",
       "    <tr>\n",
       "      <th>mean</th>\n",
       "      <td>-0.0</td>\n",
       "      <td>-0.0</td>\n",
       "      <td>0.0</td>\n",
       "      <td>-0.0</td>\n",
       "      <td>-0.0</td>\n",
       "      <td>-0.0</td>\n",
       "      <td>-0.0</td>\n",
       "      <td>-0.0</td>\n",
       "    </tr>\n",
       "    <tr>\n",
       "      <th>std</th>\n",
       "      <td>0.1</td>\n",
       "      <td>0.1</td>\n",
       "      <td>0.1</td>\n",
       "      <td>0.3</td>\n",
       "      <td>0.2</td>\n",
       "      <td>0.2</td>\n",
       "      <td>0.4</td>\n",
       "      <td>0.3</td>\n",
       "    </tr>\n",
       "    <tr>\n",
       "      <th>min</th>\n",
       "      <td>-0.1</td>\n",
       "      <td>-0.0</td>\n",
       "      <td>-0.0</td>\n",
       "      <td>-0.7</td>\n",
       "      <td>-0.5</td>\n",
       "      <td>-0.4</td>\n",
       "      <td>-0.7</td>\n",
       "      <td>-0.8</td>\n",
       "    </tr>\n",
       "    <tr>\n",
       "      <th>25%</th>\n",
       "      <td>-0.0</td>\n",
       "      <td>-0.0</td>\n",
       "      <td>-0.0</td>\n",
       "      <td>-0.4</td>\n",
       "      <td>-0.2</td>\n",
       "      <td>-0.1</td>\n",
       "      <td>-0.5</td>\n",
       "      <td>-0.3</td>\n",
       "    </tr>\n",
       "    <tr>\n",
       "      <th>50%</th>\n",
       "      <td>-0.0</td>\n",
       "      <td>-0.0</td>\n",
       "      <td>-0.0</td>\n",
       "      <td>0.2</td>\n",
       "      <td>0.1</td>\n",
       "      <td>-0.1</td>\n",
       "      <td>0.3</td>\n",
       "      <td>0.1</td>\n",
       "    </tr>\n",
       "    <tr>\n",
       "      <th>75%</th>\n",
       "      <td>0.0</td>\n",
       "      <td>0.0</td>\n",
       "      <td>-0.0</td>\n",
       "      <td>0.3</td>\n",
       "      <td>0.2</td>\n",
       "      <td>0.2</td>\n",
       "      <td>0.3</td>\n",
       "      <td>0.2</td>\n",
       "    </tr>\n",
       "    <tr>\n",
       "      <th>max</th>\n",
       "      <td>0.9</td>\n",
       "      <td>1.0</td>\n",
       "      <td>1.0</td>\n",
       "      <td>0.3</td>\n",
       "      <td>0.5</td>\n",
       "      <td>0.6</td>\n",
       "      <td>0.3</td>\n",
       "      <td>0.2</td>\n",
       "    </tr>\n",
       "  </tbody>\n",
       "</table>\n",
       "</div>"
      ],
      "text/plain": [
       "       duration  campaign  previous  emp.var.rate  cons.price.idx  \\\n",
       "count   28829.0   28829.0   28829.0       28829.0         28829.0   \n",
       "mean       -0.0      -0.0       0.0          -0.0            -0.0   \n",
       "std         0.1       0.1       0.1           0.3             0.2   \n",
       "min        -0.1      -0.0      -0.0          -0.7            -0.5   \n",
       "25%        -0.0      -0.0      -0.0          -0.4            -0.2   \n",
       "50%        -0.0      -0.0      -0.0           0.2             0.1   \n",
       "75%         0.0       0.0      -0.0           0.3             0.2   \n",
       "max         0.9       1.0       1.0           0.3             0.5   \n",
       "\n",
       "       cons.conf.idx  euribor3m  nr.employed  \n",
       "count        28829.0    28829.0      28829.0  \n",
       "mean            -0.0       -0.0         -0.0  \n",
       "std              0.2        0.4          0.3  \n",
       "min             -0.4       -0.7         -0.8  \n",
       "25%             -0.1       -0.5         -0.3  \n",
       "50%             -0.1        0.3          0.1  \n",
       "75%              0.2        0.3          0.2  \n",
       "max              0.6        0.3          0.2  "
      ]
     },
     "execution_count": 76,
     "metadata": {},
     "output_type": "execute_result"
    }
   ],
   "source": [
    "np.round(X_train_mean.describe(), 1)"
   ]
  },
  {
   "cell_type": "markdown",
   "id": "3e3bfe36",
   "metadata": {},
   "source": [
    "### MinMaxScaling\n",
    "\n",
    "Minimum and maximum scaling squeezes the vales between 0 and 1. The result of the transformation is a distribution which values vary within the range of 0 to 1. But the mean is not centered at zero and the standard deviation varies across variables. The shpae of a min-max scaled distribution will be similar to the original variable. This scaling technique is also sensitive to outliers. "
   ]
  },
  {
   "cell_type": "code",
   "execution_count": 78,
   "id": "20810d1e",
   "metadata": {},
   "outputs": [],
   "source": [
    "# copy dataset\n",
    "X_train_minmax = X_train.copy()\n",
    "X_test_minmax = X_test.copy()\n",
    "\n",
    "# set up scaler\n",
    "scaler_minmax = MinMaxScaler()\n",
    "\n",
    "\n",
    "# fit the scalers to the train set, it will learn the parameters\n",
    "scaler_minmax.fit(X_train_minmax)\n",
    "\n",
    "\n",
    "# transform train and test sets\n",
    "X_train_minmax = scaler_minmax.transform(scaler_minmax.transform(X_train_minmax))\n",
    "X_test_minmax = scaler_minmax.transform(scaler_minmax.transform(X_test_minmax))"
   ]
  },
  {
   "cell_type": "code",
   "execution_count": 79,
   "id": "db97f2bb",
   "metadata": {},
   "outputs": [],
   "source": [
    "# create dataframe\n",
    "\n",
    "X_train_minmax = pd.DataFrame(X_train_minmax, columns=X_train.columns)\n",
    "X_test_minmax = pd.DataFrame(X_test_minmax, columns=X_test.columns)"
   ]
  },
  {
   "cell_type": "code",
   "execution_count": 80,
   "id": "450ada9a",
   "metadata": {},
   "outputs": [
    {
     "data": {
      "text/html": [
       "<div>\n",
       "<style scoped>\n",
       "    .dataframe tbody tr th:only-of-type {\n",
       "        vertical-align: middle;\n",
       "    }\n",
       "\n",
       "    .dataframe tbody tr th {\n",
       "        vertical-align: top;\n",
       "    }\n",
       "\n",
       "    .dataframe thead th {\n",
       "        text-align: right;\n",
       "    }\n",
       "</style>\n",
       "<table border=\"1\" class=\"dataframe\">\n",
       "  <thead>\n",
       "    <tr style=\"text-align: right;\">\n",
       "      <th></th>\n",
       "      <th>duration</th>\n",
       "      <th>campaign</th>\n",
       "      <th>previous</th>\n",
       "      <th>emp.var.rate</th>\n",
       "      <th>cons.price.idx</th>\n",
       "      <th>cons.conf.idx</th>\n",
       "      <th>euribor3m</th>\n",
       "      <th>nr.employed</th>\n",
       "    </tr>\n",
       "  </thead>\n",
       "  <tbody>\n",
       "    <tr>\n",
       "      <th>count</th>\n",
       "      <td>28829.0</td>\n",
       "      <td>28829.0</td>\n",
       "      <td>28829.0</td>\n",
       "      <td>28829.0</td>\n",
       "      <td>28829.0</td>\n",
       "      <td>28829.0</td>\n",
       "      <td>28829.0</td>\n",
       "      <td>28829.0</td>\n",
       "    </tr>\n",
       "    <tr>\n",
       "      <th>mean</th>\n",
       "      <td>0.0</td>\n",
       "      <td>-0.0</td>\n",
       "      <td>0.0</td>\n",
       "      <td>0.9</td>\n",
       "      <td>-35.7</td>\n",
       "      <td>2.1</td>\n",
       "      <td>0.0</td>\n",
       "      <td>-18.8</td>\n",
       "    </tr>\n",
       "    <tr>\n",
       "      <th>std</th>\n",
       "      <td>0.0</td>\n",
       "      <td>0.0</td>\n",
       "      <td>0.0</td>\n",
       "      <td>0.1</td>\n",
       "      <td>0.1</td>\n",
       "      <td>0.0</td>\n",
       "      <td>0.1</td>\n",
       "      <td>0.0</td>\n",
       "    </tr>\n",
       "    <tr>\n",
       "      <th>min</th>\n",
       "      <td>0.0</td>\n",
       "      <td>-0.0</td>\n",
       "      <td>0.0</td>\n",
       "      <td>0.7</td>\n",
       "      <td>-35.9</td>\n",
       "      <td>2.1</td>\n",
       "      <td>-0.1</td>\n",
       "      <td>-18.8</td>\n",
       "    </tr>\n",
       "    <tr>\n",
       "      <th>25%</th>\n",
       "      <td>0.0</td>\n",
       "      <td>-0.0</td>\n",
       "      <td>0.0</td>\n",
       "      <td>0.8</td>\n",
       "      <td>-35.8</td>\n",
       "      <td>2.1</td>\n",
       "      <td>-0.1</td>\n",
       "      <td>-18.8</td>\n",
       "    </tr>\n",
       "    <tr>\n",
       "      <th>50%</th>\n",
       "      <td>0.0</td>\n",
       "      <td>-0.0</td>\n",
       "      <td>0.0</td>\n",
       "      <td>0.9</td>\n",
       "      <td>-35.7</td>\n",
       "      <td>2.1</td>\n",
       "      <td>0.1</td>\n",
       "      <td>-18.8</td>\n",
       "    </tr>\n",
       "    <tr>\n",
       "      <th>75%</th>\n",
       "      <td>0.0</td>\n",
       "      <td>-0.0</td>\n",
       "      <td>0.0</td>\n",
       "      <td>0.9</td>\n",
       "      <td>-35.7</td>\n",
       "      <td>2.2</td>\n",
       "      <td>0.1</td>\n",
       "      <td>-18.8</td>\n",
       "    </tr>\n",
       "    <tr>\n",
       "      <th>max</th>\n",
       "      <td>0.0</td>\n",
       "      <td>-0.0</td>\n",
       "      <td>0.1</td>\n",
       "      <td>0.9</td>\n",
       "      <td>-35.5</td>\n",
       "      <td>2.2</td>\n",
       "      <td>0.1</td>\n",
       "      <td>-18.8</td>\n",
       "    </tr>\n",
       "  </tbody>\n",
       "</table>\n",
       "</div>"
      ],
      "text/plain": [
       "       duration  campaign  previous  emp.var.rate  cons.price.idx  \\\n",
       "count   28829.0   28829.0   28829.0       28829.0         28829.0   \n",
       "mean        0.0      -0.0       0.0           0.9           -35.7   \n",
       "std         0.0       0.0       0.0           0.1             0.1   \n",
       "min         0.0      -0.0       0.0           0.7           -35.9   \n",
       "25%         0.0      -0.0       0.0           0.8           -35.8   \n",
       "50%         0.0      -0.0       0.0           0.9           -35.7   \n",
       "75%         0.0      -0.0       0.0           0.9           -35.7   \n",
       "max         0.0      -0.0       0.1           0.9           -35.5   \n",
       "\n",
       "       cons.conf.idx  euribor3m  nr.employed  \n",
       "count        28829.0    28829.0      28829.0  \n",
       "mean             2.1        0.0        -18.8  \n",
       "std              0.0        0.1          0.0  \n",
       "min              2.1       -0.1        -18.8  \n",
       "25%              2.1       -0.1        -18.8  \n",
       "50%              2.1        0.1        -18.8  \n",
       "75%              2.2        0.1        -18.8  \n",
       "max              2.2        0.1        -18.8  "
      ]
     },
     "execution_count": 80,
     "metadata": {},
     "output_type": "execute_result"
    }
   ],
   "source": [
    "np.round(X_train_minmax.describe(), 1)"
   ]
  },
  {
   "cell_type": "markdown",
   "id": "5a5c79c5",
   "metadata": {},
   "source": [
    "### MaxAbsScaling\n",
    "\n",
    "Maximum Absolute Scaling transforms the data to its absolute maximum value. The result is distributed which values vary within the range of -1 to 1. But the mean is not centered as zero and the standard deviation varies across variables. \n",
    "\n",
    "This may not preserve the shape of the original distribution and it is sensitive outliers. "
   ]
  },
  {
   "cell_type": "code",
   "execution_count": 82,
   "id": "a04124f6",
   "metadata": {},
   "outputs": [],
   "source": [
    "# copy dataset\n",
    "X_train_maxabs = X_train.copy()\n",
    "X_test_maxabs = X_test.copy()\n",
    "\n",
    "# set up the scale\n",
    "scaler_maxabs = MaxAbsScaler()\n",
    "\n",
    "# fit the train set\n",
    "scaler_maxabs.fit(X_train_maxabs)\n",
    "\n",
    "# transform\n",
    "X_train_maxabs = scaler_maxabs.transform(X_train)\n",
    "X_test_maxabs = scaler_maxabs.transform(X_test)"
   ]
  },
  {
   "cell_type": "code",
   "execution_count": 83,
   "id": "d708d3d9",
   "metadata": {},
   "outputs": [],
   "source": [
    "# create dataframe\n",
    "X_train_maxabs = pd.DataFrame(X_train_maxabs, columns=X_train.columns)\n",
    "X_test_maxabs = pd.DataFrame(X_test_maxabs, columns=X_test.columns)"
   ]
  },
  {
   "cell_type": "code",
   "execution_count": 84,
   "id": "75c59fa9",
   "metadata": {},
   "outputs": [
    {
     "data": {
      "text/html": [
       "<div>\n",
       "<style scoped>\n",
       "    .dataframe tbody tr th:only-of-type {\n",
       "        vertical-align: middle;\n",
       "    }\n",
       "\n",
       "    .dataframe tbody tr th {\n",
       "        vertical-align: top;\n",
       "    }\n",
       "\n",
       "    .dataframe thead th {\n",
       "        text-align: right;\n",
       "    }\n",
       "</style>\n",
       "<table border=\"1\" class=\"dataframe\">\n",
       "  <thead>\n",
       "    <tr style=\"text-align: right;\">\n",
       "      <th></th>\n",
       "      <th>duration</th>\n",
       "      <th>campaign</th>\n",
       "      <th>previous</th>\n",
       "      <th>emp.var.rate</th>\n",
       "      <th>cons.price.idx</th>\n",
       "      <th>cons.conf.idx</th>\n",
       "      <th>euribor3m</th>\n",
       "      <th>nr.employed</th>\n",
       "    </tr>\n",
       "  </thead>\n",
       "  <tbody>\n",
       "    <tr>\n",
       "      <th>count</th>\n",
       "      <td>28829.0</td>\n",
       "      <td>28829.0</td>\n",
       "      <td>28829.0</td>\n",
       "      <td>28829.0</td>\n",
       "      <td>28829.0</td>\n",
       "      <td>28829.0</td>\n",
       "      <td>28829.0</td>\n",
       "      <td>28829.0</td>\n",
       "    </tr>\n",
       "    <tr>\n",
       "      <th>mean</th>\n",
       "      <td>0.1</td>\n",
       "      <td>0.1</td>\n",
       "      <td>0.0</td>\n",
       "      <td>0.0</td>\n",
       "      <td>1.0</td>\n",
       "      <td>-0.8</td>\n",
       "      <td>0.7</td>\n",
       "      <td>1.0</td>\n",
       "    </tr>\n",
       "    <tr>\n",
       "      <th>std</th>\n",
       "      <td>0.1</td>\n",
       "      <td>0.1</td>\n",
       "      <td>0.1</td>\n",
       "      <td>0.5</td>\n",
       "      <td>0.0</td>\n",
       "      <td>0.1</td>\n",
       "      <td>0.3</td>\n",
       "      <td>0.0</td>\n",
       "    </tr>\n",
       "    <tr>\n",
       "      <th>min</th>\n",
       "      <td>0.0</td>\n",
       "      <td>0.0</td>\n",
       "      <td>0.0</td>\n",
       "      <td>-1.0</td>\n",
       "      <td>1.0</td>\n",
       "      <td>-1.0</td>\n",
       "      <td>0.1</td>\n",
       "      <td>0.9</td>\n",
       "    </tr>\n",
       "    <tr>\n",
       "      <th>25%</th>\n",
       "      <td>0.0</td>\n",
       "      <td>0.0</td>\n",
       "      <td>0.0</td>\n",
       "      <td>-0.5</td>\n",
       "      <td>1.0</td>\n",
       "      <td>-0.8</td>\n",
       "      <td>0.3</td>\n",
       "      <td>1.0</td>\n",
       "    </tr>\n",
       "    <tr>\n",
       "      <th>50%</th>\n",
       "      <td>0.0</td>\n",
       "      <td>0.0</td>\n",
       "      <td>0.0</td>\n",
       "      <td>0.3</td>\n",
       "      <td>1.0</td>\n",
       "      <td>-0.8</td>\n",
       "      <td>1.0</td>\n",
       "      <td>1.0</td>\n",
       "    </tr>\n",
       "    <tr>\n",
       "      <th>75%</th>\n",
       "      <td>0.1</td>\n",
       "      <td>0.1</td>\n",
       "      <td>0.0</td>\n",
       "      <td>0.4</td>\n",
       "      <td>1.0</td>\n",
       "      <td>-0.7</td>\n",
       "      <td>1.0</td>\n",
       "      <td>1.0</td>\n",
       "    </tr>\n",
       "    <tr>\n",
       "      <th>max</th>\n",
       "      <td>1.0</td>\n",
       "      <td>1.0</td>\n",
       "      <td>1.0</td>\n",
       "      <td>0.4</td>\n",
       "      <td>1.0</td>\n",
       "      <td>-0.5</td>\n",
       "      <td>1.0</td>\n",
       "      <td>1.0</td>\n",
       "    </tr>\n",
       "  </tbody>\n",
       "</table>\n",
       "</div>"
      ],
      "text/plain": [
       "       duration  campaign  previous  emp.var.rate  cons.price.idx  \\\n",
       "count   28829.0   28829.0   28829.0       28829.0         28829.0   \n",
       "mean        0.1       0.1       0.0           0.0             1.0   \n",
       "std         0.1       0.1       0.1           0.5             0.0   \n",
       "min         0.0       0.0       0.0          -1.0             1.0   \n",
       "25%         0.0       0.0       0.0          -0.5             1.0   \n",
       "50%         0.0       0.0       0.0           0.3             1.0   \n",
       "75%         0.1       0.1       0.0           0.4             1.0   \n",
       "max         1.0       1.0       1.0           0.4             1.0   \n",
       "\n",
       "       cons.conf.idx  euribor3m  nr.employed  \n",
       "count        28829.0    28829.0      28829.0  \n",
       "mean            -0.8        0.7          1.0  \n",
       "std              0.1        0.3          0.0  \n",
       "min             -1.0        0.1          0.9  \n",
       "25%             -0.8        0.3          1.0  \n",
       "50%             -0.8        1.0          1.0  \n",
       "75%             -0.7        1.0          1.0  \n",
       "max             -0.5        1.0          1.0  "
      ]
     },
     "execution_count": 84,
     "metadata": {},
     "output_type": "execute_result"
    }
   ],
   "source": [
    "np.round(X_train_maxabs.describe(), 1)"
   ]
  },
  {
   "cell_type": "markdown",
   "id": "6948ba99",
   "metadata": {},
   "source": [
    "### RobustScaling\n",
    "\n",
    "RobustScaling removes the median from the observations and then scaled to the inter-quantile range (IQR). This produces more robust estimates for the center and range of the variable, and is recommended if the data shows outliers (and our dataset has outliers). \n",
    "\n",
    "It may not preserve the shape of the original distribution, and the minimum and maximum values vary, but is robust outliers. "
   ]
  },
  {
   "cell_type": "code",
   "execution_count": 94,
   "id": "29bb532e",
   "metadata": {},
   "outputs": [],
   "source": [
    "# copy dataset\n",
    "X_train_robust = X_train.copy()\n",
    "X_test_robust = X_test.copy()\n",
    "\n",
    "# set up the scaler\n",
    "scaler_robust = RobustScaler()\n",
    "\n",
    "# fit training set\n",
    "scaler_robust.fit(X_train_robust)\n",
    "\n",
    "# transform\n",
    "X_train_robust = scaler_robust.transform(X_train_robust)\n",
    "X_test_robust = scaler_robust.transform(X_test_robust)\n",
    "\n",
    "# save as dataframe\n",
    "X_train_robust = pd.DataFrame(X_train_robust, columns=X_train.columns)\n",
    "X_test_robust = pd.DataFrame(X_test_robust, columns=X_test.columns)"
   ]
  },
  {
   "cell_type": "code",
   "execution_count": 95,
   "id": "76d9f16e",
   "metadata": {},
   "outputs": [
    {
     "data": {
      "text/html": [
       "<div>\n",
       "<style scoped>\n",
       "    .dataframe tbody tr th:only-of-type {\n",
       "        vertical-align: middle;\n",
       "    }\n",
       "\n",
       "    .dataframe tbody tr th {\n",
       "        vertical-align: top;\n",
       "    }\n",
       "\n",
       "    .dataframe thead th {\n",
       "        text-align: right;\n",
       "    }\n",
       "</style>\n",
       "<table border=\"1\" class=\"dataframe\">\n",
       "  <thead>\n",
       "    <tr style=\"text-align: right;\">\n",
       "      <th></th>\n",
       "      <th>duration</th>\n",
       "      <th>campaign</th>\n",
       "      <th>previous</th>\n",
       "      <th>emp.var.rate</th>\n",
       "      <th>cons.price.idx</th>\n",
       "      <th>cons.conf.idx</th>\n",
       "      <th>euribor3m</th>\n",
       "      <th>nr.employed</th>\n",
       "    </tr>\n",
       "  </thead>\n",
       "  <tbody>\n",
       "    <tr>\n",
       "      <th>count</th>\n",
       "      <td>28829.0</td>\n",
       "      <td>28829.0</td>\n",
       "      <td>28829.0</td>\n",
       "      <td>28829.0</td>\n",
       "      <td>28829.0</td>\n",
       "      <td>28829.0</td>\n",
       "      <td>28829.0</td>\n",
       "      <td>28829.0</td>\n",
       "    </tr>\n",
       "    <tr>\n",
       "      <th>mean</th>\n",
       "      <td>0.4</td>\n",
       "      <td>0.3</td>\n",
       "      <td>0.2</td>\n",
       "      <td>-0.3</td>\n",
       "      <td>-0.2</td>\n",
       "      <td>0.2</td>\n",
       "      <td>-0.3</td>\n",
       "      <td>-0.2</td>\n",
       "    </tr>\n",
       "    <tr>\n",
       "      <th>std</th>\n",
       "      <td>1.2</td>\n",
       "      <td>1.4</td>\n",
       "      <td>0.5</td>\n",
       "      <td>0.5</td>\n",
       "      <td>0.6</td>\n",
       "      <td>0.7</td>\n",
       "      <td>0.5</td>\n",
       "      <td>0.6</td>\n",
       "    </tr>\n",
       "    <tr>\n",
       "      <th>min</th>\n",
       "      <td>-0.8</td>\n",
       "      <td>-0.5</td>\n",
       "      <td>0.0</td>\n",
       "      <td>-1.4</td>\n",
       "      <td>-1.7</td>\n",
       "      <td>-1.4</td>\n",
       "      <td>-1.2</td>\n",
       "      <td>-1.8</td>\n",
       "    </tr>\n",
       "    <tr>\n",
       "      <th>25%</th>\n",
       "      <td>-0.4</td>\n",
       "      <td>-0.5</td>\n",
       "      <td>0.0</td>\n",
       "      <td>-0.9</td>\n",
       "      <td>-0.8</td>\n",
       "      <td>-0.1</td>\n",
       "      <td>-1.0</td>\n",
       "      <td>-0.7</td>\n",
       "    </tr>\n",
       "    <tr>\n",
       "      <th>50%</th>\n",
       "      <td>0.0</td>\n",
       "      <td>0.0</td>\n",
       "      <td>0.0</td>\n",
       "      <td>0.0</td>\n",
       "      <td>0.0</td>\n",
       "      <td>0.0</td>\n",
       "      <td>0.0</td>\n",
       "      <td>0.0</td>\n",
       "    </tr>\n",
       "    <tr>\n",
       "      <th>75%</th>\n",
       "      <td>0.6</td>\n",
       "      <td>0.5</td>\n",
       "      <td>0.0</td>\n",
       "      <td>0.1</td>\n",
       "      <td>0.2</td>\n",
       "      <td>0.9</td>\n",
       "      <td>0.0</td>\n",
       "      <td>0.3</td>\n",
       "    </tr>\n",
       "    <tr>\n",
       "      <th>max</th>\n",
       "      <td>16.6</td>\n",
       "      <td>20.5</td>\n",
       "      <td>7.0</td>\n",
       "      <td>0.1</td>\n",
       "      <td>1.1</td>\n",
       "      <td>2.4</td>\n",
       "      <td>0.1</td>\n",
       "      <td>0.3</td>\n",
       "    </tr>\n",
       "  </tbody>\n",
       "</table>\n",
       "</div>"
      ],
      "text/plain": [
       "       duration  campaign  previous  emp.var.rate  cons.price.idx  \\\n",
       "count   28829.0   28829.0   28829.0       28829.0         28829.0   \n",
       "mean        0.4       0.3       0.2          -0.3            -0.2   \n",
       "std         1.2       1.4       0.5           0.5             0.6   \n",
       "min        -0.8      -0.5       0.0          -1.4            -1.7   \n",
       "25%        -0.4      -0.5       0.0          -0.9            -0.8   \n",
       "50%         0.0       0.0       0.0           0.0             0.0   \n",
       "75%         0.6       0.5       0.0           0.1             0.2   \n",
       "max        16.6      20.5       7.0           0.1             1.1   \n",
       "\n",
       "       cons.conf.idx  euribor3m  nr.employed  \n",
       "count        28829.0    28829.0      28829.0  \n",
       "mean             0.2       -0.3         -0.2  \n",
       "std              0.7        0.5          0.6  \n",
       "min             -1.4       -1.2         -1.8  \n",
       "25%             -0.1       -1.0         -0.7  \n",
       "50%              0.0        0.0          0.0  \n",
       "75%              0.9        0.0          0.3  \n",
       "max              2.4        0.1          0.3  "
      ]
     },
     "execution_count": 95,
     "metadata": {},
     "output_type": "execute_result"
    }
   ],
   "source": [
    "np.round(X_train_robust.describe(), 1)"
   ]
  },
  {
   "cell_type": "markdown",
   "id": "3bcde930",
   "metadata": {},
   "source": [
    "### Evaluate Random Forests and Logistic Regression Performances"
   ]
  },
  {
   "cell_type": "code",
   "execution_count": 96,
   "id": "f2854fd3",
   "metadata": {},
   "outputs": [
    {
     "name": "stdout",
     "output_type": "stream",
     "text": [
      "Train set\n",
      "Random Forests roc-auc: 0.9141014764603407\n",
      "Test set\n",
      "Random Forests roc-auc: 0.9186808767290485\n"
     ]
    }
   ],
   "source": [
    "# without scaling\n",
    "run_RFs(X_train, X_test, y_train, y_test)"
   ]
  },
  {
   "cell_type": "code",
   "execution_count": 89,
   "id": "f9a4d4e1",
   "metadata": {},
   "outputs": [
    {
     "name": "stdout",
     "output_type": "stream",
     "text": [
      "Train set\n",
      "Random Forests roc-auc: 0.9141012665709475\n",
      "Test set\n",
      "Random Forests roc-auc: 0.9186808767290485\n"
     ]
    }
   ],
   "source": [
    "# standardization\n",
    "run_RFs(X_train_stand, X_test_stand, y_train, y_test)"
   ]
  },
  {
   "cell_type": "code",
   "execution_count": 90,
   "id": "e2d04a3d",
   "metadata": {},
   "outputs": [
    {
     "name": "stdout",
     "output_type": "stream",
     "text": [
      "Train set\n",
      "Random Forests roc-auc: 0.9141014764603407\n",
      "Test set\n",
      "Random Forests roc-auc: 0.9186808767290485\n"
     ]
    }
   ],
   "source": [
    "# mean normalization\n",
    "run_RFs(X_train_mean, X_test_mean, y_train, y_test)"
   ]
  },
  {
   "cell_type": "code",
   "execution_count": 91,
   "id": "4ea9690c",
   "metadata": {},
   "outputs": [
    {
     "name": "stdout",
     "output_type": "stream",
     "text": [
      "Train set\n",
      "Random Forests roc-auc: 0.9067464663741359\n",
      "Test set\n",
      "Random Forests roc-auc: 0.9097793158556194\n"
     ]
    }
   ],
   "source": [
    "# MinMaxScaling\n",
    "run_RFs(X_train_minmax, X_test_minmax, y_train, y_test)"
   ]
  },
  {
   "cell_type": "code",
   "execution_count": 92,
   "id": "b6855ea1",
   "metadata": {},
   "outputs": [
    {
     "name": "stdout",
     "output_type": "stream",
     "text": [
      "Train set\n",
      "Random Forests roc-auc: 0.9141014764603407\n",
      "Test set\n",
      "Random Forests roc-auc: 0.9186800504293983\n"
     ]
    }
   ],
   "source": [
    "# MaxAbsScaling\n",
    "run_RFs(X_train_maxabs, X_test_maxabs, y_train, y_test)"
   ]
  },
  {
   "cell_type": "code",
   "execution_count": 97,
   "id": "6a5f3378",
   "metadata": {},
   "outputs": [
    {
     "name": "stdout",
     "output_type": "stream",
     "text": [
      "Train set\n",
      "Random Forests roc-auc: 0.9141014764603407\n",
      "Test set\n",
      "Random Forests roc-auc: 0.9186808767290485\n"
     ]
    }
   ],
   "source": [
    "# RobustScaling\n",
    "run_RFs(X_train_robust, X_test_robust, y_train, y_test)"
   ]
  },
  {
   "cell_type": "markdown",
   "id": "7bc6edab",
   "metadata": {},
   "source": [
    "Given the results above, I can choose any scaling methods other than MinMaxScaling if I use tree-based models. "
   ]
  },
  {
   "cell_type": "code",
   "execution_count": 98,
   "id": "d7bcd778",
   "metadata": {},
   "outputs": [
    {
     "name": "stdout",
     "output_type": "stream",
     "text": [
      "Train set\n",
      "Logistic Regression roc-auc: 0.9158978478157493\n",
      "Test set\n",
      "Logistic Regression roc-auc: 0.9161055320827696\n"
     ]
    }
   ],
   "source": [
    "# without scaling\n",
    "run_logit(X_train, X_test, y_train, y_test)"
   ]
  },
  {
   "cell_type": "code",
   "execution_count": 99,
   "id": "ace1d835",
   "metadata": {},
   "outputs": [
    {
     "name": "stdout",
     "output_type": "stream",
     "text": [
      "Train set\n",
      "Logistic Regression roc-auc: 0.9162705394162205\n",
      "Test set\n",
      "Logistic Regression roc-auc: 0.9166123512363162\n"
     ]
    }
   ],
   "source": [
    "# standardization\n",
    "run_logit(X_train_stand, X_test_stand, y_train, y_test)"
   ]
  },
  {
   "cell_type": "code",
   "execution_count": 100,
   "id": "ab0e7987",
   "metadata": {},
   "outputs": [
    {
     "name": "stdout",
     "output_type": "stream",
     "text": [
      "Train set\n",
      "Logistic Regression roc-auc: 0.8408142110902965\n",
      "Test set\n",
      "Logistic Regression roc-auc: 0.8440960295045824\n"
     ]
    }
   ],
   "source": [
    "# mean normalization\n",
    "run_logit(X_train_mean, X_test_mean, y_train, y_test)"
   ]
  },
  {
   "cell_type": "code",
   "execution_count": 101,
   "id": "b1aff6dc",
   "metadata": {},
   "outputs": [
    {
     "name": "stdout",
     "output_type": "stream",
     "text": [
      "Train set\n",
      "Logistic Regression roc-auc: 0.714735799387382\n",
      "Test set\n",
      "Logistic Regression roc-auc: 0.7312258109040353\n"
     ]
    }
   ],
   "source": [
    "# MinMaxScaling\n",
    "run_logit(X_train_minmax, X_test_minmax, y_train, y_test)"
   ]
  },
  {
   "cell_type": "code",
   "execution_count": 102,
   "id": "53fa5f8e",
   "metadata": {},
   "outputs": [
    {
     "name": "stdout",
     "output_type": "stream",
     "text": [
      "Train set\n",
      "Logistic Regression roc-auc: 0.8430917748688468\n",
      "Test set\n",
      "Logistic Regression roc-auc: 0.8507376938862551\n"
     ]
    }
   ],
   "source": [
    "# MaxAbsScaling\n",
    "run_logit(X_train_maxabs, X_test_maxabs, y_train, y_test)"
   ]
  },
  {
   "cell_type": "code",
   "execution_count": 103,
   "id": "8405f5ec",
   "metadata": {},
   "outputs": [
    {
     "name": "stdout",
     "output_type": "stream",
     "text": [
      "Train set\n",
      "Logistic Regression roc-auc: 0.916684201426269\n",
      "Test set\n",
      "Logistic Regression roc-auc: 0.917356549753419\n"
     ]
    }
   ],
   "source": [
    "# RobustScaling\n",
    "run_logit(X_train_robust, X_test_robust, y_train, y_test)"
   ]
  },
  {
   "cell_type": "markdown",
   "id": "afdea649",
   "metadata": {},
   "source": [
    "Different scales in variables can influnce to linear models, so as we can see the results above, some techniques makde performance worst. \n",
    "\n",
    "Overall, I will use StandardScaler for further process. "
   ]
  }
 ],
 "metadata": {
  "kernelspec": {
   "display_name": "Python 3",
   "language": "python",
   "name": "python3"
  },
  "language_info": {
   "codemirror_mode": {
    "name": "ipython",
    "version": 3
   },
   "file_extension": ".py",
   "mimetype": "text/x-python",
   "name": "python",
   "nbconvert_exporter": "python",
   "pygments_lexer": "ipython3",
   "version": "3.8.8"
  },
  "toc": {
   "base_numbering": 1,
   "nav_menu": {},
   "number_sections": true,
   "sideBar": true,
   "skip_h1_title": true,
   "title_cell": "Table of Contents",
   "title_sidebar": "Contents",
   "toc_cell": true,
   "toc_position": {},
   "toc_section_display": true,
   "toc_window_display": false
  },
  "varInspector": {
   "cols": {
    "lenName": 16,
    "lenType": 16,
    "lenVar": 40
   },
   "kernels_config": {
    "python": {
     "delete_cmd_postfix": "",
     "delete_cmd_prefix": "del ",
     "library": "var_list.py",
     "varRefreshCmd": "print(var_dic_list())"
    },
    "r": {
     "delete_cmd_postfix": ") ",
     "delete_cmd_prefix": "rm(",
     "library": "var_list.r",
     "varRefreshCmd": "cat(var_dic_list()) "
    }
   },
   "types_to_exclude": [
    "module",
    "function",
    "builtin_function_or_method",
    "instance",
    "_Feature"
   ],
   "window_display": false
  }
 },
 "nbformat": 4,
 "nbformat_minor": 5
}
