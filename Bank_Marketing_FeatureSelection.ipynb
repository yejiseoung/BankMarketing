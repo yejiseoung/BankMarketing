{
 "cells": [
  {
   "cell_type": "markdown",
   "id": "45bdf573",
   "metadata": {
    "toc": true
   },
   "source": [
    "<h1>Table of Contents<span class=\"tocSkip\"></span></h1>\n",
    "<div class=\"toc\"><ul class=\"toc-item\"><li><ul class=\"toc-item\"><li><span><a href=\"#Import\" data-toc-modified-id=\"Import-0.1\"><span class=\"toc-item-num\">0.1&nbsp;&nbsp;</span>Import</a></span></li><li><span><a href=\"#Load-data\" data-toc-modified-id=\"Load-data-0.2\"><span class=\"toc-item-num\">0.2&nbsp;&nbsp;</span>Load data</a></span></li><li><span><a href=\"#Create-balanced-data\" data-toc-modified-id=\"Create-balanced-data-0.3\"><span class=\"toc-item-num\">0.3&nbsp;&nbsp;</span>Create balanced data</a></span></li></ul></li><li><span><a href=\"#Filter-Methods\" data-toc-modified-id=\"Filter-Methods-1\"><span class=\"toc-item-num\">1&nbsp;&nbsp;</span>Filter Methods</a></span><ul class=\"toc-item\"><li><span><a href=\"#Drop-Correlated-Features\" data-toc-modified-id=\"Drop-Correlated-Features-1.1\"><span class=\"toc-item-num\">1.1&nbsp;&nbsp;</span>Drop Correlated Features</a></span></li><li><span><a href=\"#Univariate-with-roc-auc\" data-toc-modified-id=\"Univariate-with-roc-auc-1.2\"><span class=\"toc-item-num\">1.2&nbsp;&nbsp;</span>Univariate with roc-auc</a></span></li></ul></li><li><span><a href=\"#Wrapper-Methods\" data-toc-modified-id=\"Wrapper-Methods-2\"><span class=\"toc-item-num\">2&nbsp;&nbsp;</span>Wrapper Methods</a></span><ul class=\"toc-item\"><li><span><a href=\"#Step-Forward-Feature-Selection\" data-toc-modified-id=\"Step-Forward-Feature-Selection-2.1\"><span class=\"toc-item-num\">2.1&nbsp;&nbsp;</span>Step Forward Feature Selection</a></span></li><li><span><a href=\"#Step-Backward-Feature-Selection\" data-toc-modified-id=\"Step-Backward-Feature-Selection-2.2\"><span class=\"toc-item-num\">2.2&nbsp;&nbsp;</span>Step Backward Feature Selection</a></span></li></ul></li><li><span><a href=\"#Embedding-Methods\" data-toc-modified-id=\"Embedding-Methods-3\"><span class=\"toc-item-num\">3&nbsp;&nbsp;</span>Embedding Methods</a></span><ul class=\"toc-item\"><li><span><a href=\"#Random-Forest-Importance\" data-toc-modified-id=\"Random-Forest-Importance-3.1\"><span class=\"toc-item-num\">3.1&nbsp;&nbsp;</span>Random Forest Importance</a></span></li><li><span><a href=\"#Recursive-Feature-Selection-using-RFs-importance\" data-toc-modified-id=\"Recursive-Feature-Selection-using-RFs-importance-3.2\"><span class=\"toc-item-num\">3.2&nbsp;&nbsp;</span>Recursive Feature Selection using RFs importance</a></span></li></ul></li></ul></div>"
   ]
  },
  {
   "cell_type": "markdown",
   "id": "bb70aac9",
   "metadata": {},
   "source": [
    "# Bank Markeint Feature Selection"
   ]
  },
  {
   "cell_type": "markdown",
   "id": "de947a7c",
   "metadata": {},
   "source": [
    "We've seen the bank marketing dataset is an imbalanced data, and we found one of the useful balancing methods to apply to this dataset - `easyEnsemble`. \n",
    "\n",
    "After balancing the dataset, I would like to do feature selection. Feature selection provides a simple yet effective way to overcome high-dimensional data analysis by eliminating redundant and irrelevant data. Even though the dataset with 21 columns does not high space, we can still try to use feature selection methods, and explore the model's performance. \n",
    "\n",
    "\n",
    "In this notebook, I will go through three different feature selection methods: filter methods, wrapper methods, and embedding methods. "
   ]
  },
  {
   "cell_type": "markdown",
   "id": "e7a43e33",
   "metadata": {},
   "source": [
    "### Import"
   ]
  },
  {
   "cell_type": "code",
   "execution_count": 14,
   "id": "107bfe0b",
   "metadata": {},
   "outputs": [
    {
     "data": {
      "text/plain": [
       "'/Users/yejiseoung/Dropbox/My Mac (Yejis-MacBook-Pro.local)/Documents/Projects/BankMarketing'"
      ]
     },
     "execution_count": 14,
     "metadata": {},
     "output_type": "execute_result"
    }
   ],
   "source": [
    "import numpy as np\n",
    "import pandas as pd\n",
    "import seaborn as sns\n",
    "import matplotlib.pyplot as plt\n",
    "from scipy import stats\n",
    "\n",
    "import warnings\n",
    "warnings.filterwarnings('ignore')\n",
    "\n",
    "from collections import Counter\n",
    "\n",
    "pd.set_option('display.max_columns', None)\n",
    "pd.set_option('display.max_rows', None)\n",
    "\n",
    "from pathlib import Path\n",
    "import os\n",
    "os.getcwd()"
   ]
  },
  {
   "cell_type": "code",
   "execution_count": 2,
   "id": "fa5ff564",
   "metadata": {},
   "outputs": [],
   "source": [
    "path = Path('/Users/yejiseoung/Dropbox/My Mac (Yejis-MacBook-Pro.local)/Documents/Projects/BankMarketing')"
   ]
  },
  {
   "cell_type": "code",
   "execution_count": 12,
   "id": "c7f9b060",
   "metadata": {},
   "outputs": [],
   "source": [
    "# for the model \n",
    "from sklearn.model_selection import train_test_split, GridSearchCV, cross_validate, RandomizedSearchCV\n",
    "from sklearn.linear_model import LogisticRegression\n",
    "from sklearn.ensemble import (\n",
    "    GradientBoostingClassifier,\n",
    "    RandomForestClassifier)\n",
    "\n",
    "from sklearn.metrics import roc_auc_score\n",
    "\n",
    "from sklearn.preprocessing import StandardScaler\n",
    "\n",
    "from sklearn.pipeline import Pipeline\n",
    "\n",
    "# for feature engineering\n",
    "from feature_engine import encoding as ce\n",
    "\n",
    "\n",
    "# for cross-validation\n",
    "from imblearn.pipeline import make_pipeline\n",
    "\n",
    "# for ensemble sampling\n",
    "from imblearn.ensemble import EasyEnsembleClassifier\n",
    "\n",
    "# for feature selection\n",
    "from mlxtend.feature_selection import SequentialFeatureSelector as SFS"
   ]
  },
  {
   "cell_type": "markdown",
   "id": "f387beb4",
   "metadata": {},
   "source": [
    "### Load data"
   ]
  },
  {
   "cell_type": "code",
   "execution_count": 23,
   "id": "8e7a2b58",
   "metadata": {
    "scrolled": true
   },
   "outputs": [
    {
     "name": "stdout",
     "output_type": "stream",
     "text": [
      "(41185, 21)\n"
     ]
    },
    {
     "data": {
      "text/html": [
       "<div>\n",
       "<style scoped>\n",
       "    .dataframe tbody tr th:only-of-type {\n",
       "        vertical-align: middle;\n",
       "    }\n",
       "\n",
       "    .dataframe tbody tr th {\n",
       "        vertical-align: top;\n",
       "    }\n",
       "\n",
       "    .dataframe thead th {\n",
       "        text-align: right;\n",
       "    }\n",
       "</style>\n",
       "<table border=\"1\" class=\"dataframe\">\n",
       "  <thead>\n",
       "    <tr style=\"text-align: right;\">\n",
       "      <th></th>\n",
       "      <th>job</th>\n",
       "      <th>marital</th>\n",
       "      <th>education</th>\n",
       "      <th>default</th>\n",
       "      <th>housing</th>\n",
       "      <th>loan</th>\n",
       "      <th>contact</th>\n",
       "      <th>month</th>\n",
       "      <th>day_of_week</th>\n",
       "      <th>duration</th>\n",
       "      <th>campaign</th>\n",
       "      <th>previous</th>\n",
       "      <th>poutcome</th>\n",
       "      <th>emp.var.rate</th>\n",
       "      <th>cons.price.idx</th>\n",
       "      <th>cons.conf.idx</th>\n",
       "      <th>euribor3m</th>\n",
       "      <th>nr.employed</th>\n",
       "      <th>y</th>\n",
       "      <th>age_group</th>\n",
       "      <th>pdays_group</th>\n",
       "    </tr>\n",
       "  </thead>\n",
       "  <tbody>\n",
       "    <tr>\n",
       "      <th>0</th>\n",
       "      <td>housemaid</td>\n",
       "      <td>married</td>\n",
       "      <td>basic.4y</td>\n",
       "      <td>no</td>\n",
       "      <td>no</td>\n",
       "      <td>no</td>\n",
       "      <td>telephone</td>\n",
       "      <td>may</td>\n",
       "      <td>mon</td>\n",
       "      <td>261</td>\n",
       "      <td>1</td>\n",
       "      <td>0</td>\n",
       "      <td>nonexistent</td>\n",
       "      <td>1.1</td>\n",
       "      <td>93.994</td>\n",
       "      <td>-36.4</td>\n",
       "      <td>4.857</td>\n",
       "      <td>5191.0</td>\n",
       "      <td>no</td>\n",
       "      <td>51-60</td>\n",
       "      <td>Not contacted</td>\n",
       "    </tr>\n",
       "    <tr>\n",
       "      <th>1</th>\n",
       "      <td>services</td>\n",
       "      <td>married</td>\n",
       "      <td>high.school</td>\n",
       "      <td>unknown</td>\n",
       "      <td>no</td>\n",
       "      <td>no</td>\n",
       "      <td>telephone</td>\n",
       "      <td>may</td>\n",
       "      <td>mon</td>\n",
       "      <td>149</td>\n",
       "      <td>1</td>\n",
       "      <td>0</td>\n",
       "      <td>nonexistent</td>\n",
       "      <td>1.1</td>\n",
       "      <td>93.994</td>\n",
       "      <td>-36.4</td>\n",
       "      <td>4.857</td>\n",
       "      <td>5191.0</td>\n",
       "      <td>no</td>\n",
       "      <td>51-60</td>\n",
       "      <td>Not contacted</td>\n",
       "    </tr>\n",
       "    <tr>\n",
       "      <th>2</th>\n",
       "      <td>services</td>\n",
       "      <td>married</td>\n",
       "      <td>high.school</td>\n",
       "      <td>no</td>\n",
       "      <td>yes</td>\n",
       "      <td>no</td>\n",
       "      <td>telephone</td>\n",
       "      <td>may</td>\n",
       "      <td>mon</td>\n",
       "      <td>226</td>\n",
       "      <td>1</td>\n",
       "      <td>0</td>\n",
       "      <td>nonexistent</td>\n",
       "      <td>1.1</td>\n",
       "      <td>93.994</td>\n",
       "      <td>-36.4</td>\n",
       "      <td>4.857</td>\n",
       "      <td>5191.0</td>\n",
       "      <td>no</td>\n",
       "      <td>31-40</td>\n",
       "      <td>Not contacted</td>\n",
       "    </tr>\n",
       "    <tr>\n",
       "      <th>3</th>\n",
       "      <td>admin.</td>\n",
       "      <td>married</td>\n",
       "      <td>basic.6y</td>\n",
       "      <td>no</td>\n",
       "      <td>no</td>\n",
       "      <td>no</td>\n",
       "      <td>telephone</td>\n",
       "      <td>may</td>\n",
       "      <td>mon</td>\n",
       "      <td>151</td>\n",
       "      <td>1</td>\n",
       "      <td>0</td>\n",
       "      <td>nonexistent</td>\n",
       "      <td>1.1</td>\n",
       "      <td>93.994</td>\n",
       "      <td>-36.4</td>\n",
       "      <td>4.857</td>\n",
       "      <td>5191.0</td>\n",
       "      <td>no</td>\n",
       "      <td>31-40</td>\n",
       "      <td>Not contacted</td>\n",
       "    </tr>\n",
       "    <tr>\n",
       "      <th>4</th>\n",
       "      <td>services</td>\n",
       "      <td>married</td>\n",
       "      <td>high.school</td>\n",
       "      <td>no</td>\n",
       "      <td>no</td>\n",
       "      <td>yes</td>\n",
       "      <td>telephone</td>\n",
       "      <td>may</td>\n",
       "      <td>mon</td>\n",
       "      <td>307</td>\n",
       "      <td>1</td>\n",
       "      <td>0</td>\n",
       "      <td>nonexistent</td>\n",
       "      <td>1.1</td>\n",
       "      <td>93.994</td>\n",
       "      <td>-36.4</td>\n",
       "      <td>4.857</td>\n",
       "      <td>5191.0</td>\n",
       "      <td>no</td>\n",
       "      <td>51-60</td>\n",
       "      <td>Not contacted</td>\n",
       "    </tr>\n",
       "  </tbody>\n",
       "</table>\n",
       "</div>"
      ],
      "text/plain": [
       "         job  marital    education  default housing loan    contact month  \\\n",
       "0  housemaid  married     basic.4y       no      no   no  telephone   may   \n",
       "1   services  married  high.school  unknown      no   no  telephone   may   \n",
       "2   services  married  high.school       no     yes   no  telephone   may   \n",
       "3     admin.  married     basic.6y       no      no   no  telephone   may   \n",
       "4   services  married  high.school       no      no  yes  telephone   may   \n",
       "\n",
       "  day_of_week  duration  campaign  previous     poutcome  emp.var.rate  \\\n",
       "0         mon       261         1         0  nonexistent           1.1   \n",
       "1         mon       149         1         0  nonexistent           1.1   \n",
       "2         mon       226         1         0  nonexistent           1.1   \n",
       "3         mon       151         1         0  nonexistent           1.1   \n",
       "4         mon       307         1         0  nonexistent           1.1   \n",
       "\n",
       "   cons.price.idx  cons.conf.idx  euribor3m  nr.employed   y age_group  \\\n",
       "0          93.994          -36.4      4.857       5191.0  no     51-60   \n",
       "1          93.994          -36.4      4.857       5191.0  no     51-60   \n",
       "2          93.994          -36.4      4.857       5191.0  no     31-40   \n",
       "3          93.994          -36.4      4.857       5191.0  no     31-40   \n",
       "4          93.994          -36.4      4.857       5191.0  no     51-60   \n",
       "\n",
       "     pdays_group  \n",
       "0  Not contacted  \n",
       "1  Not contacted  \n",
       "2  Not contacted  \n",
       "3  Not contacted  \n",
       "4  Not contacted  "
      ]
     },
     "execution_count": 23,
     "metadata": {},
     "output_type": "execute_result"
    }
   ],
   "source": [
    "data = pd.read_csv(path/'cleaned_data.csv')\n",
    "data.drop('Unnamed: 0', axis=1, inplace=True)\n",
    "print(data.shape)\n",
    "data.head()"
   ]
  },
  {
   "cell_type": "code",
   "execution_count": 9,
   "id": "e238b9da",
   "metadata": {},
   "outputs": [
    {
     "data": {
      "text/plain": [
       "(12, 8)"
      ]
     },
     "execution_count": 9,
     "metadata": {},
     "output_type": "execute_result"
    }
   ],
   "source": [
    "cat_vars = [var for var in data.columns if var != 'y' and data[var].dtype == 'O']\n",
    "num_vars = [var for var in data.columns if var != 'y' and data[var].dtype != 'O']\n",
    "\n",
    "len(cat_vars), len(num_vars)"
   ]
  },
  {
   "cell_type": "code",
   "execution_count": 43,
   "id": "635ac38f",
   "metadata": {},
   "outputs": [],
   "source": [
    "def run_RFs(X_train, X_test, y_train, y_test):\n",
    "    \n",
    "    rf = RandomForestClassifier(n_estimators=50, max_depth=3, random_state=39)\n",
    "    rf.fit(X_train, y_train)\n",
    "    \n",
    "    print('Train set')\n",
    "    pred = rf.predict_proba(X_train)\n",
    "    print('RF roc-auc: {}'.format(roc_auc_score(y_train, pred[:, 1])))\n",
    "    \n",
    "    print('Test set')\n",
    "    pred = rf.predict_proba(X_test)\n",
    "    print('RF roc-auc: {}'.format(roc_auc_score(y_test, pred[:, 1])))\n",
    "    \n",
    "    return roc_auc_score(y_test, pred[:, 1])"
   ]
  },
  {
   "cell_type": "markdown",
   "id": "8674d178",
   "metadata": {},
   "source": [
    "### Create balanced data\n",
    "\n",
    "As we saw the previous notebooks, the bank marketing dataset is imbalanced. Before I select features that I will use for building ML models, I will create balanced data by using easyEnsemble method. Also, I will use StandardScaler for feature scaling for numeric variables and integer encoding for categorical variables' encoding. "
   ]
  },
  {
   "cell_type": "code",
   "execution_count": 11,
   "id": "97433cf0",
   "metadata": {
    "code_folding": []
   },
   "outputs": [
    {
     "name": "stdout",
     "output_type": "stream",
     "text": [
      "Train set\n",
      "RF roc-auc: 0.9277391477348833\n",
      "Test set\n",
      "RF roc-auc: 0.9301929165098902\n"
     ]
    }
   ],
   "source": [
    "# now we train several models, with the different oversamplers \n",
    "# and with cross-validation\n",
    "\n",
    "# to save the results\n",
    "roc_dict = {}\n",
    "\n",
    "# separate dataset into train and test\n",
    "X_train, X_test, y_train, y_test = train_test_split(\n",
    "    data.drop('y', axis=1),\n",
    "    data['y'],\n",
    "    test_size=0.3,\n",
    "    random_state=0\n",
    ")\n",
    "\n",
    "# integer encoding\n",
    "ordinal_encoding = ce.OrdinalEncoder(\n",
    "    encoding_method='arbitrary',\n",
    "    variables=cat_vars)\n",
    "\n",
    "ordinal_encoding.fit(X_train)\n",
    "X_train = ordinal_encoding.transform(X_train)\n",
    "X_test = ordinal_encoding.transform(X_test)\n",
    "\n",
    "\n",
    "# StandardScaler\n",
    "standard_scaler = StandardScaler().fit(X_train)\n",
    "X_train = standard_scaler.transform(X_train)\n",
    "X_test = standard_scaler.transform(X_test)\n",
    "\n",
    "\n",
    "# train model and store result\n",
    "roc = run_RFs(X_train, X_test, y_train, y_test)\n",
    "roc_dict['full_data'] = roc\n",
    "\n",
    "\n"
   ]
  },
  {
   "cell_type": "code",
   "execution_count": 15,
   "id": "a4879f3e",
   "metadata": {},
   "outputs": [
    {
     "data": {
      "text/plain": [
       "RandomizedSearchCV(cv=5,\n",
       "                   estimator=EasyEnsembleClassifier(n_estimators=20,\n",
       "                                                    random_state=42),\n",
       "                   n_iter=5,\n",
       "                   param_distributions={'n_estimators': <scipy.stats._distn_infrastructure.rv_frozen object at 0x7fb2d93ab940>},\n",
       "                   random_state=10, scoring='roc_auc')"
      ]
     },
     "execution_count": 15,
     "metadata": {},
     "output_type": "execute_result"
    }
   ],
   "source": [
    "# set up classifier\n",
    "easy = EasyEnsembleClassifier(\n",
    "        n_estimators=20,\n",
    "        sampling_strategy='auto',\n",
    "        random_state=42,\n",
    "    )\n",
    "\n",
    "# set up the hyperparameter space\n",
    "# the default implementation as 1 hyperparameters to optimize\n",
    "\n",
    "param_grid = dict(\n",
    "    n_estimators=stats.randint(10, 200),\n",
    "    )\n",
    "\n",
    "\n",
    "# set up the search\n",
    "search = RandomizedSearchCV(\n",
    "    easy, # the model\n",
    "    param_grid, # hyperparam space\n",
    "    scoring='roc_auc', # metric to optimize\n",
    "    cv=5, # I do 2 to speed things up, 5 would be better as the dataset is quite small\n",
    "    n_iter = 5, # I do 10 to speed things up, but for randomized search 60 has been shown to find the optimal hyperparameters\n",
    "    random_state=10, # reproducibility\n",
    "    refit=True, # this fits the model with the best hyperparams to the entire training set after the hyperparam search\n",
    ")\n",
    "\n",
    "# find best hyperparameters\n",
    "# using the original data (without resampling)\n",
    "search.fit(X_train, y_train)\n"
   ]
  },
  {
   "cell_type": "code",
   "execution_count": 16,
   "id": "233e094e",
   "metadata": {},
   "outputs": [
    {
     "data": {
      "text/plain": [
       "{'n_estimators': 74}"
      ]
     },
     "execution_count": 16,
     "metadata": {},
     "output_type": "execute_result"
    }
   ],
   "source": [
    "# the best hyperparameters are stored in an attribute:\n",
    "\n",
    "search.best_params_"
   ]
  },
  {
   "cell_type": "code",
   "execution_count": 19,
   "id": "38d14be8",
   "metadata": {},
   "outputs": [
    {
     "name": "stdout",
     "output_type": "stream",
     "text": [
      "Train roc_auc:  0.9412903265888555\n",
      "Test roc_auc:  0.9415625352829952\n"
     ]
    }
   ],
   "source": [
    "# Now let's get the performance on train and test\n",
    "\n",
    "X_train_preds = search.predict_proba(X_train)[:,1]\n",
    "X_test_preds = search.predict_proba(X_test)[:,1]\n",
    "\n",
    "print('Train roc_auc: ', roc_auc_score(y_train, X_train_preds))\n",
    "print('Test roc_auc: ', roc_auc_score(y_test, X_test_preds))\n",
    "\n",
    "# save prediction\n",
    "roc_dict['easyEnsemble'] = roc_auc_score(y_test, X_test_preds)"
   ]
  },
  {
   "cell_type": "code",
   "execution_count": 20,
   "id": "018925a7",
   "metadata": {},
   "outputs": [
    {
     "data": {
      "text/plain": [
       "{'full_data': 0.9301929165098902, 'easyEnsemble': 0.9415625352829952}"
      ]
     },
     "execution_count": 20,
     "metadata": {},
     "output_type": "execute_result"
    }
   ],
   "source": [
    "roc_dict"
   ]
  },
  {
   "cell_type": "code",
   "execution_count": 24,
   "id": "2d235ed8",
   "metadata": {},
   "outputs": [],
   "source": [
    "copy = data.drop('y', axis=1)\n",
    "X_columns = copy.columns"
   ]
  },
  {
   "cell_type": "code",
   "execution_count": 25,
   "id": "cefd9dad",
   "metadata": {},
   "outputs": [
    {
     "data": {
      "text/plain": [
       "Index(['job', 'marital', 'education', 'default', 'housing', 'loan', 'contact',\n",
       "       'month', 'day_of_week', 'duration', 'campaign', 'previous', 'poutcome',\n",
       "       'emp.var.rate', 'cons.price.idx', 'cons.conf.idx', 'euribor3m',\n",
       "       'nr.employed', 'age_group', 'pdays_group'],\n",
       "      dtype='object')"
      ]
     },
     "execution_count": 25,
     "metadata": {},
     "output_type": "execute_result"
    }
   ],
   "source": [
    "X_columns"
   ]
  },
  {
   "cell_type": "code",
   "execution_count": 27,
   "id": "1d3b03c6",
   "metadata": {},
   "outputs": [],
   "source": [
    "X_train = pd.DataFrame(X_train, columns=X_columns)\n",
    "X_test = pd.DataFrame(X_test, columns=X_columns)"
   ]
  },
  {
   "cell_type": "markdown",
   "id": "0c16bac8",
   "metadata": {},
   "source": [
    "## Filter Methods\n",
    "\n",
    "Filter methods select features on the basis of the statistical scores for its correlation with the outcome variable. \n",
    "\n",
    "I will perform some methods as follows:\n",
    "\n",
    "- Correlation\n",
    "- LDA\n",
    "- ANOVA\n",
    "- Chi-Square"
   ]
  },
  {
   "cell_type": "markdown",
   "id": "cc435116",
   "metadata": {},
   "source": [
    "### Drop Correlated Features"
   ]
  },
  {
   "cell_type": "code",
   "execution_count": 29,
   "id": "0421b898",
   "metadata": {},
   "outputs": [],
   "source": [
    "# for feature selection\n",
    "from feature_engine.selection import DropCorrelatedFeatures, SmartCorrelatedSelection"
   ]
  },
  {
   "cell_type": "code",
   "execution_count": 36,
   "id": "7ce27411",
   "metadata": {},
   "outputs": [
    {
     "data": {
      "text/plain": [
       "DropCorrelatedFeatures(threshold=0.75)"
      ]
     },
     "execution_count": 36,
     "metadata": {},
     "output_type": "execute_result"
    }
   ],
   "source": [
    "# set up the selector\n",
    "\n",
    "sel = DropCorrelatedFeatures(\n",
    "    threshold=0.75,\n",
    "    method='pearson',\n",
    "    missing_values='ignore'\n",
    ")\n",
    "\n",
    "# find correlated features\n",
    "sel.fit(X_train)"
   ]
  },
  {
   "cell_type": "code",
   "execution_count": 39,
   "id": "382d7a7c",
   "metadata": {},
   "outputs": [
    {
     "data": {
      "text/plain": [
       "[{'poutcome', 'previous'},\n",
       " {'cons.price.idx', 'emp.var.rate', 'euribor3m', 'nr.employed'}]"
      ]
     },
     "execution_count": 39,
     "metadata": {},
     "output_type": "execute_result"
    }
   ],
   "source": [
    "# 0.75\n",
    "sel.correlated_feature_sets_"
   ]
  },
  {
   "cell_type": "code",
   "execution_count": 40,
   "id": "b71162d7",
   "metadata": {},
   "outputs": [
    {
     "data": {
      "text/plain": [
       "((28829, 16), (12356, 16))"
      ]
     },
     "execution_count": 40,
     "metadata": {},
     "output_type": "execute_result"
    }
   ],
   "source": [
    "# drop correlated features\n",
    "X_train_cor = sel.transform(X_train)\n",
    "X_test_cor = sel.transform(X_test)\n",
    "\n",
    "X_train_cor.shape, X_test_cor.shape"
   ]
  },
  {
   "cell_type": "code",
   "execution_count": 41,
   "id": "728598d0",
   "metadata": {},
   "outputs": [
    {
     "data": {
      "text/plain": [
       "(28829, 20)"
      ]
     },
     "execution_count": 41,
     "metadata": {},
     "output_type": "execute_result"
    }
   ],
   "source": [
    "X_train.shape"
   ]
  },
  {
   "cell_type": "code",
   "execution_count": 44,
   "id": "a42b8a0c",
   "metadata": {},
   "outputs": [
    {
     "name": "stdout",
     "output_type": "stream",
     "text": [
      "Train set\n",
      "RF roc-auc: 0.9247307730761275\n",
      "Test set\n",
      "RF roc-auc: 0.9256974828400699\n"
     ]
    },
    {
     "data": {
      "text/plain": [
       "0.9256974828400699"
      ]
     },
     "execution_count": 44,
     "metadata": {},
     "output_type": "execute_result"
    }
   ],
   "source": [
    "run_RFs(X_train_cor, X_test_cor, y_train, y_test)"
   ]
  },
  {
   "cell_type": "code",
   "execution_count": 45,
   "id": "0457b5e4",
   "metadata": {},
   "outputs": [
    {
     "name": "stdout",
     "output_type": "stream",
     "text": [
      "Train set\n",
      "RF roc-auc: 0.9247307730761275\n",
      "Test set\n",
      "RF roc-auc: 0.9256974828400699\n"
     ]
    }
   ],
   "source": [
    "roc_dict['DropCorrelatedFeatures'] = run_RFs(X_train_cor, X_test_cor, y_train, y_test)"
   ]
  },
  {
   "cell_type": "code",
   "execution_count": 46,
   "id": "8136a6c8",
   "metadata": {},
   "outputs": [
    {
     "data": {
      "text/plain": [
       "{'full_data': 0.9301929165098902,\n",
       " 'easyEnsemble': 0.9415625352829952,\n",
       " 'DropCorrelatedFeatures': 0.9256974828400699}"
      ]
     },
     "execution_count": 46,
     "metadata": {},
     "output_type": "execute_result"
    }
   ],
   "source": [
    "roc_dict"
   ]
  },
  {
   "cell_type": "markdown",
   "id": "038a24e1",
   "metadata": {},
   "source": [
    "Compared to the baseline, the model performance did not improve with removal of correlated features. "
   ]
  },
  {
   "cell_type": "markdown",
   "id": "e7264c87",
   "metadata": {},
   "source": [
    "### Univariate with roc-auc "
   ]
  },
  {
   "cell_type": "markdown",
   "id": "313c7d29",
   "metadata": {},
   "source": [
    "This procedure works as follows:\n",
    "\n",
    "- First, it builds one decision tree per feature, to predict the target\n",
    "- Second, it makes predictions using the decision tree and the mentioned feature\n",
    "- Third, it measures the performance of that prediciton, be it the roc-auc, the mse, or any other metric\n",
    "- Fourth, it ranks the features according to the machine learning metric (roc-auc or mse)\n",
    "- It selects the highest ranking features"
   ]
  },
  {
   "cell_type": "code",
   "execution_count": 47,
   "id": "3d8d9746",
   "metadata": {},
   "outputs": [],
   "source": [
    "from sklearn.tree import DecisionTreeClassifier"
   ]
  },
  {
   "cell_type": "code",
   "execution_count": 48,
   "id": "7a807211",
   "metadata": {},
   "outputs": [],
   "source": [
    "# determine roc-auc for each feature\n",
    "\n",
    "# copy X_train and X_test\n",
    "X_train_uni = X_train.copy()\n",
    "X_test_uni = X_test.copy()\n",
    "\n",
    "# here we store the roc-auc values\n",
    "roc_values = []\n",
    "\n",
    "# iterate over each feature in the dataset\n",
    "for feature in X_train_uni.columns:\n",
    "    \n",
    "    # train a decision tree classifier\n",
    "    clf = DecisionTreeClassifier()\n",
    "    clf.fit(X_train_uni[feature].fillna(0).to_frame(), y_train)\n",
    "    \n",
    "    # obtain the predictions\n",
    "    y_scored = clf.predict_proba(X_test_uni[feature].to_frame())\n",
    "    \n",
    "    # calculate and store the roc-auc\n",
    "    roc_values.append(roc_auc_score(y_test, y_scored[:, 1]))"
   ]
  },
  {
   "cell_type": "code",
   "execution_count": 49,
   "id": "0e762071",
   "metadata": {},
   "outputs": [
    {
     "data": {
      "text/plain": [
       "[0.614766510194158,\n",
       " 0.5405249739484247,\n",
       " 0.5656379059742389,\n",
       " 0.560785510855462,\n",
       " 0.5096258951469372,\n",
       " 0.50451334784624,\n",
       " 0.6169237141653673,\n",
       " 0.6664598163208592,\n",
       " 0.5341609131972878,\n",
       " 0.7508824219226156,\n",
       " 0.5619870827550338,\n",
       " 0.6203144843586103,\n",
       " 0.6251560053739884,\n",
       " 0.7735932678128391,\n",
       " 0.7956298862403525,\n",
       " 0.7956298862403525,\n",
       " 0.7908611456981783,\n",
       " 0.7857912685114258,\n",
       " 0.6011649569094648,\n",
       " 0.6044743200611541]"
      ]
     },
     "execution_count": 49,
     "metadata": {},
     "output_type": "execute_result"
    }
   ],
   "source": [
    "# display the result\n",
    "roc_values"
   ]
  },
  {
   "cell_type": "code",
   "execution_count": 51,
   "id": "70cc1089",
   "metadata": {},
   "outputs": [
    {
     "data": {
      "image/png": "[encoded data removed]",
      "text/plain": [
       "<Figure size 1440x504 with 1 Axes>"
      ]
     },
     "metadata": {
      "needs_background": "light"
     },
     "output_type": "display_data"
    }
   ],
   "source": [
    "# now let's \n",
    "\n",
    "# 1) capture the roc-auc values in a pandas series\n",
    "# 2) add the variable names in the index\n",
    "# 3) sort the features based on the roc-auc\n",
    "# 4) and make a var plot\n",
    "\n",
    "roc_values = pd.Series(roc_values)\n",
    "roc_values.index = X_train_uni.columns\n",
    "roc_values.sort_values(ascending=False).plot.bar(figsize=(18,7))\n",
    "plt.ylabel('roc-auc');"
   ]
  },
  {
   "cell_type": "code",
   "execution_count": 59,
   "id": "155cacbd",
   "metadata": {},
   "outputs": [
    {
     "data": {
      "text/plain": [
       "16"
      ]
     },
     "execution_count": 59,
     "metadata": {},
     "output_type": "execute_result"
    }
   ],
   "source": [
    "len(roc_values[roc_values>0.55])"
   ]
  },
  {
   "cell_type": "code",
   "execution_count": 60,
   "id": "6288a187",
   "metadata": {},
   "outputs": [
    {
     "data": {
      "text/plain": [
       "Index(['job', 'education', 'default', 'contact', 'month', 'duration',\n",
       "       'campaign', 'previous', 'poutcome', 'emp.var.rate', 'cons.price.idx',\n",
       "       'cons.conf.idx', 'euribor3m', 'nr.employed', 'age_group',\n",
       "       'pdays_group'],\n",
       "      dtype='object')"
      ]
     },
     "execution_count": 60,
     "metadata": {},
     "output_type": "execute_result"
    }
   ],
   "source": [
    "selected_features = roc_values[roc_values > 0.55].index\n",
    "selected_features"
   ]
  },
  {
   "cell_type": "code",
   "execution_count": 62,
   "id": "201540c7",
   "metadata": {},
   "outputs": [
    {
     "name": "stdout",
     "output_type": "stream",
     "text": [
      "Train set\n",
      "RF roc-auc: 0.9277391477348833\n",
      "Test set\n",
      "RF roc-auc: 0.9301929165098902\n"
     ]
    },
    {
     "data": {
      "text/plain": [
       "0.9301929165098902"
      ]
     },
     "execution_count": 62,
     "metadata": {},
     "output_type": "execute_result"
    }
   ],
   "source": [
    "run_RFs(X_train, X_test, y_train, y_test)"
   ]
  },
  {
   "cell_type": "code",
   "execution_count": 61,
   "id": "0bd404d8",
   "metadata": {},
   "outputs": [
    {
     "name": "stdout",
     "output_type": "stream",
     "text": [
      "Train set\n",
      "RF roc-auc: 0.9193107572943642\n",
      "Test set\n",
      "RF roc-auc: 0.9228528306117448\n"
     ]
    },
    {
     "data": {
      "text/plain": [
       "0.9228528306117448"
      ]
     },
     "execution_count": 61,
     "metadata": {},
     "output_type": "execute_result"
    }
   ],
   "source": [
    "X_train_uni = X_train_uni[selected_features]\n",
    "X_test_uni = X_test_uni[selected_features]\n",
    "\n",
    "run_RFs(X_train_uni, X_test_uni, y_train, y_test)"
   ]
  },
  {
   "cell_type": "markdown",
   "id": "918ed3d7",
   "metadata": {},
   "source": [
    "Removing some features which are below 0.55 roc-auc-scores did not improve the model performance. "
   ]
  },
  {
   "cell_type": "markdown",
   "id": "ba3b7a9a",
   "metadata": {},
   "source": [
    "## Wrapper Methods"
   ]
  },
  {
   "cell_type": "markdown",
   "id": "7b9c058b",
   "metadata": {},
   "source": [
    "### Step Forward Feature Selection"
   ]
  },
  {
   "cell_type": "markdown",
   "id": "ba5494d7",
   "metadata": {},
   "source": [
    "Step forward feature selection starts by training a machine learning model for each feature in the dataset and selects the one that returns the best performing model, accoridng to a certain evaludation criteria we choose. \n",
    "\n",
    "In the second step, it creates machine learning models for all combinations of the feature selected in the previous step and a second feature. It selects the pair that produces the best performing algorithm. \n",
    "\n",
    "It continues by adding 1 feature at a time to the features that were pre-selected in previous steps, until a pre-determined stopping criteria. "
   ]
  },
  {
   "cell_type": "code",
   "execution_count": 63,
   "id": "3960a4d0",
   "metadata": {},
   "outputs": [],
   "source": [
    "from mlxtend.feature_selection import SequentialFeatureSelector as SFS"
   ]
  },
  {
   "cell_type": "code",
   "execution_count": 65,
   "id": "4596fe1e",
   "metadata": {},
   "outputs": [
    {
     "name": "stderr",
     "output_type": "stream",
     "text": [
      "[Parallel(n_jobs=1)]: Using backend SequentialBackend with 1 concurrent workers.\n",
      "[Parallel(n_jobs=1)]: Done   1 out of   1 | elapsed:    0.2s remaining:    0.0s\n",
      "[Parallel(n_jobs=1)]: Done  20 out of  20 | elapsed:    4.5s finished\n",
      "\n",
      "[2022-01-17 12:37:18] Features: 1/20 -- score: 0.778366205122459[Parallel(n_jobs=1)]: Using backend SequentialBackend with 1 concurrent workers.\n",
      "[Parallel(n_jobs=1)]: Done   1 out of   1 | elapsed:    0.3s remaining:    0.0s\n",
      "[Parallel(n_jobs=1)]: Done  19 out of  19 | elapsed:    4.9s finished\n",
      "\n",
      "[2022-01-17 12:37:23] Features: 2/20 -- score: 0.8421274471230964[Parallel(n_jobs=1)]: Using backend SequentialBackend with 1 concurrent workers.\n",
      "[Parallel(n_jobs=1)]: Done   1 out of   1 | elapsed:    0.4s remaining:    0.0s\n",
      "[Parallel(n_jobs=1)]: Done  18 out of  18 | elapsed:    6.8s finished\n",
      "\n",
      "[2022-01-17 12:37:30] Features: 3/20 -- score: 0.8739675518072683[Parallel(n_jobs=1)]: Using backend SequentialBackend with 1 concurrent workers.\n",
      "[Parallel(n_jobs=1)]: Done   1 out of   1 | elapsed:    0.5s remaining:    0.0s\n",
      "[Parallel(n_jobs=1)]: Done  17 out of  17 | elapsed:    7.6s finished\n",
      "\n",
      "[2022-01-17 12:37:37] Features: 4/20 -- score: 0.894973600025204[Parallel(n_jobs=1)]: Using backend SequentialBackend with 1 concurrent workers.\n",
      "[Parallel(n_jobs=1)]: Done   1 out of   1 | elapsed:    0.5s remaining:    0.0s\n",
      "[Parallel(n_jobs=1)]: Done  16 out of  16 | elapsed:    7.2s finished\n",
      "\n",
      "[2022-01-17 12:37:44] Features: 5/20 -- score: 0.8993496813479162[Parallel(n_jobs=1)]: Using backend SequentialBackend with 1 concurrent workers.\n",
      "[Parallel(n_jobs=1)]: Done   1 out of   1 | elapsed:    0.5s remaining:    0.0s\n",
      "[Parallel(n_jobs=1)]: Done  15 out of  15 | elapsed:    6.8s finished\n",
      "\n",
      "[2022-01-17 12:37:51] Features: 6/20 -- score: 0.9047087857875525[Parallel(n_jobs=1)]: Using backend SequentialBackend with 1 concurrent workers.\n",
      "[Parallel(n_jobs=1)]: Done   1 out of   1 | elapsed:    0.5s remaining:    0.0s\n",
      "[Parallel(n_jobs=1)]: Done  14 out of  14 | elapsed:    6.3s finished\n",
      "\n",
      "[2022-01-17 12:37:57] Features: 7/20 -- score: 0.908412970908607[Parallel(n_jobs=1)]: Using backend SequentialBackend with 1 concurrent workers.\n",
      "[Parallel(n_jobs=1)]: Done   1 out of   1 | elapsed:    0.5s remaining:    0.0s\n",
      "[Parallel(n_jobs=1)]: Done  13 out of  13 | elapsed:    5.9s finished\n",
      "\n",
      "[2022-01-17 12:38:03] Features: 8/20 -- score: 0.9080975143289319[Parallel(n_jobs=1)]: Using backend SequentialBackend with 1 concurrent workers.\n",
      "[Parallel(n_jobs=1)]: Done   1 out of   1 | elapsed:    0.5s remaining:    0.0s\n",
      "[Parallel(n_jobs=1)]: Done  12 out of  12 | elapsed:    6.1s finished\n",
      "\n",
      "[2022-01-17 12:38:09] Features: 9/20 -- score: 0.9147066912525909[Parallel(n_jobs=1)]: Using backend SequentialBackend with 1 concurrent workers.\n",
      "[Parallel(n_jobs=1)]: Done   1 out of   1 | elapsed:    0.5s remaining:    0.0s\n",
      "[Parallel(n_jobs=1)]: Done  11 out of  11 | elapsed:    5.6s finished\n",
      "\n",
      "[2022-01-17 12:38:15] Features: 10/20 -- score: 0.9142971226676773[Parallel(n_jobs=1)]: Using backend SequentialBackend with 1 concurrent workers.\n",
      "[Parallel(n_jobs=1)]: Done   1 out of   1 | elapsed:    0.5s remaining:    0.0s\n",
      "[Parallel(n_jobs=1)]: Done  10 out of  10 | elapsed:    5.0s finished\n",
      "\n",
      "[2022-01-17 12:38:20] Features: 11/20 -- score: 0.9126020363904431[Parallel(n_jobs=1)]: Using backend SequentialBackend with 1 concurrent workers.\n",
      "[Parallel(n_jobs=1)]: Done   1 out of   1 | elapsed:    0.5s remaining:    0.0s\n",
      "[Parallel(n_jobs=1)]: Done   9 out of   9 | elapsed:    4.3s finished\n",
      "\n",
      "[2022-01-17 12:38:24] Features: 12/20 -- score: 0.9140823498244682[Parallel(n_jobs=1)]: Using backend SequentialBackend with 1 concurrent workers.\n",
      "[Parallel(n_jobs=1)]: Done   1 out of   1 | elapsed:    0.5s remaining:    0.0s\n",
      "[Parallel(n_jobs=1)]: Done   8 out of   8 | elapsed:    3.9s finished\n",
      "\n",
      "[2022-01-17 12:38:28] Features: 13/20 -- score: 0.9137861040460066[Parallel(n_jobs=1)]: Using backend SequentialBackend with 1 concurrent workers.\n",
      "[Parallel(n_jobs=1)]: Done   1 out of   1 | elapsed:    0.5s remaining:    0.0s\n",
      "[Parallel(n_jobs=1)]: Done   7 out of   7 | elapsed:    3.5s finished\n",
      "\n",
      "[2022-01-17 12:38:32] Features: 14/20 -- score: 0.9152014831849388[Parallel(n_jobs=1)]: Using backend SequentialBackend with 1 concurrent workers.\n",
      "[Parallel(n_jobs=1)]: Done   1 out of   1 | elapsed:    0.5s remaining:    0.0s\n",
      "[Parallel(n_jobs=1)]: Done   6 out of   6 | elapsed:    2.9s finished\n",
      "\n",
      "[2022-01-17 12:38:35] Features: 15/20 -- score: 0.9143120617320273[Parallel(n_jobs=1)]: Using backend SequentialBackend with 1 concurrent workers.\n",
      "[Parallel(n_jobs=1)]: Done   1 out of   1 | elapsed:    0.5s remaining:    0.0s\n",
      "[Parallel(n_jobs=1)]: Done   5 out of   5 | elapsed:    2.7s finished\n",
      "\n",
      "[2022-01-17 12:38:37] Features: 16/20 -- score: 0.9147524645045021[Parallel(n_jobs=1)]: Using backend SequentialBackend with 1 concurrent workers.\n",
      "[Parallel(n_jobs=1)]: Done   1 out of   1 | elapsed:    0.5s remaining:    0.0s\n",
      "[Parallel(n_jobs=1)]: Done   4 out of   4 | elapsed:    2.1s finished\n",
      "\n",
      "[2022-01-17 12:38:39] Features: 17/20 -- score: 0.9147977340056835[Parallel(n_jobs=1)]: Using backend SequentialBackend with 1 concurrent workers.\n",
      "[Parallel(n_jobs=1)]: Done   1 out of   1 | elapsed:    0.5s remaining:    0.0s\n",
      "[Parallel(n_jobs=1)]: Done   3 out of   3 | elapsed:    1.5s finished\n",
      "\n",
      "[2022-01-17 12:38:41] Features: 18/20 -- score: 0.9139731757287737[Parallel(n_jobs=1)]: Using backend SequentialBackend with 1 concurrent workers.\n",
      "[Parallel(n_jobs=1)]: Done   1 out of   1 | elapsed:    0.5s remaining:    0.0s\n",
      "[Parallel(n_jobs=1)]: Done   2 out of   2 | elapsed:    1.0s finished\n",
      "\n",
      "[2022-01-17 12:38:42] Features: 19/20 -- score: 0.9130244222188258[Parallel(n_jobs=1)]: Using backend SequentialBackend with 1 concurrent workers.\n",
      "[Parallel(n_jobs=1)]: Done   1 out of   1 | elapsed:    0.5s remaining:    0.0s\n",
      "[Parallel(n_jobs=1)]: Done   1 out of   1 | elapsed:    0.5s finished\n",
      "\n",
      "[2022-01-17 12:38:42] Features: 20/20 -- score: 0.9110306837793343"
     ]
    }
   ],
   "source": [
    "# copy train and test set\n",
    "X_train_forward = X_train.copy()\n",
    "X_test_forward = X_test.copy()\n",
    "\n",
    "\n",
    "# within the SFS we indicate:\n",
    "\n",
    "# 1) the algorithm we sant to create, in this case RFs\n",
    "\n",
    "# 2) the stopping criteria: want to select 15 features\n",
    "\n",
    "# 3) whether to perform step forward or step backward\n",
    "\n",
    "# 4) the evaluation metric: in this case the roc-auc\n",
    "# 5) the cross-validation\n",
    "\n",
    "sfs = SFS(RandomForestClassifier(n_estimators=10, n_jobs=1, random_state=0), \n",
    "         k_features=20, \n",
    "         forward=True, \n",
    "         floating=False, \n",
    "         verbose=2,\n",
    "         scoring='roc_auc',\n",
    "         cv=3)\n",
    "\n",
    "sfs = sfs.fit(np.array(X_train_forward), y_train)"
   ]
  },
  {
   "cell_type": "markdown",
   "id": "0557c829",
   "metadata": {},
   "source": [
    "It seems like we need to use all features, because the model performance did not improve by removing some features. "
   ]
  },
  {
   "cell_type": "markdown",
   "id": "98a2a49b",
   "metadata": {},
   "source": [
    "### Step Backward Feature Selection"
   ]
  },
  {
   "cell_type": "markdown",
   "id": "bcd358db",
   "metadata": {},
   "source": [
    "Step Backward feature selection starts by fitting a model using all features in the data set and determining its performance. \n",
    "\n",
    "Then, it trains models on all possible combinations of all features -1, and removes the feature that returns the model with the lowest performance. \n",
    "\n",
    "In the third step it trains models in all possible combinations of the features remaining from step 2 -1 feature, and removes the feature that produced the lowest performing model. \n",
    "\n",
    "The algorithm stops on a criteria determined by the user. This criteria could be that the model performance does not decrease beyond a certain threshold, or alternatively, as in the mlxtend implementation, when we reach a certain number of selected features. "
   ]
  },
  {
   "cell_type": "code",
   "execution_count": 66,
   "id": "0203a7cf",
   "metadata": {},
   "outputs": [
    {
     "name": "stderr",
     "output_type": "stream",
     "text": [
      "[Parallel(n_jobs=1)]: Using backend SequentialBackend with 1 concurrent workers.\n",
      "[Parallel(n_jobs=1)]: Done   1 out of   1 | elapsed:    0.5s remaining:    0.0s\n",
      "[Parallel(n_jobs=1)]: Done  20 out of  20 | elapsed:    9.8s finished\n",
      "\n",
      "[2022-01-17 12:43:01] Features: 19/2 -- score: 0.9145501363623172[Parallel(n_jobs=1)]: Using backend SequentialBackend with 1 concurrent workers.\n",
      "[Parallel(n_jobs=1)]: Done   1 out of   1 | elapsed:    0.5s remaining:    0.0s\n",
      "[Parallel(n_jobs=1)]: Done  19 out of  19 | elapsed:    9.6s finished\n",
      "\n",
      "[2022-01-17 12:43:11] Features: 18/2 -- score: 0.9158213600799202[Parallel(n_jobs=1)]: Using backend SequentialBackend with 1 concurrent workers.\n",
      "[Parallel(n_jobs=1)]: Done   1 out of   1 | elapsed:    0.5s remaining:    0.0s\n",
      "[Parallel(n_jobs=1)]: Done  18 out of  18 | elapsed:    9.2s finished\n",
      "\n",
      "[2022-01-17 12:43:20] Features: 17/2 -- score: 0.9151258801606653[Parallel(n_jobs=1)]: Using backend SequentialBackend with 1 concurrent workers.\n",
      "[Parallel(n_jobs=1)]: Done   1 out of   1 | elapsed:    0.5s remaining:    0.0s\n",
      "[Parallel(n_jobs=1)]: Done  17 out of  17 | elapsed:    8.7s finished\n",
      "\n",
      "[2022-01-17 12:43:29] Features: 16/2 -- score: 0.9163036319997362[Parallel(n_jobs=1)]: Using backend SequentialBackend with 1 concurrent workers.\n",
      "[Parallel(n_jobs=1)]: Done   1 out of   1 | elapsed:    0.5s remaining:    0.0s\n",
      "[Parallel(n_jobs=1)]: Done  16 out of  16 | elapsed:    7.6s finished\n",
      "\n",
      "[2022-01-17 12:43:37] Features: 15/2 -- score: 0.9145881926524234[Parallel(n_jobs=1)]: Using backend SequentialBackend with 1 concurrent workers.\n",
      "[Parallel(n_jobs=1)]: Done   1 out of   1 | elapsed:    0.5s remaining:    0.0s\n",
      "[Parallel(n_jobs=1)]: Done  15 out of  15 | elapsed:    7.1s finished\n",
      "\n",
      "[2022-01-17 12:43:44] Features: 14/2 -- score: 0.9142504484029544[Parallel(n_jobs=1)]: Using backend SequentialBackend with 1 concurrent workers.\n",
      "[Parallel(n_jobs=1)]: Done   1 out of   1 | elapsed:    0.5s remaining:    0.0s\n",
      "[Parallel(n_jobs=1)]: Done  14 out of  14 | elapsed:    6.7s finished\n",
      "\n",
      "[2022-01-17 12:43:50] Features: 13/2 -- score: 0.9158903595055335[Parallel(n_jobs=1)]: Using backend SequentialBackend with 1 concurrent workers.\n",
      "[Parallel(n_jobs=1)]: Done   1 out of   1 | elapsed:    0.5s remaining:    0.0s\n",
      "[Parallel(n_jobs=1)]: Done  13 out of  13 | elapsed:    6.3s finished\n",
      "\n",
      "[2022-01-17 12:43:57] Features: 12/2 -- score: 0.915595549422879[Parallel(n_jobs=1)]: Using backend SequentialBackend with 1 concurrent workers.\n",
      "[Parallel(n_jobs=1)]: Done   1 out of   1 | elapsed:    0.5s remaining:    0.0s\n",
      "[Parallel(n_jobs=1)]: Done  12 out of  12 | elapsed:    5.9s finished\n",
      "\n",
      "[2022-01-17 12:44:03] Features: 11/2 -- score: 0.9136352248581852[Parallel(n_jobs=1)]: Using backend SequentialBackend with 1 concurrent workers.\n",
      "[Parallel(n_jobs=1)]: Done   1 out of   1 | elapsed:    0.5s remaining:    0.0s\n",
      "[Parallel(n_jobs=1)]: Done  11 out of  11 | elapsed:    5.5s finished\n",
      "\n",
      "[2022-01-17 12:44:08] Features: 10/2 -- score: 0.9139044081231104[Parallel(n_jobs=1)]: Using backend SequentialBackend with 1 concurrent workers.\n",
      "[Parallel(n_jobs=1)]: Done   1 out of   1 | elapsed:    0.5s remaining:    0.0s\n",
      "[Parallel(n_jobs=1)]: Done  10 out of  10 | elapsed:    5.1s finished\n",
      "\n",
      "[2022-01-17 12:44:13] Features: 9/2 -- score: 0.9141073559766636[Parallel(n_jobs=1)]: Using backend SequentialBackend with 1 concurrent workers.\n",
      "[Parallel(n_jobs=1)]: Done   1 out of   1 | elapsed:    0.4s remaining:    0.0s\n",
      "[Parallel(n_jobs=1)]: Done   9 out of   9 | elapsed:    3.9s finished\n",
      "\n",
      "[2022-01-17 12:44:17] Features: 8/2 -- score: 0.9074927738374182[Parallel(n_jobs=1)]: Using backend SequentialBackend with 1 concurrent workers.\n",
      "[Parallel(n_jobs=1)]: Done   1 out of   1 | elapsed:    0.5s remaining:    0.0s\n",
      "[Parallel(n_jobs=1)]: Done   8 out of   8 | elapsed:    3.5s finished\n",
      "\n",
      "[2022-01-17 12:44:21] Features: 7/2 -- score: 0.9061032365327231[Parallel(n_jobs=1)]: Using backend SequentialBackend with 1 concurrent workers.\n",
      "[Parallel(n_jobs=1)]: Done   1 out of   1 | elapsed:    0.4s remaining:    0.0s\n",
      "[Parallel(n_jobs=1)]: Done   7 out of   7 | elapsed:    3.1s finished\n",
      "\n",
      "[2022-01-17 12:44:24] Features: 6/2 -- score: 0.9027296881407579[Parallel(n_jobs=1)]: Using backend SequentialBackend with 1 concurrent workers.\n",
      "[Parallel(n_jobs=1)]: Done   1 out of   1 | elapsed:    0.5s remaining:    0.0s\n",
      "[Parallel(n_jobs=1)]: Done   6 out of   6 | elapsed:    2.7s finished\n",
      "\n",
      "[2022-01-17 12:44:26] Features: 5/2 -- score: 0.8992604809909269[Parallel(n_jobs=1)]: Using backend SequentialBackend with 1 concurrent workers.\n",
      "[Parallel(n_jobs=1)]: Done   1 out of   1 | elapsed:    0.5s remaining:    0.0s\n",
      "[Parallel(n_jobs=1)]: Done   5 out of   5 | elapsed:    2.3s finished\n",
      "\n",
      "[2022-01-17 12:44:29] Features: 4/2 -- score: 0.8964400085243058[Parallel(n_jobs=1)]: Using backend SequentialBackend with 1 concurrent workers.\n",
      "[Parallel(n_jobs=1)]: Done   1 out of   1 | elapsed:    0.4s remaining:    0.0s\n",
      "[Parallel(n_jobs=1)]: Done   4 out of   4 | elapsed:    1.5s finished\n",
      "\n",
      "[2022-01-17 12:44:30] Features: 3/2 -- score: 0.8829678169149471[Parallel(n_jobs=1)]: Using backend SequentialBackend with 1 concurrent workers.\n",
      "[Parallel(n_jobs=1)]: Done   1 out of   1 | elapsed:    0.4s remaining:    0.0s\n",
      "[Parallel(n_jobs=1)]: Done   3 out of   3 | elapsed:    1.2s finished\n",
      "\n",
      "[2022-01-17 12:44:31] Features: 2/2 -- score: 0.8739349552109434"
     ]
    }
   ],
   "source": [
    "# copy train and test set\n",
    "X_train_backward = X_train.copy()\n",
    "X_test_backward = X_test.copy()\n",
    "\n",
    "\n",
    "# within the SFS we indicate:\n",
    "\n",
    "# 1) the algorithm we sant to create, in this case RFs\n",
    "\n",
    "# 2) the stopping criteria: want to select 15 features\n",
    "\n",
    "# 3) whether to perform step forward or step backward\n",
    "\n",
    "# 4) the evaluation metric: in this case the roc-auc\n",
    "# 5) the cross-validation\n",
    "\n",
    "sfs = SFS(RandomForestClassifier(n_estimators=10, n_jobs=1, random_state=0), \n",
    "         k_features=2, \n",
    "         forward=False, \n",
    "         floating=False, \n",
    "         verbose=2,\n",
    "         scoring='roc_auc',\n",
    "         cv=3)\n",
    "\n",
    "sfs = sfs.fit(np.array(X_train_backward), y_train)"
   ]
  },
  {
   "cell_type": "markdown",
   "id": "bb61959f",
   "metadata": {},
   "source": [
    "## Embedding Methods"
   ]
  },
  {
   "cell_type": "markdown",
   "id": "ed45094a",
   "metadata": {},
   "source": [
    "### Random Forest Importance"
   ]
  },
  {
   "cell_type": "markdown",
   "id": "e118f805",
   "metadata": {},
   "source": [
    "Random Forests is one of the most popular machine learning algorithms. It is so successful because it provide good predictive performance, low overfitting and easy interpretability. This interpretability is given by the fact that is straightforward to derive the importance of each variable on the tree decision. In other words, it is easy to compute how much each variable is contributing to the decision. \n",
    "\n",
    "Random forests consist typically of 4-12 hundred decision trees, each of them built over a random extraction of the observations from the dataset and a random extraction of the features. Not every tree sees all the features or all the observations, and this guarantees that the trees are de-correlated and therefore less prone to over-fitting. Each tree is also a sequence of yes-no questions based on a single or a combination of features. At each node, the three divides the dataset in 2 buckets, each of them hosting observations that are more similar among themselves and different from the ones in the other bucket. Therefore, the importance of each feature is derived by how \"pure\" each of the buckets is.\n",
    "\n",
    "For classification, the measure of impurity is either Gini or the entropy. For regression, the measure of impurity is the variance. When training a tree, it is possible to compute how much each feature decreases the impurity. The more a feature decreases the impurity, the more important the feature is. In random forests, the impurity decrease elicited by each feature is averaged across trees to determine the final importance of the variable. \n",
    "\n",
    "In general, features that are selected at the top of the trees are more important than features that are selected at the end nodes of the trees, as generally the top splits lead to bigger information gains. \n",
    "\n",
    "\n",
    "__Note__\n",
    "- Random Forests and decision trees in general give preference to features with high cardinality. \n",
    "- Correlated features will be given equal or similar importance, but overall reduced importance compared to the same tree built without correlated counterparts. \n",
    "\n",
    "\n",
    "Selecting features by using tree derived feature importance is a very straightforward, fast and generally accurate way of selecting good features for machine learning. In particular, if you are going to build tree methods. "
   ]
  },
  {
   "cell_type": "code",
   "execution_count": 73,
   "id": "cad228a7",
   "metadata": {},
   "outputs": [],
   "source": [
    "from sklearn.linear_model import Lasso\n",
    "from sklearn.feature_selection import SelectFromModel"
   ]
  },
  {
   "cell_type": "code",
   "execution_count": 69,
   "id": "cc507e54",
   "metadata": {},
   "outputs": [
    {
     "data": {
      "text/plain": [
       "SelectFromModel(estimator=RandomForestClassifier(n_estimators=10,\n",
       "                                                 random_state=10))"
      ]
     },
     "execution_count": 69,
     "metadata": {},
     "output_type": "execute_result"
    }
   ],
   "source": [
    "# copy train and test set\n",
    "X_train_rf = X_train.copy()\n",
    "X_test_rf = X_test.copy()\n",
    "\n",
    "# here I will do the model fitting and feature selection altogeter\n",
    "# 1) specify the Random Forest model\n",
    "# 2) select Lasso penalty\n",
    "# 3) use selectFromModel from sklearn, which will select the features \n",
    "# which coefficients are non-zero\n",
    "\n",
    "sel_ = SelectFromModel(\n",
    "    RandomForestClassifier(n_estimators=10, random_state=10))\n",
    "\n",
    "sel_.fit(X_train_rf, y_train)"
   ]
  },
  {
   "cell_type": "code",
   "execution_count": 70,
   "id": "3914a878",
   "metadata": {},
   "outputs": [
    {
     "data": {
      "text/plain": [
       "array([ True, False, False, False, False, False, False, False, False,\n",
       "        True, False, False, False, False, False, False,  True,  True,\n",
       "       False, False])"
      ]
     },
     "execution_count": 70,
     "metadata": {},
     "output_type": "execute_result"
    }
   ],
   "source": [
    "sel_.get_support()"
   ]
  },
  {
   "cell_type": "code",
   "execution_count": 71,
   "id": "a895548f",
   "metadata": {},
   "outputs": [
    {
     "data": {
      "text/plain": [
       "4"
      ]
     },
     "execution_count": 71,
     "metadata": {},
     "output_type": "execute_result"
    }
   ],
   "source": [
    "# let's make a list and count the selected features\n",
    "selected_feat = X_train_rf.columns[(sel_.get_support())]\n",
    "len(selected_feat)"
   ]
  },
  {
   "cell_type": "code",
   "execution_count": 72,
   "id": "9f0dfc8a",
   "metadata": {},
   "outputs": [
    {
     "data": {
      "text/plain": [
       "Index(['job', 'duration', 'euribor3m', 'nr.employed'], dtype='object')"
      ]
     },
     "execution_count": 72,
     "metadata": {},
     "output_type": "execute_result"
    }
   ],
   "source": [
    "selected_feat"
   ]
  },
  {
   "cell_type": "code",
   "execution_count": 74,
   "id": "3f6320da",
   "metadata": {},
   "outputs": [
    {
     "data": {
      "image/png": "[encoded data removed]",
      "text/plain": [
       "<Figure size 432x288 with 1 Axes>"
      ]
     },
     "metadata": {
      "needs_background": "light"
     },
     "output_type": "display_data"
    }
   ],
   "source": [
    "# let's plot the distribution of importances\n",
    "pd.Series(sel_.estimator_.feature_importances_.ravel()).hist(bins=20)\n",
    "plt.xlabel('Feature importance')\n",
    "plt.ylabel('Number of Features')\n",
    "plt.show()"
   ]
  },
  {
   "cell_type": "code",
   "execution_count": 75,
   "id": "6a8161a0",
   "metadata": {},
   "outputs": [
    {
     "name": "stdout",
     "output_type": "stream",
     "text": [
      "Train set\n",
      "RF roc-auc: 0.9252639401098965\n",
      "Test set\n",
      "RF roc-auc: 0.9263813614826965\n"
     ]
    },
    {
     "data": {
      "text/plain": [
       "0.9263813614826965"
      ]
     },
     "execution_count": 75,
     "metadata": {},
     "output_type": "execute_result"
    }
   ],
   "source": [
    "X_train_rf = X_train_rf[selected_feat]\n",
    "X_test_rf = X_test_rf[selected_feat]\n",
    "\n",
    "run_RFs(X_train_rf, X_test_rf, y_train, y_test)"
   ]
  },
  {
   "cell_type": "code",
   "execution_count": 76,
   "id": "0d981b71",
   "metadata": {},
   "outputs": [
    {
     "name": "stdout",
     "output_type": "stream",
     "text": [
      "Train set\n",
      "RF roc-auc: 0.9277391477348833\n",
      "Test set\n",
      "RF roc-auc: 0.9301929165098902\n"
     ]
    },
    {
     "data": {
      "text/plain": [
       "0.9301929165098902"
      ]
     },
     "execution_count": 76,
     "metadata": {},
     "output_type": "execute_result"
    }
   ],
   "source": [
    "run_RFs(X_train, X_test, y_train, y_test)"
   ]
  },
  {
   "cell_type": "markdown",
   "id": "f9c769e0",
   "metadata": {},
   "source": [
    "Interestingly, the model performance with 4 features is similar to all features (20)"
   ]
  },
  {
   "cell_type": "markdown",
   "id": "17fa54c8",
   "metadata": {},
   "source": [
    "### Recursive Feature Selection using RFs importance"
   ]
  },
  {
   "cell_type": "markdown",
   "id": "da3eb02f",
   "metadata": {},
   "source": [
    "Random forests assign equal or similar importance to features that are highly correlated. In addition, when features are correlated, the importance assigned is lower than the importance attributed to the feature itself, should the tree be built without the correlated counterparts. \n",
    "\n",
    "Therefore, instead of eliminating features based on importance by brute force like we did, we could get a better selection by removing one feature at a time, and recalculating the importance on each round. this procedure is called __Recursive Feature Elimination (RFE)__\n",
    "\n",
    "RFE is a hybrid between embedded and wrapper methods: it is based on computation dericed when fitting the model, but it also requires fitting several models.\n",
    "\n",
    "The cycle is as follows:\n",
    "\n",
    "- Build Random Forests using all features\n",
    "- Remove least important feature\n",
    "- Build Random Forests and recalculate importance\n",
    "- Repeat until a criteria is met\n",
    "\n",
    "In this situation, when a feature that is highly correlated to another one is removed, then the importance of the remaining feature increases. This may lead to a better feature space selection. On the downside, building several RF is quite time and compute resource consuming, in particular if the dataset contains a high number of features. "
   ]
  },
  {
   "cell_type": "code",
   "execution_count": 77,
   "id": "d8685736",
   "metadata": {},
   "outputs": [],
   "source": [
    "from sklearn.feature_selection import RFE"
   ]
  },
  {
   "cell_type": "code",
   "execution_count": 78,
   "id": "d2a09037",
   "metadata": {},
   "outputs": [
    {
     "data": {
      "text/plain": [
       "RFE(estimator=RandomForestClassifier(n_estimators=10, random_state=10),\n",
       "    n_features_to_select=15)"
      ]
     },
     "execution_count": 78,
     "metadata": {},
     "output_type": "execute_result"
    }
   ],
   "source": [
    "# copy train and test set\n",
    "X_train_rfe = X_train.copy()\n",
    "X_test_rfe = X_test.copy()\n",
    "\n",
    "sel_ = RFE(RandomForestClassifier(n_estimators=10, random_state=10), \n",
    "           n_features_to_select=15)\n",
    "sel_.fit(X_train_rfe, y_train)"
   ]
  },
  {
   "cell_type": "code",
   "execution_count": 79,
   "id": "38674c71",
   "metadata": {},
   "outputs": [
    {
     "data": {
      "text/plain": [
       "15"
      ]
     },
     "execution_count": 79,
     "metadata": {},
     "output_type": "execute_result"
    }
   ],
   "source": [
    "# selected features\n",
    "selected_feat = X_train_rfe.columns[(sel_.get_support())]\n",
    "len(selected_feat)"
   ]
  },
  {
   "cell_type": "code",
   "execution_count": 80,
   "id": "b7c39791",
   "metadata": {},
   "outputs": [
    {
     "data": {
      "text/plain": [
       "Index(['job', 'marital', 'education', 'housing', 'month', 'day_of_week',\n",
       "       'duration', 'campaign', 'poutcome', 'cons.price.idx', 'cons.conf.idx',\n",
       "       'euribor3m', 'nr.employed', 'age_group', 'pdays_group'],\n",
       "      dtype='object')"
      ]
     },
     "execution_count": 80,
     "metadata": {},
     "output_type": "execute_result"
    }
   ],
   "source": [
    "selected_feat"
   ]
  },
  {
   "cell_type": "code",
   "execution_count": 81,
   "id": "f0a7edb0",
   "metadata": {},
   "outputs": [
    {
     "name": "stdout",
     "output_type": "stream",
     "text": [
      "Train set\n",
      "RF roc-auc: 0.9269670366189108\n",
      "Test set\n",
      "RF roc-auc: 0.9296192992926082\n"
     ]
    },
    {
     "data": {
      "text/plain": [
       "0.9296192992926082"
      ]
     },
     "execution_count": 81,
     "metadata": {},
     "output_type": "execute_result"
    }
   ],
   "source": [
    "X_train_rfe = X_train_rfe[selected_feat]\n",
    "X_test_rfe = X_test_rfe[selected_feat]\n",
    "run_RFs(X_train_rfe, X_test_rfe, y_train, y_test)"
   ]
  },
  {
   "cell_type": "markdown",
   "id": "be7e4f4d",
   "metadata": {},
   "source": [
    "This one is slightly better than when we used 4 features"
   ]
  },
  {
   "cell_type": "code",
   "execution_count": 84,
   "id": "18f185ea",
   "metadata": {},
   "outputs": [
    {
     "name": "stdout",
     "output_type": "stream",
     "text": [
      "16\n",
      "Index(['job', 'marital', 'education', 'housing', 'loan', 'month',\n",
      "       'day_of_week', 'duration', 'campaign', 'poutcome', 'cons.price.idx',\n",
      "       'cons.conf.idx', 'euribor3m', 'nr.employed', 'age_group',\n",
      "       'pdays_group'],\n",
      "      dtype='object')\n",
      "Train set\n",
      "RF roc-auc: 0.9286474530797659\n",
      "Test set\n",
      "RF roc-auc: 0.9318357985267276\n"
     ]
    },
    {
     "data": {
      "text/plain": [
       "0.9318357985267276"
      ]
     },
     "execution_count": 84,
     "metadata": {},
     "output_type": "execute_result"
    }
   ],
   "source": [
    "# copy train and test set\n",
    "X_train_rfe = X_train.copy()\n",
    "X_test_rfe = X_test.copy()\n",
    "\n",
    "sel_ = RFE(RandomForestClassifier(n_estimators=10, random_state=10), \n",
    "           n_features_to_select=16)\n",
    "sel_.fit(X_train_rfe, y_train)\n",
    "\n",
    "selected_feat = X_train_rfe.columns[(sel_.get_support())]\n",
    "print(len(selected_feat))\n",
    "print(selected_feat)\n",
    "\n",
    "X_train_rfe = X_train_rfe[selected_feat]\n",
    "X_test_rfe = X_test_rfe[selected_feat]\n",
    "run_RFs(X_train_rfe, X_test_rfe, y_train, y_test)"
   ]
  },
  {
   "cell_type": "code",
   "execution_count": 90,
   "id": "eea6cfe9",
   "metadata": {},
   "outputs": [
    {
     "name": "stdout",
     "output_type": "stream",
     "text": [
      "20\n",
      "Index(['job', 'marital', 'education', 'default', 'housing', 'loan', 'contact',\n",
      "       'month', 'day_of_week', 'duration', 'campaign', 'previous', 'poutcome',\n",
      "       'emp.var.rate', 'cons.price.idx', 'cons.conf.idx', 'euribor3m',\n",
      "       'nr.employed', 'age_group', 'pdays_group'],\n",
      "      dtype='object')\n",
      "Train set\n",
      "RF roc-auc: 0.9277391477348833\n",
      "Test set\n",
      "RF roc-auc: 0.9301929165098902\n"
     ]
    },
    {
     "data": {
      "text/plain": [
       "0.9301929165098902"
      ]
     },
     "execution_count": 90,
     "metadata": {},
     "output_type": "execute_result"
    }
   ],
   "source": [
    "# copy train and test set\n",
    "X_train_rfe = X_train.copy()\n",
    "X_test_rfe = X_test.copy()\n",
    "\n",
    "sel_ = RFE(RandomForestClassifier(n_estimators=10, random_state=10), \n",
    "           n_features_to_select=20)\n",
    "sel_.fit(X_train_rfe, y_train)\n",
    "\n",
    "selected_feat = X_train_rfe.columns[(sel_.get_support())]\n",
    "print(len(selected_feat))\n",
    "print(selected_feat)\n",
    "\n",
    "X_train_rfe = X_train_rfe[selected_feat]\n",
    "X_test_rfe = X_test_rfe[selected_feat]\n",
    "run_RFs(X_train_rfe, X_test_rfe, y_train, y_test)"
   ]
  },
  {
   "cell_type": "markdown",
   "id": "4aeeb889",
   "metadata": {},
   "source": [
    "As we can see above, when we use 16 features to build a model, it shows the best score. "
   ]
  },
  {
   "cell_type": "code",
   "execution_count": null,
   "id": "7607fc8a",
   "metadata": {},
   "outputs": [],
   "source": []
  }
 ],
 "metadata": {
  "kernelspec": {
   "display_name": "Python 3",
   "language": "python",
   "name": "python3"
  },
  "language_info": {
   "codemirror_mode": {
    "name": "ipython",
    "version": 3
   },
   "file_extension": ".py",
   "mimetype": "text/x-python",
   "name": "python",
   "nbconvert_exporter": "python",
   "pygments_lexer": "ipython3",
   "version": "3.8.8"
  },
  "toc": {
   "base_numbering": 1,
   "nav_menu": {},
   "number_sections": true,
   "sideBar": true,
   "skip_h1_title": true,
   "title_cell": "Table of Contents",
   "title_sidebar": "Contents",
   "toc_cell": true,
   "toc_position": {},
   "toc_section_display": true,
   "toc_window_display": false
  },
  "varInspector": {
   "cols": {
    "lenName": 16,
    "lenType": 16,
    "lenVar": 40
   },
   "kernels_config": {
    "python": {
     "delete_cmd_postfix": "",
     "delete_cmd_prefix": "del ",
     "library": "var_list.py",
     "varRefreshCmd": "print(var_dic_list())"
    },
    "r": {
     "delete_cmd_postfix": ") ",
     "delete_cmd_prefix": "rm(",
     "library": "var_list.r",
     "varRefreshCmd": "cat(var_dic_list()) "
    }
   },
   "types_to_exclude": [
    "module",
    "function",
    "builtin_function_or_method",
    "instance",
    "_Feature"
   ],
   "window_display": false
  }
 },
 "nbformat": 4,
 "nbformat_minor": 5
}
